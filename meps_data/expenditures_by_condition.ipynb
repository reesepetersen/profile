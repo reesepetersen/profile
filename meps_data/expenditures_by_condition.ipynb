{
 "cells": [
  {
   "cell_type": "markdown",
   "id": "d0c00c6e-48e3-49a2-aca3-37772174e085",
   "metadata": {},
   "source": [
    "# Which Medical Conditions Cost the Most?"
   ]
  },
  {
   "cell_type": "markdown",
   "id": "291ec262-dd79-4919-a45a-ee4667ae79c0",
   "metadata": {},
   "source": [
    "*Reese Petersen, 28 Sep 2021*"
   ]
  },
  {
   "cell_type": "markdown",
   "id": "f033fd22-2174-44bc-9af0-ce2ef150bbad",
   "metadata": {},
   "source": [
    "## Introduction"
   ]
  },
  {
   "cell_type": "markdown",
   "id": "8c5dffdf-5063-4a78-845e-568b3d657e04",
   "metadata": {},
   "source": [
    "Why is healthcare so expensive? Many Americans may ask this question when looking for health insurance or seeing medical bills. While the answer to this question is complex and multi-faceted, we can make some progress in addressing healthcare costs by finding out which common conditions cost the most.\n",
    "\n",
    "To be more specific, we can ask the question \"In 2019, did Americans with the 5 most prevalent medical conditions spend significantly different amounts on average by condition?\". Since the types of complications and treatments associated with different medical conditions can vary significantly I expect that there will be significant differences in the average expenditure per person by condition. There are also other, related questions worth exploring like \"Which conditions do Americans spend the most on in total?\" and \"What conditions cost the most per person regardless of prevalence?\".\n",
    "\n",
    "The answers to these questions may be useful to policy-makers and consumers of medical services, since it will help them know what conditions to prevent to save money. These results may also be useful to insurance providers both to save money and to create useful policies."
   ]
  },
  {
   "cell_type": "markdown",
   "id": "ebf8ea38-9e15-4543-b948-789774489c33",
   "metadata": {},
   "source": [
    "## Data"
   ]
  },
  {
   "cell_type": "markdown",
   "id": "e5b782b0-962a-4468-bed1-5907a06865b3",
   "metadata": {},
   "source": [
    "### Data Source"
   ]
  },
  {
   "cell_type": "markdown",
   "id": "2a36cc63-5a07-4d86-8feb-59397b00b292",
   "metadata": {},
   "source": [
    "   The United States Department of Health & Human Services directs the Agency for Healthcare Research and Quality, which conducts a Medical Expenditure Panel Survey (MEPS) every year. The most recent year availble is 2019. Therefore, the data files used in this analysis can be obtained from https://meps.ahrq.gov/mepsweb/data_stats/download_data_files.jsp by selecting Year: 2019 and checking Medical Conditions files, Household Component Event files, and Appendix to MEPS Event files, and then clicking \"Search\"."
   ]
  },
  {
   "cell_type": "markdown",
   "id": "43c371f1-70f7-4a6a-bdc2-8a6b756426b7",
   "metadata": {},
   "source": [
    "![meps.arhq.gov/mepsweb/data_stats/download_data_files.jsp](MepsDataSelection.png \"Selected MEPS files\")"
   ]
  },
  {
   "cell_type": "markdown",
   "id": "53929672-f948-4b37-a53d-0ddde9e633bd",
   "metadata": {},
   "source": [
    "I downloaded theses data files in .xlsx format, which I converted to .csv format with ssconvert. \n",
    "\n",
    "There is also a table of ICD10CDX medical conditions at https://meps.ahrq.gov/data_stats/download_data/pufs/h214/h214doc.pdf, which I converted to plain text with pdftotext, and then to a csv-similar format with regular expressions in Vim. \n",
    "\n",
    "To obtain the converted files directly you can also go to https://drive.google.com/drive/folders/1UAiIL0ZOH0pcc_Q-jqoolI4F0LkpyDFw?usp=sharing\n",
    "\n",
    "The questionnaire sections and data collection process can be obtained from https://meps.ahrq.gov/mepsweb/survey_comp/survey.jsp."
   ]
  },
  {
   "cell_type": "markdown",
   "id": "855bbff5-dde7-4f16-ac6e-9d5f7b29c3af",
   "metadata": {},
   "source": [
    "### Data Analysis"
   ]
  },
  {
   "cell_type": "markdown",
   "id": "28371dc8-c39c-4b6c-b717-81725cc4d7ee",
   "metadata": {},
   "source": [
    "Importing libraries:"
   ]
  },
  {
   "cell_type": "code",
   "execution_count": 1,
   "id": "d9948cb8",
   "metadata": {},
   "outputs": [],
   "source": [
    "import matplotlib.pyplot as plt # plotting\n",
    "plt.rcParams['figure.figsize']=[9,6] # set figure size\n",
    "import numpy as np # data management, analysis\n",
    "import pandas as pd # data processing, plotting\n",
    "import seaborn as sns # data plotting\n",
    "from scipy import stats # data analysis\n",
    "import itertools # calculating combinations\n",
    "from IPython.core.interactiveshell import InteractiveShell\n",
    "InteractiveShell.ast_node_interactivity = \"all\" # print all output from each cell\n",
    "from rpy2.robjects.packages import importr # importing R packages"
   ]
  },
  {
   "cell_type": "markdown",
   "id": "8b19336b-ba36-4105-8552-efdc62075206",
   "metadata": {},
   "source": [
    "Loading csv data files:"
   ]
  },
  {
   "cell_type": "code",
   "execution_count": 2,
   "id": "b54f17f5",
   "metadata": {},
   "outputs": [],
   "source": [
    "med_cond_df = pd.read_csv('h214.csv')\n",
    "clnk_df = pd.read_csv('h213if1.csv')\n",
    "dental_visits_df = pd.read_csv('h213b.csv')\n",
    "other_med_expns_df = pd.read_csv('h213c.csv')\n",
    "hosp_inpatient_stays_df = pd.read_csv('h213d.csv')\n",
    "emergnc_room_df = pd.read_csv('h213e.csv')\n",
    "outpatient_visits_df = pd.read_csv('h213f.csv')\n",
    "obmp_visits_df = pd.read_csv('h213g.csv')\n",
    "home_health_df = pd.read_csv('h213h.csv')\n",
    "presc_med_df = pd.read_csv('h213a.csv')\n",
    "ICD10CDX_df = pd.read_csv('ICD10CDX_table.csv', delimiter=':')"
   ]
  },
  {
   "cell_type": "markdown",
   "id": "07a02afb-84f8-4f9b-9027-6fedfdd5a68a",
   "metadata": {},
   "source": [
    "Defining some useful functions:"
   ]
  },
  {
   "cell_type": "code",
   "execution_count": 3,
   "id": "b3a22f2e-c028-4e12-8b20-5fb001e15375",
   "metadata": {},
   "outputs": [],
   "source": [
    "def event_keep_columns(abbr):\n",
    "    keepers = ['DUPERSID','EVNTIDX','LINKIDX',abbr+'XP19X'] # Each event dataframe has a different 2-letter prefix before XP19X for the total payments column label.\n",
    "    return keepers # The prescribed medicines dataframe uses LINKIDX instead of EVNTIDX."
   ]
  },
  {
   "cell_type": "code",
   "execution_count": 4,
   "id": "6775d032-ae20-416b-9374-7786daa822a6",
   "metadata": {},
   "outputs": [],
   "source": [
    "def reduce_event_df(df, abbr):\n",
    "    all_keepers = event_keep_columns(abbr)\n",
    "    these_keepers = [keeper for keeper in all_keepers if keeper in df.columns]\n",
    "    res_df = df[these_keepers].rename(columns={abbr+'XP19X':'XP19X'}) # Rename the total payments column to prepare for concatenation.\n",
    "    return res_df"
   ]
  },
  {
   "cell_type": "markdown",
   "id": "a12dfa19-5695-4f75-9d65-e35ad5809f26",
   "metadata": {},
   "source": [
    "Let's find the most common conditions."
   ]
  },
  {
   "cell_type": "code",
   "execution_count": 5,
   "id": "ac1f016c-d61c-48c9-8d31-86ab352cd618",
   "metadata": {},
   "outputs": [
    {
     "data": {
      "text/html": [
       "<div>\n",
       "<style scoped>\n",
       "    .dataframe tbody tr th:only-of-type {\n",
       "        vertical-align: middle;\n",
       "    }\n",
       "\n",
       "    .dataframe tbody tr th {\n",
       "        vertical-align: top;\n",
       "    }\n",
       "\n",
       "    .dataframe thead th {\n",
       "        text-align: right;\n",
       "    }\n",
       "</style>\n",
       "<table border=\"1\" class=\"dataframe\">\n",
       "  <thead>\n",
       "    <tr style=\"text-align: right;\">\n",
       "      <th></th>\n",
       "      <th>ICD10CDX VALUE</th>\n",
       "      <th>ICD10CDX LABEL</th>\n",
       "      <th>UNWEIGHTED</th>\n",
       "      <th>WEIGHTED BY perwt19f</th>\n",
       "    </tr>\n",
       "  </thead>\n",
       "  <tbody>\n",
       "    <tr>\n",
       "      <th>114</th>\n",
       "      <td>I10</td>\n",
       "      <td>ESSENTIAL (PRIMARY) HYPERTENSION</td>\n",
       "      <td>6010</td>\n",
       "      <td>61865446.44</td>\n",
       "    </tr>\n",
       "    <tr>\n",
       "      <th>0</th>\n",
       "      <td>-15</td>\n",
       "      <td>CANNOT BE COMPUTED</td>\n",
       "      <td>4748</td>\n",
       "      <td>54495002.23</td>\n",
       "    </tr>\n",
       "    <tr>\n",
       "      <th>53</th>\n",
       "      <td>E78</td>\n",
       "      <td>DISORD LIPOPROTEIN METAB AND OTH LIPIDEM</td>\n",
       "      <td>4317</td>\n",
       "      <td>44945040.79</td>\n",
       "    </tr>\n",
       "    <tr>\n",
       "      <th>67</th>\n",
       "      <td>F41</td>\n",
       "      <td>OTHER ANXIETY DISORDERS</td>\n",
       "      <td>2247</td>\n",
       "      <td>26195597.38</td>\n",
       "    </tr>\n",
       "    <tr>\n",
       "      <th>44</th>\n",
       "      <td>E11</td>\n",
       "      <td>TYPE 2 DIABETES MELLITUS</td>\n",
       "      <td>2547</td>\n",
       "      <td>25118443.17</td>\n",
       "    </tr>\n",
       "    <tr>\n",
       "      <th>218</th>\n",
       "      <td>M25</td>\n",
       "      <td>OTHER JOINT DISORDER, NEC</td>\n",
       "      <td>2205</td>\n",
       "      <td>23684746.59</td>\n",
       "    </tr>\n",
       "    <tr>\n",
       "      <th>63</th>\n",
       "      <td>F32</td>\n",
       "      <td>MAJ DEPRESSIVE DISORDER, SINGLE EPISODE</td>\n",
       "      <td>1944</td>\n",
       "      <td>21771623.43</td>\n",
       "    </tr>\n",
       "    <tr>\n",
       "      <th>155</th>\n",
       "      <td>J45</td>\n",
       "      <td>ASTHMA</td>\n",
       "      <td>1783</td>\n",
       "      <td>19120005.61</td>\n",
       "    </tr>\n",
       "    <tr>\n",
       "      <th>229</th>\n",
       "      <td>M54</td>\n",
       "      <td>DORSALGIA</td>\n",
       "      <td>1738</td>\n",
       "      <td>18844197.92</td>\n",
       "    </tr>\n",
       "    <tr>\n",
       "      <th>214</th>\n",
       "      <td>M19</td>\n",
       "      <td>OTHER AND UNSPECIFIED OSTEOARTHRITIS</td>\n",
       "      <td>1764</td>\n",
       "      <td>17897016.92</td>\n",
       "    </tr>\n",
       "  </tbody>\n",
       "</table>\n",
       "</div>"
      ],
      "text/plain": [
       "    ICD10CDX VALUE                            ICD10CDX LABEL  UNWEIGHTED  \\\n",
       "114            I10          ESSENTIAL (PRIMARY) HYPERTENSION        6010   \n",
       "0              -15                        CANNOT BE COMPUTED        4748   \n",
       "53             E78  DISORD LIPOPROTEIN METAB AND OTH LIPIDEM        4317   \n",
       "67             F41                   OTHER ANXIETY DISORDERS        2247   \n",
       "44             E11                  TYPE 2 DIABETES MELLITUS        2547   \n",
       "218            M25                 OTHER JOINT DISORDER, NEC        2205   \n",
       "63             F32   MAJ DEPRESSIVE DISORDER, SINGLE EPISODE        1944   \n",
       "155            J45                                    ASTHMA        1783   \n",
       "229            M54                                 DORSALGIA        1738   \n",
       "214            M19      OTHER AND UNSPECIFIED OSTEOARTHRITIS        1764   \n",
       "\n",
       "     WEIGHTED BY perwt19f  \n",
       "114           61865446.44  \n",
       "0             54495002.23  \n",
       "53            44945040.79  \n",
       "67            26195597.38  \n",
       "44            25118443.17  \n",
       "218           23684746.59  \n",
       "63            21771623.43  \n",
       "155           19120005.61  \n",
       "229           18844197.92  \n",
       "214           17897016.92  "
      ]
     },
     "execution_count": 5,
     "metadata": {},
     "output_type": "execute_result"
    }
   ],
   "source": [
    "ICD10CDX_df.sort_values(by='WEIGHTED BY perwt19f', ascending=False).head(10)"
   ]
  },
  {
   "cell_type": "code",
   "execution_count": 56,
   "id": "ecf3285f-05f2-4078-b89b-f3affd034d5c",
   "metadata": {},
   "outputs": [
    {
     "data": {
      "text/plain": [
       "Text(0, 0.5, 'Condition')"
      ]
     },
     "execution_count": 56,
     "metadata": {},
     "output_type": "execute_result"
    },
    {
     "data": {
      "image/png": "[encoded data removed]",
      "text/plain": [
       "<Figure size 648x432 with 1 Axes>"
      ]
     },
     "metadata": {
      "needs_background": "light"
     },
     "output_type": "display_data"
    }
   ],
   "source": [
    "slide_friendly_top5_total_affected_df = ICD10CDX_df[['ICD10CDX','PERWT19F']].copy()\n",
    "slide_friendly_top5_total_affected_df.rename(columns={'ICD10CDX':'Condition'}, inplace=True)\n",
    "slide_friendly_top5_total_affected_df['Americans Affected (Millions)'] = (slide_friendly_top5_total_affected_df['PERWT19F']/1000000).round()\n",
    "label_dict = {'ESSENTIAL (PRIMARY) HYPERTENSION':'Hypertension','DISORD LIPOPROTEIN METAB AND OTH LIPIDEM':'Lipidemia','OTHER ANXIETY DISORDERS':'Anxiety','TYPE 2 DIABETES MELLITUS':'Diabetes','OTHER JOINT DISORDER, NEC':'Joint Disorder','CHRONIC ISCHEMIC HEART DISEASE':'Heart Disease','OTHER AND UNSPECIFIED OSTEOARTHRITIS':'Osteoarthritis'}\n",
    "slide_friendly_top5_total_affected_df.replace(to_replace=label_dict, inplace=True)\n",
    "top5_total_affected_barh = slide_friendly_top5_total_affected_df.sort_values(by='Americans Affected (Millions)',ascending=False).drop(0).head(5).reset_index()[['Condition','Americans Affected (Millions)']].plot.barh(x='Condition')\n",
    "plt.rcParams.update({'font.size':15})\n",
    "top5_total_affected_barh.set_ylabel('Condition',size=15)"
   ]
  },
  {
   "cell_type": "markdown",
   "id": "a904ae79-1d8f-46aa-8ee1-a455bd745831",
   "metadata": {},
   "source": [
    "These results are weighted to be representative of the US population as a whole by the variable 'PERWT19F'. Details on how this weight is calculated can be found here:\n",
    "https://meps.ahrq.gov/data_stats/download_data/pufs/h216/h216doc.pdf\n",
    "starting on page 129.\n",
    "\n",
    "It looks like the 5 most common conditions are hypertension, lipidemia, anxiety, type 2 diabetes, and joint disorders.\n",
    "This raises the question of how to classify these medical conditions. I am going to stick to the ICD10CDX labels.\n",
    "I note that at least 4 of these conditions are frequently associated with poor cardiovascular health, poor diet, and lack of exercise.\n",
    "\n",
    "The number of people included in the 2019 survey is 28,512 and consists only of non-institutionalized civilians. To make population-level estimates, we only use the 27,648 people with non-zero statistical weight (PERWT19F).\n",
    "\n",
    "Next, lets try to answer the main question at hand: In 2019, did Americans with the 5 most prevalent medical conditions spend significantly different amounts on average by condition?\n",
    "\n",
    "The average expense per person can be estimated by joining the Event File tables, the CLNK table, and the Medical Conditions table."
   ]
  },
  {
   "cell_type": "markdown",
   "id": "eea7c700-de39-439c-a088-df56c3a7c294",
   "metadata": {},
   "source": [
    "![https://github.com/HHS-AHRQ/MEPS/blob/master/Quick_Reference_Guides/meps_erd.pdf](meps_erd.png \"MEPS Entity Relationship Diagram\")"
   ]
  },
  {
   "cell_type": "markdown",
   "id": "69812fae-b213-489c-b650-11cf4aa4d0f6",
   "metadata": {},
   "source": [
    "First, I need to process the event dataframes (which contain expenses) into a single events dataframe:"
   ]
  },
  {
   "cell_type": "code",
   "execution_count": 6,
   "id": "89a39cb7-a046-4e7d-a055-a657f9676748",
   "metadata": {},
   "outputs": [],
   "source": [
    "dv_df = reduce_event_df(dental_visits_df, 'DV') # reduce_event_df keeps only the columns necessary for expense calculations + DUPERSID\n",
    "om_df = reduce_event_df(other_med_expns_df, 'OM')\n",
    "ip_df = reduce_event_df(hosp_inpatient_stays_df, 'IP')\n",
    "er_df = reduce_event_df(emergnc_room_df, 'ER')\n",
    "op_df = reduce_event_df(outpatient_visits_df, 'OP')\n",
    "ob_df = reduce_event_df(obmp_visits_df, 'OB')\n",
    "hh_df = reduce_event_df(home_health_df, 'HH')\n",
    "rx_df = reduce_event_df(presc_med_df, 'RX') # All LINKIDX values are distinct from EVNTIDX values."
   ]
  },
  {
   "cell_type": "code",
   "execution_count": 7,
   "id": "76c90b69-61bf-4788-b9a7-90dd7beda3a7",
   "metadata": {},
   "outputs": [],
   "source": [
    "events_df = pd.concat([dv_df, om_df, ip_df, er_df, op_df, ob_df, hh_df, rx_df.rename(columns={'LINKIDX':'EVNTIDX'})], ignore_index=True)"
   ]
  },
  {
   "cell_type": "markdown",
   "id": "927a556a-d598-4255-bd63-9c8f7dad2d6e",
   "metadata": {},
   "source": [
    "This events dataframe now contains all events and each associated expense. The next step is to associate these events with medical conditions. The CLNK file is meant for this."
   ]
  },
  {
   "cell_type": "code",
   "execution_count": 8,
   "id": "97a6f95b-a89a-465f-8d73-1ec5096f1654",
   "metadata": {},
   "outputs": [
    {
     "data": {
      "text/html": [
       "<div>\n",
       "<style scoped>\n",
       "    .dataframe tbody tr th:only-of-type {\n",
       "        vertical-align: middle;\n",
       "    }\n",
       "\n",
       "    .dataframe tbody tr th {\n",
       "        vertical-align: top;\n",
       "    }\n",
       "\n",
       "    .dataframe thead th {\n",
       "        text-align: right;\n",
       "    }\n",
       "</style>\n",
       "<table border=\"1\" class=\"dataframe\">\n",
       "  <thead>\n",
       "    <tr style=\"text-align: right;\">\n",
       "      <th></th>\n",
       "      <th>DUPERSID</th>\n",
       "      <th>CONDIDX</th>\n",
       "      <th>ICD10CDX</th>\n",
       "      <th>PERWT19F</th>\n",
       "      <th>EVNTIDX</th>\n",
       "      <th>XP19X</th>\n",
       "    </tr>\n",
       "  </thead>\n",
       "  <tbody>\n",
       "    <tr>\n",
       "      <th>0</th>\n",
       "      <td>2320002103</td>\n",
       "      <td>2320002103001</td>\n",
       "      <td>Z00</td>\n",
       "      <td>19455.742319</td>\n",
       "      <td>2320002103200501</td>\n",
       "      <td>80.00</td>\n",
       "    </tr>\n",
       "    <tr>\n",
       "      <th>1</th>\n",
       "      <td>2320002103</td>\n",
       "      <td>2320002103001</td>\n",
       "      <td>Z00</td>\n",
       "      <td>19455.742319</td>\n",
       "      <td>2320002103200601</td>\n",
       "      <td>80.00</td>\n",
       "    </tr>\n",
       "    <tr>\n",
       "      <th>2</th>\n",
       "      <td>2320002103</td>\n",
       "      <td>2320002103001</td>\n",
       "      <td>Z00</td>\n",
       "      <td>19455.742319</td>\n",
       "      <td>2320002103200701</td>\n",
       "      <td>80.00</td>\n",
       "    </tr>\n",
       "    <tr>\n",
       "      <th>3</th>\n",
       "      <td>2320002103</td>\n",
       "      <td>2320002103001</td>\n",
       "      <td>Z00</td>\n",
       "      <td>19455.742319</td>\n",
       "      <td>2320002103200801</td>\n",
       "      <td>80.00</td>\n",
       "    </tr>\n",
       "    <tr>\n",
       "      <th>4</th>\n",
       "      <td>2320002103</td>\n",
       "      <td>2320002103002</td>\n",
       "      <td>R56</td>\n",
       "      <td>19455.742319</td>\n",
       "      <td>2320002103200101</td>\n",
       "      <td>364.76</td>\n",
       "    </tr>\n",
       "    <tr>\n",
       "      <th>5</th>\n",
       "      <td>2320002103</td>\n",
       "      <td>2320002103002</td>\n",
       "      <td>R56</td>\n",
       "      <td>19455.742319</td>\n",
       "      <td>2320002103200201</td>\n",
       "      <td>5447.51</td>\n",
       "    </tr>\n",
       "    <tr>\n",
       "      <th>6</th>\n",
       "      <td>2320002103</td>\n",
       "      <td>2320002103002</td>\n",
       "      <td>R56</td>\n",
       "      <td>19455.742319</td>\n",
       "      <td>2320002103200901</td>\n",
       "      <td>544.46</td>\n",
       "    </tr>\n",
       "    <tr>\n",
       "      <th>7</th>\n",
       "      <td>2320005101</td>\n",
       "      <td>2320005101001</td>\n",
       "      <td>-15</td>\n",
       "      <td>5919.292270</td>\n",
       "      <td>2320005101001403</td>\n",
       "      <td>16.80</td>\n",
       "    </tr>\n",
       "    <tr>\n",
       "      <th>8</th>\n",
       "      <td>2320005101</td>\n",
       "      <td>2320005101001</td>\n",
       "      <td>-15</td>\n",
       "      <td>5919.292270</td>\n",
       "      <td>2320005101001503</td>\n",
       "      <td>4.00</td>\n",
       "    </tr>\n",
       "    <tr>\n",
       "      <th>9</th>\n",
       "      <td>2320005102</td>\n",
       "      <td>2320005102001</td>\n",
       "      <td>I10</td>\n",
       "      <td>5356.640305</td>\n",
       "      <td>2320005102002403</td>\n",
       "      <td>1.79</td>\n",
       "    </tr>\n",
       "  </tbody>\n",
       "</table>\n",
       "</div>"
      ],
      "text/plain": [
       "     DUPERSID        CONDIDX ICD10CDX      PERWT19F           EVNTIDX    XP19X\n",
       "0  2320002103  2320002103001      Z00  19455.742319  2320002103200501    80.00\n",
       "1  2320002103  2320002103001      Z00  19455.742319  2320002103200601    80.00\n",
       "2  2320002103  2320002103001      Z00  19455.742319  2320002103200701    80.00\n",
       "3  2320002103  2320002103001      Z00  19455.742319  2320002103200801    80.00\n",
       "4  2320002103  2320002103002      R56  19455.742319  2320002103200101   364.76\n",
       "5  2320002103  2320002103002      R56  19455.742319  2320002103200201  5447.51\n",
       "6  2320002103  2320002103002      R56  19455.742319  2320002103200901   544.46\n",
       "7  2320005101  2320005101001      -15   5919.292270  2320005101001403    16.80\n",
       "8  2320005101  2320005101001      -15   5919.292270  2320005101001503     4.00\n",
       "9  2320005102  2320005102001      I10   5356.640305  2320005102002403     1.79"
      ]
     },
     "execution_count": 8,
     "metadata": {},
     "output_type": "execute_result"
    }
   ],
   "source": [
    "cond_event_df = pd.merge(med_cond_df[['DUPERSID','CONDIDX','ICD10CDX','PERWT19F']], clnk_df[['CONDIDX','EVNTIDX']], on='CONDIDX', how='left') # merge event ids to conditions\n",
    "cond_expns_df = pd.merge(cond_event_df, events_df.drop(columns='DUPERSID'), how='left', on='EVNTIDX') # merge event expenses to conditions\n",
    "cond_expns_posXP_df = cond_expns_df[(cond_expns_df['XP19X'] >= 0.0)] # keep condition-events with non-negative expense, negative values indicate missing information.\n",
    "cond_expns_posXP_df.head(10)"
   ]
  },
  {
   "cell_type": "markdown",
   "id": "7d64b235-7222-40bd-96c5-b0038d0670f5",
   "metadata": {},
   "source": [
    "The first person is associated with 7 events related to 2 conditions. The second person has a(n) unknown condition(s) associated with 2 events, and so on.\n",
    "\n",
    "I need to sum the cost by person-condition, or by CONDIDX, discarding EVNTIDX and DUPERSID in the process, but not PERWT19F or ICD10CDX."
   ]
  },
  {
   "cell_type": "code",
   "execution_count": 9,
   "id": "de624983-31cc-4111-9b48-c18ecc458f52",
   "metadata": {},
   "outputs": [
    {
     "data": {
      "text/html": [
       "<div>\n",
       "<style scoped>\n",
       "    .dataframe tbody tr th:only-of-type {\n",
       "        vertical-align: middle;\n",
       "    }\n",
       "\n",
       "    .dataframe tbody tr th {\n",
       "        vertical-align: top;\n",
       "    }\n",
       "\n",
       "    .dataframe thead th {\n",
       "        text-align: right;\n",
       "    }\n",
       "</style>\n",
       "<table border=\"1\" class=\"dataframe\">\n",
       "  <thead>\n",
       "    <tr style=\"text-align: right;\">\n",
       "      <th></th>\n",
       "      <th>CONDIDX</th>\n",
       "      <th>ICD10CDX</th>\n",
       "      <th>PERWT19F</th>\n",
       "      <th>XP19X</th>\n",
       "    </tr>\n",
       "  </thead>\n",
       "  <tbody>\n",
       "    <tr>\n",
       "      <th>0</th>\n",
       "      <td>2320002103001</td>\n",
       "      <td>Z00</td>\n",
       "      <td>19455.742319</td>\n",
       "      <td>320.00</td>\n",
       "    </tr>\n",
       "    <tr>\n",
       "      <th>1</th>\n",
       "      <td>2320002103002</td>\n",
       "      <td>R56</td>\n",
       "      <td>19455.742319</td>\n",
       "      <td>6356.73</td>\n",
       "    </tr>\n",
       "    <tr>\n",
       "      <th>2</th>\n",
       "      <td>2320005101001</td>\n",
       "      <td>-15</td>\n",
       "      <td>5919.292270</td>\n",
       "      <td>20.80</td>\n",
       "    </tr>\n",
       "    <tr>\n",
       "      <th>3</th>\n",
       "      <td>2320005102001</td>\n",
       "      <td>I10</td>\n",
       "      <td>5356.640305</td>\n",
       "      <td>7.16</td>\n",
       "    </tr>\n",
       "    <tr>\n",
       "      <th>4</th>\n",
       "      <td>2320005102004</td>\n",
       "      <td>Z13</td>\n",
       "      <td>5356.640305</td>\n",
       "      <td>2127.95</td>\n",
       "    </tr>\n",
       "    <tr>\n",
       "      <th>...</th>\n",
       "      <td>...</td>\n",
       "      <td>...</td>\n",
       "      <td>...</td>\n",
       "      <td>...</td>\n",
       "    </tr>\n",
       "    <tr>\n",
       "      <th>87426</th>\n",
       "      <td>2469687102007</td>\n",
       "      <td>K21</td>\n",
       "      <td>15756.362731</td>\n",
       "      <td>791.94</td>\n",
       "    </tr>\n",
       "    <tr>\n",
       "      <th>87427</th>\n",
       "      <td>2469687102009</td>\n",
       "      <td>M17</td>\n",
       "      <td>15756.362731</td>\n",
       "      <td>1119.64</td>\n",
       "    </tr>\n",
       "    <tr>\n",
       "      <th>87428</th>\n",
       "      <td>2469687102010</td>\n",
       "      <td>R11</td>\n",
       "      <td>15756.362731</td>\n",
       "      <td>387.03</td>\n",
       "    </tr>\n",
       "    <tr>\n",
       "      <th>87429</th>\n",
       "      <td>2469689101001</td>\n",
       "      <td>I10</td>\n",
       "      <td>8370.423095</td>\n",
       "      <td>888.52</td>\n",
       "    </tr>\n",
       "    <tr>\n",
       "      <th>87430</th>\n",
       "      <td>2469689101003</td>\n",
       "      <td>Z71</td>\n",
       "      <td>8370.423095</td>\n",
       "      <td>409.96</td>\n",
       "    </tr>\n",
       "  </tbody>\n",
       "</table>\n",
       "<p>87431 rows × 4 columns</p>\n",
       "</div>"
      ],
      "text/plain": [
       "             CONDIDX ICD10CDX      PERWT19F    XP19X\n",
       "0      2320002103001      Z00  19455.742319   320.00\n",
       "1      2320002103002      R56  19455.742319  6356.73\n",
       "2      2320005101001      -15   5919.292270    20.80\n",
       "3      2320005102001      I10   5356.640305     7.16\n",
       "4      2320005102004      Z13   5356.640305  2127.95\n",
       "...              ...      ...           ...      ...\n",
       "87426  2469687102007      K21  15756.362731   791.94\n",
       "87427  2469687102009      M17  15756.362731  1119.64\n",
       "87428  2469687102010      R11  15756.362731   387.03\n",
       "87429  2469689101001      I10   8370.423095   888.52\n",
       "87430  2469689101003      Z71   8370.423095   409.96\n",
       "\n",
       "[87431 rows x 4 columns]"
      ]
     },
     "execution_count": 9,
     "metadata": {},
     "output_type": "execute_result"
    }
   ],
   "source": [
    "XPsum_by_CONDIDX_df = cond_expns_posXP_df.groupby(['CONDIDX','ICD10CDX','PERWT19F'], as_index=False)['XP19X'].sum()\n",
    "XPsum_by_CONDIDX_df"
   ]
  },
  {
   "cell_type": "markdown",
   "id": "7c38da34-eaba-477d-97d6-a15c750be5e9",
   "metadata": {},
   "source": [
    "The expense column includes payments made by all known payers, including individuals, public or private insurance.\n",
    "\n",
    "I can compute the average cost per person by condition with the following formula:\n",
    "$$ \\frac{\\sum_{i} w_i x_i}{\\sum_{i} w_i} $$\n",
    "where\n",
    "\n",
    "$w_i =$ PERWT19F weight,\n",
    "\n",
    "$x_i =$ XP19X total payment or expense,\n",
    "\n",
    "and $i$ iterates over all the people with a single condition.\n",
    "\n",
    "Fortunately, numpy can do a weighted average with the help of a lambda function and pandas groupby. I also need to make a dictionary to translate ICD10CDX values to labels."
   ]
  },
  {
   "cell_type": "code",
   "execution_count": 10,
   "id": "1efe038b-75a4-499c-b108-a99fcd4705ce",
   "metadata": {},
   "outputs": [],
   "source": [
    "records_ICD10CDX_dictionary_list = ICD10CDX_df[['ICD10CDX VALUE','ICD10CDX LABEL']].to_dict('records') # make a list of dictionaries\n",
    "ICD10CDX_translation_dict = {subdict['ICD10CDX VALUE']:subdict['ICD10CDX LABEL'] for subdict in records_ICD10CDX_dictionary_list} # make a dictionary from the list of dictionaries"
   ]
  },
  {
   "cell_type": "code",
   "execution_count": 11,
   "id": "35fb7616-49e0-4ad3-a14b-1cbf870c1ec7",
   "metadata": {},
   "outputs": [
    {
     "data": {
      "text/html": [
       "<div>\n",
       "<style scoped>\n",
       "    .dataframe tbody tr th:only-of-type {\n",
       "        vertical-align: middle;\n",
       "    }\n",
       "\n",
       "    .dataframe tbody tr th {\n",
       "        vertical-align: top;\n",
       "    }\n",
       "\n",
       "    .dataframe thead th {\n",
       "        text-align: right;\n",
       "    }\n",
       "</style>\n",
       "<table border=\"1\" class=\"dataframe\">\n",
       "  <thead>\n",
       "    <tr style=\"text-align: right;\">\n",
       "      <th></th>\n",
       "      <th>ICD10CDX</th>\n",
       "      <th>average_expense</th>\n",
       "    </tr>\n",
       "  </thead>\n",
       "  <tbody>\n",
       "    <tr>\n",
       "      <th>0</th>\n",
       "      <td>CANNOT BE COMPUTED</td>\n",
       "      <td>4124.318837</td>\n",
       "    </tr>\n",
       "    <tr>\n",
       "      <th>1</th>\n",
       "      <td>OTHER BACTERIAL INTESTINAL INFECTIONS</td>\n",
       "      <td>1497.150460</td>\n",
       "    </tr>\n",
       "    <tr>\n",
       "      <th>2</th>\n",
       "      <td>VIRAL AND OTHER SPECIFIED INTEST INFECT</td>\n",
       "      <td>774.040568</td>\n",
       "    </tr>\n",
       "    <tr>\n",
       "      <th>3</th>\n",
       "      <td>INFECT GASTROENTERIT AND COLITIS, UNSPEC</td>\n",
       "      <td>1692.870861</td>\n",
       "    </tr>\n",
       "    <tr>\n",
       "      <th>4</th>\n",
       "      <td>OTHER SEPSIS</td>\n",
       "      <td>8650.366428</td>\n",
       "    </tr>\n",
       "  </tbody>\n",
       "</table>\n",
       "</div>"
      ],
      "text/plain": [
       "                                   ICD10CDX  average_expense\n",
       "0                        CANNOT BE COMPUTED      4124.318837\n",
       "1     OTHER BACTERIAL INTESTINAL INFECTIONS      1497.150460\n",
       "2   VIRAL AND OTHER SPECIFIED INTEST INFECT       774.040568\n",
       "3  INFECT GASTROENTERIT AND COLITIS, UNSPEC      1692.870861\n",
       "4                              OTHER SEPSIS      8650.366428"
      ]
     },
     "execution_count": 11,
     "metadata": {},
     "output_type": "execute_result"
    }
   ],
   "source": [
    "wm = lambda x: np.average(x, weights=XPsum_by_CONDIDX_df.loc[x.index, 'PERWT19F'])\n",
    "avg_expns_by_cond_df = XPsum_by_CONDIDX_df.groupby('ICD10CDX').agg(average_expense=('XP19X',wm)).reset_index().replace(to_replace=ICD10CDX_translation_dict)\n",
    "avg_expns_by_cond_df.head()"
   ]
  },
  {
   "cell_type": "markdown",
   "id": "60d3d07d-dcab-4f92-bae3-03ae6698bc84",
   "metadata": {},
   "source": [
    "I have weighted average expense by condition. Last, I will merge this dataframe with the ICD10CDX dataframe and I can sort by weight."
   ]
  },
  {
   "cell_type": "code",
   "execution_count": 12,
   "id": "b0b7127f-704b-4bac-933e-65817fb1ff92",
   "metadata": {},
   "outputs": [
    {
     "data": {
      "text/html": [
       "<div>\n",
       "<style scoped>\n",
       "    .dataframe tbody tr th:only-of-type {\n",
       "        vertical-align: middle;\n",
       "    }\n",
       "\n",
       "    .dataframe tbody tr th {\n",
       "        vertical-align: top;\n",
       "    }\n",
       "\n",
       "    .dataframe thead th {\n",
       "        text-align: right;\n",
       "    }\n",
       "</style>\n",
       "<table border=\"1\" class=\"dataframe\">\n",
       "  <thead>\n",
       "    <tr style=\"text-align: right;\">\n",
       "      <th></th>\n",
       "      <th>ICD10CDX</th>\n",
       "      <th>average_expense</th>\n",
       "      <th>PERWT19F</th>\n",
       "    </tr>\n",
       "  </thead>\n",
       "  <tbody>\n",
       "    <tr>\n",
       "      <th>114</th>\n",
       "      <td>ESSENTIAL (PRIMARY) HYPERTENSION</td>\n",
       "      <td>784.678764</td>\n",
       "      <td>61865446.44</td>\n",
       "    </tr>\n",
       "    <tr>\n",
       "      <th>53</th>\n",
       "      <td>DISORD LIPOPROTEIN METAB AND OTH LIPIDEM</td>\n",
       "      <td>559.846829</td>\n",
       "      <td>44945040.79</td>\n",
       "    </tr>\n",
       "    <tr>\n",
       "      <th>67</th>\n",
       "      <td>OTHER ANXIETY DISORDERS</td>\n",
       "      <td>1320.988572</td>\n",
       "      <td>26195597.38</td>\n",
       "    </tr>\n",
       "    <tr>\n",
       "      <th>44</th>\n",
       "      <td>TYPE 2 DIABETES MELLITUS</td>\n",
       "      <td>4894.699121</td>\n",
       "      <td>25118443.17</td>\n",
       "    </tr>\n",
       "    <tr>\n",
       "      <th>218</th>\n",
       "      <td>OTHER JOINT DISORDER, NEC</td>\n",
       "      <td>2082.778582</td>\n",
       "      <td>23684746.59</td>\n",
       "    </tr>\n",
       "  </tbody>\n",
       "</table>\n",
       "</div>"
      ],
      "text/plain": [
       "                                     ICD10CDX  average_expense     PERWT19F\n",
       "114          ESSENTIAL (PRIMARY) HYPERTENSION       784.678764  61865446.44\n",
       "53   DISORD LIPOPROTEIN METAB AND OTH LIPIDEM       559.846829  44945040.79\n",
       "67                    OTHER ANXIETY DISORDERS      1320.988572  26195597.38\n",
       "44                   TYPE 2 DIABETES MELLITUS      4894.699121  25118443.17\n",
       "218                 OTHER JOINT DISORDER, NEC      2082.778582  23684746.59"
      ]
     },
     "execution_count": 12,
     "metadata": {},
     "output_type": "execute_result"
    }
   ],
   "source": [
    "ICD10CDX_df.rename(columns={'WEIGHTED BY perwt19f':'PERWT19F','ICD10CDX LABEL':'ICD10CDX'}, inplace=True)\n",
    "avg_expns_by_cond_weighted_df = pd.merge(avg_expns_by_cond_df, ICD10CDX_df[['ICD10CDX','PERWT19F']], on='ICD10CDX', how='left')\n",
    "avg_expns_by_cond_weighted_df.sort_values(by='PERWT19F', ascending=False).drop([0]).head()"
   ]
  },
  {
   "cell_type": "code",
   "execution_count": 47,
   "id": "4a7f1ed1-78b8-4285-9b65-5d1c0141e438",
   "metadata": {},
   "outputs": [
    {
     "data": {
      "text/plain": [
       "Text(0, 0.5, 'Condition')"
      ]
     },
     "execution_count": 47,
     "metadata": {},
     "output_type": "execute_result"
    },
    {
     "data": {
      "image/png": "[encoded data removed]",
      "text/plain": [
       "<Figure size 648x432 with 1 Axes>"
      ]
     },
     "metadata": {
      "needs_background": "light"
     },
     "output_type": "display_data"
    }
   ],
   "source": [
    "slide_friendly_condition_weight_df = avg_expns_by_cond_weighted_df.copy()\n",
    "slide_friendly_condition_weight_df.rename(columns={'ICD10CDX':'Condition'}, inplace=True)\n",
    "slide_friendly_condition_weight_df['Americans Affected (Millions)'] = (slide_friendly_condition_weight_df['PERWT19F']/1000000).round().astype(int)\n",
    "top5_list = ['ESSENTIAL (PRIMARY) HYPERTENSION','DISORD LIPOPROTEIN METAB AND OTH LIPIDEM','OTHER ANXIETY DISORDERS','TYPE 2 DIABETES MELLITUS','OTHER JOINT DISORDER, NEC']\n",
    "slide_friendly_top5_df = slide_friendly_condition_weight_df[(slide_friendly_condition_weight_df['Condition'].isin(top5_list))].sort_values(by='PERWT19F',ascending=False).reset_index()\n",
    "slide_friendly_top5_df.rename(columns={'average_expense':'Average Expense ( $ / year )'},inplace=True)\n",
    "slide_friendly_top5_df.replace(to_replace=label_dict, inplace=True)\n",
    "slide_friendly_top5_barh = slide_friendly_top5_df[['Condition','Average Expense ( $ / year )']].plot.barh(x='Condition')\n",
    "slide_friendly_top5_barh.set_ylabel('Condition',size=15)"
   ]
  },
  {
   "cell_type": "markdown",
   "id": "7d7aaada-677f-4427-8466-d17565a641b0",
   "metadata": {},
   "source": [
    "The average expense per person varies significantly by condition. We can look at the distributions next."
   ]
  },
  {
   "cell_type": "code",
   "execution_count": 48,
   "id": "834cd4c0-7bf9-4203-834e-7afbb59c493b",
   "metadata": {},
   "outputs": [],
   "source": [
    "cond_expns_validICD_df = XPsum_by_CONDIDX_df[(~XPsum_by_CONDIDX_df['ICD10CDX'].isin(['-1','-7','-8','-15']))]\n",
    "cond_expns_posXPWT_df = cond_expns_validICD_df[(cond_expns_validICD_df['PERWT19F'] > 0)]"
   ]
  },
  {
   "cell_type": "code",
   "execution_count": 49,
   "id": "c9c192a2-573b-4fe2-a18a-08917820be45",
   "metadata": {},
   "outputs": [],
   "source": [
    "hypertension_df = cond_expns_posXPWT_df[(cond_expns_posXPWT_df['ICD10CDX']=='I10')]\n",
    "lipidemia_df = cond_expns_posXPWT_df[(cond_expns_posXPWT_df['ICD10CDX']=='E78')]\n",
    "anxiety_df = cond_expns_posXPWT_df[(cond_expns_posXPWT_df['ICD10CDX']=='F41')]\n",
    "diabetes_df = cond_expns_posXPWT_df[(cond_expns_posXPWT_df['ICD10CDX']=='E11')]\n",
    "joint_df = cond_expns_posXPWT_df[(cond_expns_posXPWT_df['ICD10CDX']=='M25')]"
   ]
  },
  {
   "cell_type": "code",
   "execution_count": 50,
   "id": "b4a66b7a-0121-44b8-b57e-8ab3087c2a28",
   "metadata": {},
   "outputs": [],
   "source": [
    "top5_df = cond_expns_posXPWT_df[(cond_expns_posXPWT_df['ICD10CDX'].isin(['I10','E78','F41','E11','M25']))].replace(to_replace=ICD10CDX_translation_dict)"
   ]
  },
  {
   "cell_type": "code",
   "execution_count": 54,
   "id": "7c5c21f5-c98b-488b-aaf2-f3bbc24b1b46",
   "metadata": {},
   "outputs": [
    {
     "data": {
      "text/plain": [
       "Text(0.5, 0, 'Annual Personal Expense (2019 USD)')"
      ]
     },
     "execution_count": 54,
     "metadata": {},
     "output_type": "execute_result"
    },
    {
     "data": {
      "text/plain": [
       "Text(0, 0.5, 'Condition')"
      ]
     },
     "execution_count": 54,
     "metadata": {},
     "output_type": "execute_result"
    },
    {
     "data": {
      "image/png": "[encoded data removed]",
      "text/plain": [
       "<Figure size 648x432 with 1 Axes>"
      ]
     },
     "metadata": {
      "needs_background": "light"
     },
     "output_type": "display_data"
    }
   ],
   "source": [
    "top5_copy_df = top5_df.copy()\n",
    "top5_copy_df.replace(to_replace=label_dict, inplace=True)\n",
    "fulldists = sns.boxplot(y='ICD10CDX', x='XP19X', data=top5_copy_df, orient='h')\n",
    "fulldists.set_xlabel('Annual Personal Expense (2019 USD)', fontsize=15)\n",
    "fulldists.set_ylabel('Condition', fontsize=15)\n",
    "fulldists.tick_params(labelsize=15)\n",
    "#plt.xlim(0,15000)"
   ]
  },
  {
   "cell_type": "markdown",
   "id": "274d6c4e-8f34-4e39-80da-71494bb3b1c8",
   "metadata": {},
   "source": [
    "Let's zoom in on the x (expense) axis to see the primary distributions better."
   ]
  },
  {
   "cell_type": "code",
   "execution_count": 52,
   "id": "c00b63a5-7599-470c-b6fd-4b0985ff1d65",
   "metadata": {},
   "outputs": [
    {
     "data": {
      "text/plain": [
       "<AxesSubplot:xlabel='XP19X', ylabel='ICD10CDX'>"
      ]
     },
     "execution_count": 52,
     "metadata": {},
     "output_type": "execute_result"
    },
    {
     "data": {
      "text/plain": [
       "(0.0, 15000.0)"
      ]
     },
     "execution_count": 52,
     "metadata": {},
     "output_type": "execute_result"
    },
    {
     "data": {
      "image/png": "[encoded data removed]",
      "text/plain": [
       "<Figure size 648x432 with 1 Axes>"
      ]
     },
     "metadata": {
      "needs_background": "light"
     },
     "output_type": "display_data"
    }
   ],
   "source": [
    "sns.boxplot(y='ICD10CDX', x='XP19X', data=top5_df, orient='h')\n",
    "plt.xlim(0,15000)"
   ]
  },
  {
   "cell_type": "markdown",
   "id": "77c59e79-658e-42b3-b5ad-12825d62a03b",
   "metadata": {},
   "source": [
    "These distributions look significantly different from each other. \n",
    "\n",
    "Diabetes costs much more on average than the other top 5 condition categories. I also note that for most of these conditions, most people are paying less than $400/year on average.\n",
    "\n",
    "None of these distributions look normal. Next I plot a histogram for each one."
   ]
  },
  {
   "cell_type": "code",
   "execution_count": 19,
   "id": "0c38767e-c518-4d39-bdde-59a4bd9b479e",
   "metadata": {},
   "outputs": [],
   "source": [
    "def plot_histogram(df):\n",
    "    df['XP19X'].plot(kind='hist', weights=df['PERWT19F']) # plot a properly weighted histogram\n",
    "    print('Skew: {}'.format(stats.skew(df['XP19X']))) # print skew, unweighted\n",
    "    print('Kurtosis: {}'.format(stats.kurtosis(df['XP19X']))) # print kurtosis, unweighted"
   ]
  },
  {
   "cell_type": "code",
   "execution_count": 20,
   "id": "4aae14f6-73fb-47a9-9607-439b33477225",
   "metadata": {},
   "outputs": [
    {
     "name": "stdout",
     "output_type": "stream",
     "text": [
      "Skew: 13.817338769126264\n",
      "Kurtosis: 277.26519509007534\n"
     ]
    },
    {
     "data": {
      "image/png": "[encoded data removed]",
      "text/plain": [
       "<Figure size 864x576 with 1 Axes>"
      ]
     },
     "metadata": {
      "needs_background": "light"
     },
     "output_type": "display_data"
    }
   ],
   "source": [
    "plot_histogram(hypertension_df)"
   ]
  },
  {
   "cell_type": "code",
   "execution_count": 21,
   "id": "65a579f9-00fa-42fa-af72-4a0eb39cb8d1",
   "metadata": {},
   "outputs": [
    {
     "name": "stdout",
     "output_type": "stream",
     "text": [
      "Skew: 10.685992833709342\n",
      "Kurtosis: 155.70329384428607\n"
     ]
    },
    {
     "data": {
      "image/png": "[encoded data removed]",
      "text/plain": [
       "<Figure size 864x576 with 1 Axes>"
      ]
     },
     "metadata": {
      "needs_background": "light"
     },
     "output_type": "display_data"
    }
   ],
   "source": [
    "plot_histogram(lipidemia_df)"
   ]
  },
  {
   "cell_type": "code",
   "execution_count": 22,
   "id": "61fb138d-1093-4310-b424-7ef3211e0224",
   "metadata": {},
   "outputs": [
    {
     "name": "stdout",
     "output_type": "stream",
     "text": [
      "Skew: 8.83406907581681\n",
      "Kurtosis: 120.79669891621238\n"
     ]
    },
    {
     "data": {
      "image/png": "[encoded data removed]",
      "text/plain": [
       "<Figure size 864x576 with 1 Axes>"
      ]
     },
     "metadata": {
      "needs_background": "light"
     },
     "output_type": "display_data"
    }
   ],
   "source": [
    "plot_histogram(anxiety_df)"
   ]
  },
  {
   "cell_type": "code",
   "execution_count": 23,
   "id": "7a9316bc-c360-4242-9242-5f0a7283eac8",
   "metadata": {},
   "outputs": [
    {
     "name": "stdout",
     "output_type": "stream",
     "text": [
      "Skew: 9.668822890871176\n",
      "Kurtosis: 166.61890563954495\n"
     ]
    },
    {
     "data": {
      "image/png": "[encoded data removed]",
      "text/plain": [
       "<Figure size 864x576 with 1 Axes>"
      ]
     },
     "metadata": {
      "needs_background": "light"
     },
     "output_type": "display_data"
    }
   ],
   "source": [
    "plot_histogram(diabetes_df)"
   ]
  },
  {
   "cell_type": "code",
   "execution_count": 24,
   "id": "63a74070-fb51-4f97-a48a-27a06ac7411f",
   "metadata": {},
   "outputs": [
    {
     "name": "stdout",
     "output_type": "stream",
     "text": [
      "Skew: 7.08909423136478\n",
      "Kurtosis: 75.4820147407578\n"
     ]
    },
    {
     "data": {
      "image/png": "[encoded data removed]",
      "text/plain": [
       "<Figure size 864x576 with 1 Axes>"
      ]
     },
     "metadata": {
      "needs_background": "light"
     },
     "output_type": "display_data"
    }
   ],
   "source": [
    "plot_histogram(joint_df)"
   ]
  },
  {
   "cell_type": "markdown",
   "id": "0d58654c-36c5-4af9-9403-5ff6b4d5a6d7",
   "metadata": {},
   "source": [
    "The skew and kurtosis for each are extreme. Let's do a Kruskal-Wallis test on these 5 conditions to put a quantitative measure on how different they are."
   ]
  },
  {
   "cell_type": "code",
   "execution_count": 25,
   "id": "60e0b547-3348-4eb4-aa05-900748cddc4e",
   "metadata": {},
   "outputs": [],
   "source": [
    "top5_df['WEIGHTS'] = top5_df['PERWT19F'].astype(int)\n",
    "top5_df.to_csv('top5.csv')"
   ]
  },
  {
   "cell_type": "code",
   "execution_count": 26,
   "id": "c83d8da8-c85b-4add-a3ef-4f3ae2b6fedb",
   "metadata": {},
   "outputs": [],
   "source": [
    "sjstats = importr('sjstats')\n",
    "%load_ext rpy2.ipython"
   ]
  },
  {
   "cell_type": "code",
   "execution_count": 27,
   "id": "b8faeae0-6e82-45d8-8d0a-9c602fc66727",
   "metadata": {},
   "outputs": [
    {
     "name": "stdout",
     "output_type": "stream",
     "text": [
      "\n",
      "# Weighted Kruskal-Wallis test\n",
      "\n",
      "  comparison of XP19X by ICD10CDX\n",
      "  Chisq=4.00  df=1578  p-value=0.000\n",
      "\n"
     ]
    }
   ],
   "source": [
    "%%R\n",
    "top5_rdf <- utils::read.csv('top5.csv', stringsAsFactors=FALSE)\n",
    "sjstats::weighted_mannwhitney(XP19X ~ ICD10CDX + WEIGHTS, top5_rdf)"
   ]
  },
  {
   "cell_type": "markdown",
   "id": "27e6c496-758a-4c81-b143-67269744b72f",
   "metadata": {},
   "source": [
    "The Chisq or chi-square value is also called H, and is the Krusakl-Wallis test statistic.\n",
    "\n",
    "The p-value is the probability of obtaining this statistic value or higher, assuming the groups all come from the same distribution. As we can see, the p-value is less than 0.001 and implies that it is very unlikely that this result occured by chance, which implies that at least one of the expense distributions is different from the others."
   ]
  },
  {
   "cell_type": "markdown",
   "id": "9599d983-61f7-458b-b82b-ae141a919374",
   "metadata": {},
   "source": [
    "This essentially answers the primary question: In 2019, did Americans with the 5 most prevalent medical conditions spend significantly different amounts on average by condition?\n",
    "\n",
    "Yes, yes they did. Also, don't get diabetes."
   ]
  },
  {
   "cell_type": "markdown",
   "id": "72d50a43-0427-4308-a341-38620612ec29",
   "metadata": {},
   "source": [
    "Next, I could try doing some pairwise tests to quantify which ones are the most or least different. In this case the pairwise non-parametric test of interest is the Mann-Whitney U test. It is very similar to the Kruskal-Wallis test just used."
   ]
  },
  {
   "cell_type": "code",
   "execution_count": 28,
   "id": "2777f7c8-96c5-470b-93a3-8491f81e22d9",
   "metadata": {},
   "outputs": [],
   "source": [
    "%%R\n",
    "hyp_lip <- subset(top5_rdf, ICD10CDX == \"ESSENTIAL (PRIMARY) HYPERTENSION\" | ICD10CDX == \"DISORD LIPOPROTEIN METAB AND OTH LIPIDEM\")\n",
    "hyp_anx <- subset(top5_rdf, ICD10CDX == \"ESSENTIAL (PRIMARY) HYPERTENSION\" | ICD10CDX == \"OTHER ANXIETY DISORDERS\")\n",
    "hyp_dia <- subset(top5_rdf, ICD10CDX == \"ESSENTIAL (PRIMARY) HYPERTENSION\" | ICD10CDX == \"TYPE 2 DIABETES MELLITUS\")\n",
    "hyp_jnt <- subset(top5_rdf, ICD10CDX == \"ESSENTIAL (PRIMARY) HYPERTENSION\" | ICD10CDX == \"OTHER JOINT DISORDER, NEC\")\n",
    "lip_anx <- subset(top5_rdf, ICD10CDX == \"DISORD LIPOPROTEIN METAB AND OTH LIPIDEM\" | ICD10CDX == \"OTHER ANXIETY DISORDERS\")\n",
    "lip_dia <- subset(top5_rdf, ICD10CDX == \"DISORD LIPOPROTEIN METAB AND OTH LIPIDEM\" | ICD10CDX == \"TYPE 2 DIABETES MELLITUS\")\n",
    "lip_jnt <- subset(top5_rdf, ICD10CDX == \"DISORD LIPOPROTEIN METAB AND OTH LIPIDEM\" | ICD10CDX == \"OTHER JOINT DISORDER, NEC\")\n",
    "anx_dia <- subset(top5_rdf, ICD10CDX == \"OTHER ANXIETY DISORDERS\" | ICD10CDX == \"TYPE 2 DIABETES MELLITUS\")\n",
    "anx_jnt <- subset(top5_rdf, ICD10CDX == \"OTHER ANXIETY DISORDERS\" | ICD10CDX == \"OTHER JOINT DISORDER, NEC\")\n",
    "dia_jnt <- subset(top5_rdf, ICD10CDX == \"TYPE 2 DIABETES MELLITUS\" | ICD10CDX == \"OTHER JOINT DISORDER, NEC\")"
   ]
  },
  {
   "cell_type": "code",
   "execution_count": 29,
   "id": "0146a798-f6f6-4656-a9fe-437feb273aca",
   "metadata": {},
   "outputs": [
    {
     "name": "stdout",
     "output_type": "stream",
     "text": [
      "\n",
      "# Weighted Mann-Whitney-U test\n",
      "\n",
      "  comparison of XP19X by ICD10CDX\n",
      "  Chisq=3.01  df=10195  p-value=0.003\n",
      "\n"
     ]
    }
   ],
   "source": [
    "%%R\n",
    "# hypertension vs. lipidemia\n",
    "sjstats::weighted_mannwhitney(XP19X ~ ICD10CDX + WEIGHTS, hyp_lip)"
   ]
  },
  {
   "cell_type": "code",
   "execution_count": 30,
   "id": "7570a92c-0ad3-4c4e-8ffe-6ebee36b65f6",
   "metadata": {},
   "outputs": [
    {
     "name": "stdout",
     "output_type": "stream",
     "text": [
      "\n",
      "# Weighted Mann-Whitney-U test\n",
      "\n",
      "  comparison of XP19X by ICD10CDX\n",
      "  Chisq=5.82  df=8126  p-value=0.000\n",
      "\n"
     ]
    }
   ],
   "source": [
    "%%R\n",
    "# hypertension vs. anxiety\n",
    "sjstats::weighted_mannwhitney(XP19X ~ ICD10CDX + WEIGHTS, hyp_anx)"
   ]
  },
  {
   "cell_type": "code",
   "execution_count": 31,
   "id": "2b626489-2374-420d-b003-93c9900df467",
   "metadata": {},
   "outputs": [
    {
     "name": "stdout",
     "output_type": "stream",
     "text": [
      "\n",
      "# Weighted Mann-Whitney-U test\n",
      "\n",
      "  comparison of XP19X by ICD10CDX\n",
      "  Chisq=34.95  df=8434  p-value=0.000\n",
      "\n"
     ]
    }
   ],
   "source": [
    "%%R\n",
    "# hypertension vs. diabetes\n",
    "sjstats::weighted_mannwhitney(XP19X ~ ICD10CDX + WEIGHTS, hyp_dia)"
   ]
  },
  {
   "cell_type": "code",
   "execution_count": 32,
   "id": "7840092b-70d2-4d0a-b156-587be1621d62",
   "metadata": {},
   "outputs": [
    {
     "name": "stdout",
     "output_type": "stream",
     "text": [
      "\n",
      "# Weighted Mann-Whitney-U test\n",
      "\n",
      "  comparison of XP19X by ICD10CDX\n",
      "  Chisq=15.21  df=8092  p-value=0.000\n",
      "\n"
     ]
    }
   ],
   "source": [
    "%%R\n",
    "# hypertension vs. joint disorders\n",
    "sjstats::weighted_mannwhitney(XP19X ~ ICD10CDX + WEIGHTS, hyp_jnt)"
   ]
  },
  {
   "cell_type": "code",
   "execution_count": 33,
   "id": "3d2e7656-c224-4655-81ce-6046000af9d3",
   "metadata": {},
   "outputs": [
    {
     "name": "stdout",
     "output_type": "stream",
     "text": [
      "\n",
      "# Weighted Mann-Whitney-U test\n",
      "\n",
      "  comparison of XP19X by ICD10CDX\n",
      "  Chisq=7.47  df=6471  p-value=0.000\n",
      "\n"
     ]
    }
   ],
   "source": [
    "%%R\n",
    "# lipidemia vs. anxiety\n",
    "sjstats::weighted_mannwhitney(XP19X ~ ICD10CDX + WEIGHTS, lip_anx)"
   ]
  },
  {
   "cell_type": "code",
   "execution_count": 34,
   "id": "6fa9e960-4c71-4b14-84c7-1357cee9b980",
   "metadata": {},
   "outputs": [
    {
     "name": "stdout",
     "output_type": "stream",
     "text": [
      "\n",
      "# Weighted Mann-Whitney-U test\n",
      "\n",
      "  comparison of XP19X by ICD10CDX\n",
      "  Chisq=35.97  df=6779  p-value=0.000\n",
      "\n"
     ]
    }
   ],
   "source": [
    "%%R\n",
    "# lipidemia vs. diabetes\n",
    "sjstats::weighted_mannwhitney(XP19X ~ ICD10CDX + WEIGHTS, lip_dia)"
   ]
  },
  {
   "cell_type": "code",
   "execution_count": 35,
   "id": "c99797d5-24e0-4f93-b29e-847f0587b057",
   "metadata": {},
   "outputs": [
    {
     "name": "stdout",
     "output_type": "stream",
     "text": [
      "\n",
      "# Weighted Mann-Whitney-U test\n",
      "\n",
      "  comparison of XP19X by ICD10CDX\n",
      "  Chisq=17.00  df=6437  p-value=0.000\n",
      "\n"
     ]
    }
   ],
   "source": [
    "%%R\n",
    "# lipidemia vs. joint disorders\n",
    "sjstats::weighted_mannwhitney(XP19X ~ ICD10CDX + WEIGHTS, lip_jnt)"
   ]
  },
  {
   "cell_type": "code",
   "execution_count": 36,
   "id": "3feb48a2-1d17-4108-8ae5-f27245b791ce",
   "metadata": {},
   "outputs": [
    {
     "name": "stdout",
     "output_type": "stream",
     "text": [
      "\n",
      "# Weighted Mann-Whitney-U test\n",
      "\n",
      "  comparison of XP19X by ICD10CDX\n",
      "  Chisq=22.94  df=4710  p-value=0.000\n",
      "\n"
     ]
    }
   ],
   "source": [
    "%%R\n",
    "# anxiety vs. diabetes\n",
    "sjstats::weighted_mannwhitney(XP19X ~ ICD10CDX + WEIGHTS, anx_dia)"
   ]
  },
  {
   "cell_type": "code",
   "execution_count": 37,
   "id": "a23bb51b-0cfb-4a30-b966-3ca03ca0e135",
   "metadata": {},
   "outputs": [
    {
     "name": "stdout",
     "output_type": "stream",
     "text": [
      "\n",
      "# Weighted Mann-Whitney-U test\n",
      "\n",
      "  comparison of XP19X by ICD10CDX\n",
      "  Chisq=6.61  df=4368  p-value=0.000\n",
      "\n"
     ]
    }
   ],
   "source": [
    "%%R\n",
    "# anxiety vs. joint disorders\n",
    "sjstats::weighted_mannwhitney(XP19X ~ ICD10CDX + WEIGHTS, anx_jnt)"
   ]
  },
  {
   "cell_type": "code",
   "execution_count": 38,
   "id": "57aa7883-cb63-490a-bab0-25e84d8720f3",
   "metadata": {},
   "outputs": [
    {
     "name": "stdout",
     "output_type": "stream",
     "text": [
      "\n",
      "# Weighted Mann-Whitney-U test\n",
      "\n",
      "  comparison of XP19X by ICD10CDX\n",
      "  Chisq=16.92  df=4676  p-value=0.000\n",
      "\n"
     ]
    }
   ],
   "source": [
    "%%R\n",
    "# diabetes vs. joint disorders\n",
    "sjstats::weighted_mannwhitney(XP19X ~ ICD10CDX + WEIGHTS, dia_jnt)"
   ]
  },
  {
   "cell_type": "markdown",
   "id": "ee21c8e4-276b-44bf-a18d-e8da4a6239d8",
   "metadata": {},
   "source": [
    "All of the chi-square values are non-zero and the p-values are all less than 0.001 except for the hypertension-lipidemia comparison. Even for this comparison, the p-value is still rather small (0.003), so the probability that any of these condition cost distributions are actually the same is less than 1%.\n",
    "\n",
    "Performing many pairwise comparison tests (Mann-Whitney) on a single dataset has a high risk of leading to a false positive when $1-(1-p)^{\\frac{n(n-1)}{2}}$ is a significant probability, where $p$ is the p-value from the group test (Kruskal-Wallis) and $n$ is the number of groups. For this analysis the group test gave a very small p-value however, and indicated significant differences between groups, as did every pairwise test.\n",
    "\n",
    "The largest differences are found when comparing the cost of diabetes to the others. It is the greatest outlier."
   ]
  },
  {
   "cell_type": "markdown",
   "id": "9e625733-8df2-4b7e-9333-a8360edd95cc",
   "metadata": {},
   "source": [
    "#### Bonus Questions"
   ]
  },
  {
   "cell_type": "markdown",
   "id": "5ca0829e-4860-4a21-bf68-bca181547a6c",
   "metadata": {},
   "source": [
    "##### Most Expensive Conditions on Average"
   ]
  },
  {
   "cell_type": "code",
   "execution_count": 58,
   "id": "89cd3905-ae76-43c9-b45c-58585ce42f29",
   "metadata": {},
   "outputs": [
    {
     "data": {
      "text/plain": [
       "Text(0, 0.5, 'Condition')"
      ]
     },
     "execution_count": 58,
     "metadata": {},
     "output_type": "execute_result"
    },
    {
     "data": {
      "image/png": "[encoded data removed]",
      "text/plain": [
       "<Figure size 648x432 with 1 Axes>"
      ]
     },
     "metadata": {
      "needs_background": "light"
     },
     "output_type": "display_data"
    }
   ],
   "source": [
    "most_expensive_average_df = avg_expns_by_cond_df.sort_values(by='average_expense', ascending=False).reset_index()[['ICD10CDX','average_expense']].head(5)\n",
    "most_expensive_average_df['Average Expense ( thousand USD )'] = (most_expensive_average_df['average_expense']/1000).round().astype(int)\n",
    "most_expensive_average_df.replace(to_replace=label_dict, inplace=True)\n",
    "mea_barh_plot = most_expensive_average_df.rename(columns={'ICD10CDX':'Condition'})[['Condition','Average Expense ( thousand USD )']].plot.barh(x='Condition')\n",
    "mea_barh_plot.set_ylabel('Condition',size=15)"
   ]
  },
  {
   "cell_type": "markdown",
   "id": "41d9b068-d910-4733-be47-4ea0ef26c4ee",
   "metadata": {},
   "source": [
    "These conditions are definitely less common, but they are not unheard-of. Let's see how many entries we actually have for each."
   ]
  },
  {
   "cell_type": "code",
   "execution_count": 65,
   "id": "ab01c5f4-8eb9-4394-b457-dbf31df31551",
   "metadata": {},
   "outputs": [
    {
     "data": {
      "text/html": [
       "<div>\n",
       "<style scoped>\n",
       "    .dataframe tbody tr th:only-of-type {\n",
       "        vertical-align: middle;\n",
       "    }\n",
       "\n",
       "    .dataframe tbody tr th {\n",
       "        vertical-align: top;\n",
       "    }\n",
       "\n",
       "    .dataframe thead th {\n",
       "        text-align: right;\n",
       "    }\n",
       "</style>\n",
       "<table border=\"1\" class=\"dataframe\">\n",
       "  <thead>\n",
       "    <tr style=\"text-align: right;\">\n",
       "      <th></th>\n",
       "      <th>Conditions</th>\n",
       "      <th>Participants Affected</th>\n",
       "    </tr>\n",
       "  </thead>\n",
       "  <tbody>\n",
       "    <tr>\n",
       "      <th>0</th>\n",
       "      <td>UNSPECIFIED KIDNEY FAILURE</td>\n",
       "      <td>86</td>\n",
       "    </tr>\n",
       "    <tr>\n",
       "      <th>1</th>\n",
       "      <td>MULTIPLE SCLEROSIS</td>\n",
       "      <td>72</td>\n",
       "    </tr>\n",
       "    <tr>\n",
       "      <th>2</th>\n",
       "      <td>CEREBRAL INFARCTION</td>\n",
       "      <td>54</td>\n",
       "    </tr>\n",
       "    <tr>\n",
       "      <th>3</th>\n",
       "      <td>ASYMPTOMATIC HIV INFECTION STATUS</td>\n",
       "      <td>37</td>\n",
       "    </tr>\n",
       "    <tr>\n",
       "      <th>4</th>\n",
       "      <td>DISOR OF NB SHRT GESTN, LOW BRTH WGT NEC</td>\n",
       "      <td>21</td>\n",
       "    </tr>\n",
       "  </tbody>\n",
       "</table>\n",
       "</div>"
      ],
      "text/plain": [
       "                                 Conditions  Participants Affected\n",
       "0                UNSPECIFIED KIDNEY FAILURE                     86\n",
       "1                        MULTIPLE SCLEROSIS                     72\n",
       "2                       CEREBRAL INFARCTION                     54\n",
       "3         ASYMPTOMATIC HIV INFECTION STATUS                     37\n",
       "4  DISOR OF NB SHRT GESTN, LOW BRTH WGT NEC                     21"
      ]
     },
     "execution_count": 65,
     "metadata": {},
     "output_type": "execute_result"
    }
   ],
   "source": [
    "condition_counts_df = cond_expns_posXPWT_df.groupby(['ICD10CDX'], as_index=False).count().sort_values(by='CONDIDX',ascending=False).drop([0]).replace(to_replace=ICD10CDX_translation_dict)\n",
    "cond_counts_table_df = condition_counts_df[(condition_counts_df['ICD10CDX'].isin(['MULTIPLE SCLEROSIS','ASYMPTOMATIC HIV INFECTION STATUS','CEREBRAL INFARCTION','DISOR OF NB SHRT GESTN, LOW BRTH WGT NEC','UNSPECIFIED KIDNEY FAILURE']))]\n",
    "cond_counts_table_df.rename(columns={'ICD10CDX':'Conditions','CONDIDX':'Participants Affected'}).reset_index()[['Conditions','Participants Affected']]"
   ]
  },
  {
   "cell_type": "markdown",
   "id": "0fab225b-c959-41d6-b058-8cbd7cb620bc",
   "metadata": {},
   "source": [
    "Some of these counts are small enough, and the average expenses similar enough, that I do not think we can draw any strong conclusions about which conditions cost the most. There are, after all, many factors which can affect the cost, including particular complications, the tests and treaments chosen, and insurance."
   ]
  },
  {
   "cell_type": "markdown",
   "id": "5a5040fc-fdf0-45b7-aa94-8dc120646ee7",
   "metadata": {},
   "source": [
    "#### Most Expensive Conditions in Total"
   ]
  },
  {
   "cell_type": "code",
   "execution_count": 57,
   "id": "fc04b435-8711-40f6-adb9-7a16677763a2",
   "metadata": {},
   "outputs": [
    {
     "data": {
      "text/plain": [
       "Text(0, 0.5, 'Condition')"
      ]
     },
     "execution_count": 57,
     "metadata": {},
     "output_type": "execute_result"
    },
    {
     "data": {
      "image/png": "[encoded data removed]",
      "text/plain": [
       "<Figure size 648x432 with 1 Axes>"
      ]
     },
     "metadata": {
      "needs_background": "light"
     },
     "output_type": "display_data"
    }
   ],
   "source": [
    "XPsum_by_CONDIDX_posWT_df = XPsum_by_CONDIDX_df[(XPsum_by_CONDIDX_df['PERWT19F']>0)].copy()\n",
    "XPsum_by_CONDIDX_posWT_df['total_weighted_expense'] = XPsum_by_CONDIDX_posWT_df['XP19X'] * XPsum_by_CONDIDX_posWT_df['PERWT19F']\n",
    "most_expensive_total_df = XPsum_by_CONDIDX_posWT_df.groupby('ICD10CDX').agg('sum').reset_index().replace(to_replace=ICD10CDX_translation_dict).sort_values(by='total_weighted_expense', ascending=False).drop([0])\n",
    "most_expensive_total_df.rename(columns={'ICD10CDX':'Condition'},inplace=True)\n",
    "most_expensive_total_df['Total Expense ( billion USD )']=(most_expensive_total_df['total_weighted_expense']/1000000000).round().astype(int)\n",
    "most_expensive_total_df.replace(to_replace=label_dict, inplace=True)\n",
    "most_expensive_total_barh = most_expensive_total_df.reset_index()[['Condition','Total Expense ( billion USD )']].head(5).plot.barh(x='Condition')\n",
    "most_expensive_total_barh.set_ylabel('Condition', size=15)"
   ]
  },
  {
   "cell_type": "markdown",
   "id": "6e1d3309-e787-46d6-9058-010fdfb72e7d",
   "metadata": {},
   "source": [
    "Diabetes comes out on top, and the second and third conditions are not surprising either since they were in the top 5 most common conditions already. In fourth and fifth we have osteoarthritis, which is common in aging adults, and ischemic heart disease is closely related to the other common conditions. This largely confirms that Americans spend a great deal on the treatment of cardiovascular disease."
   ]
  },
  {
   "cell_type": "markdown",
   "id": "2cb44216-d4bc-47b6-893d-160ee9c59e63",
   "metadata": {},
   "source": [
    "## Conclusion"
   ]
  },
  {
   "cell_type": "markdown",
   "id": "5f25d41b-a6ae-4b72-8251-c457900a6984",
   "metadata": {},
   "source": [
    "### Actions"
   ]
  },
  {
   "cell_type": "markdown",
   "id": "8ff5c234-9967-4946-96dd-2658b5e03f76",
   "metadata": {},
   "source": [
    "It may seem obvious that different medical conditions require different treatments and therefore have different average cost, but it is not obvious which conditions are the most expensive or why. In this analysis we find that diabetes is significantly more expensive on average than the other 4 most commmon medical conditions in the US in 2019. This could be because diabetes is frequently associated with multiple problematic symptoms and requires a regular supply to insulin to treat.\n",
    "\n",
    "One conclusion for all audiences is that preventing diabetes saves significantly more money in medical costs per individual and in total than preventing the other common conditions analyzed here. Diabetes is linked to over-consumption of simple carbohydrates and lack of exercise. Many of the common pieces of medical advice for a healthy lifestyle apply to preventing diabetes.\n",
    "\n",
    "Policy-makers might consider appropriate regulations on processed foods, especially those with high sugar content. It will also help to ensure that there are affordable supplies of insulin and metformin to those who are already affected.\n",
    "\n",
    "Insurance companies and medical cost sharing programs could look for ways to encourage members to incorporate physical activity and low-carb foods into their lifestyles. "
   ]
  },
  {
   "cell_type": "markdown",
   "id": "44bd8d4c-4920-4008-a187-e9728cb86523",
   "metadata": {},
   "source": [
    "### Biases"
   ]
  },
  {
   "cell_type": "markdown",
   "id": "48975f9b-ee7e-4a9e-abd4-7c8a649d92d4",
   "metadata": {},
   "source": [
    "The medical conditions are self-reported, which may introduce some bias in the frequency and costs associated with each condition. This bias is difficult to test for however, as medical conditions do not always fit neatly into discrete categories and asking doctors to verify reported medical conditions would be time-consuming and costly. It is even possible that doctor-verified conditions could introduce a different kind of bias.\n",
    "\n",
    "The data was collected with Computer Assisted Personal Interviewing (CAPI) technology, and one person from each household completed portions of the survey in multiple sessions. The survey participants are a subset of National Health Interview Survey participants. Since participation is voluntary and completed by one member of a household, this may introduce other kinds of bias which are difficult to properly measure. \n",
    "\n",
    "Obtaining comprehensive medical information involuntarily raises ethical issues, even if the data is anonymized, but it may be possible to compare survey results with other sources of data, like insurance companies and hospitals. In fact, the MEPS website provides Insurance/Employer and Medical Provider components which may help detect bias."
   ]
  },
  {
   "cell_type": "markdown",
   "id": "d4b90d48-aedf-4cd6-8c0d-4732b83ed2be",
   "metadata": {},
   "source": [
    "### Possibilities"
   ]
  },
  {
   "cell_type": "markdown",
   "id": "a58a714a-00c0-4d45-aed3-13b2100f43ed",
   "metadata": {},
   "source": [
    "The MEPS data set is extensive, and can be used to estimate the answers to many questions about healthcare in the US. Other variables that would interesting to study in future analyses include health insurance coverage, satisfaction with healthcare, demographic variables, and income."
   ]
  },
  {
   "cell_type": "markdown",
   "id": "956d7e45-1354-499f-8d2d-e02823fd65b3",
   "metadata": {},
   "source": [
    "## Appendix"
   ]
  },
  {
   "cell_type": "markdown",
   "id": "f7163d44-8444-4ee2-a60e-4962d30236fd",
   "metadata": {},
   "source": [
    "### Lipidemia"
   ]
  },
  {
   "cell_type": "markdown",
   "id": "c8fde2aa-6d03-4030-be1e-bfb3d476d847",
   "metadata": {},
   "source": [
    "The ICD10CDX label \"DISORD LIPOPROTEIN METAB AND OTH LIPIDEM\" took some effort to parse. Expanding the abbreviations gives: \"Disorders Lipoprotein Metabolism and other Lipidemia\", although I am guessing on \"LIPIDEM\". According to this article: https://www.ncbi.nlm.nih.gov/pmc/articles/PMC4860871/ disorders of lipid metabolism are very common and are associated with atheroscerlosis, which is the buildup of fatty plaque in the arteries. This increases the risk of strokes and heart attacks."
   ]
  },
  {
   "cell_type": "markdown",
   "id": "261a363f-d002-4cb3-b3b5-0e9586faa9e6",
   "metadata": {},
   "source": [
    "### Repeated expenses for medication"
   ]
  },
  {
   "cell_type": "markdown",
   "id": "359844a6-83a8-43f9-8777-1158e1382c97",
   "metadata": {},
   "source": [
    "Are there cases where everything is the same except for ICD10CDX and CONDIDX?"
   ]
  },
  {
   "cell_type": "markdown",
   "id": "55576bfa-2ce2-4702-ba1d-2afeedc81423",
   "metadata": {},
   "source": [
    "A single eventid is associated with a single person, multiple conditions and at least two different expenses, but how do I distribute the expenses? Many, but not all of these, look like repeats. Why are they duplicated?"
   ]
  },
  {
   "cell_type": "markdown",
   "id": "872e1b2e-ada4-4dd9-9246-2f62796c1ce4",
   "metadata": {},
   "source": [
    "Let's go back to the consolidated event file."
   ]
  },
  {
   "cell_type": "code",
   "execution_count": 42,
   "id": "6256ca74-8289-4de2-869d-5383928db855",
   "metadata": {},
   "outputs": [
    {
     "data": {
      "text/html": [
       "<div>\n",
       "<style scoped>\n",
       "    .dataframe tbody tr th:only-of-type {\n",
       "        vertical-align: middle;\n",
       "    }\n",
       "\n",
       "    .dataframe tbody tr th {\n",
       "        vertical-align: top;\n",
       "    }\n",
       "\n",
       "    .dataframe thead th {\n",
       "        text-align: right;\n",
       "    }\n",
       "</style>\n",
       "<table border=\"1\" class=\"dataframe\">\n",
       "  <thead>\n",
       "    <tr style=\"text-align: right;\">\n",
       "      <th></th>\n",
       "      <th>DUPERSID</th>\n",
       "      <th>EVNTIDX</th>\n",
       "      <th>XP19X</th>\n",
       "    </tr>\n",
       "  </thead>\n",
       "  <tbody>\n",
       "    <tr>\n",
       "      <th>375126</th>\n",
       "      <td>2326898102</td>\n",
       "      <td>2326898102014403</td>\n",
       "      <td>17.67</td>\n",
       "    </tr>\n",
       "    <tr>\n",
       "      <th>375127</th>\n",
       "      <td>2326898102</td>\n",
       "      <td>2326898102014403</td>\n",
       "      <td>17.67</td>\n",
       "    </tr>\n",
       "    <tr>\n",
       "      <th>375128</th>\n",
       "      <td>2326898102</td>\n",
       "      <td>2326898102014403</td>\n",
       "      <td>19.20</td>\n",
       "    </tr>\n",
       "    <tr>\n",
       "      <th>375129</th>\n",
       "      <td>2326898102</td>\n",
       "      <td>2326898102014403</td>\n",
       "      <td>19.20</td>\n",
       "    </tr>\n",
       "    <tr>\n",
       "      <th>375130</th>\n",
       "      <td>2326898102</td>\n",
       "      <td>2326898102014403</td>\n",
       "      <td>19.20</td>\n",
       "    </tr>\n",
       "    <tr>\n",
       "      <th>375131</th>\n",
       "      <td>2326898102</td>\n",
       "      <td>2326898102014403</td>\n",
       "      <td>19.20</td>\n",
       "    </tr>\n",
       "    <tr>\n",
       "      <th>375132</th>\n",
       "      <td>2326898102</td>\n",
       "      <td>2326898102014403</td>\n",
       "      <td>19.20</td>\n",
       "    </tr>\n",
       "    <tr>\n",
       "      <th>375133</th>\n",
       "      <td>2326898102</td>\n",
       "      <td>2326898102014403</td>\n",
       "      <td>19.20</td>\n",
       "    </tr>\n",
       "  </tbody>\n",
       "</table>\n",
       "</div>"
      ],
      "text/plain": [
       "          DUPERSID           EVNTIDX  XP19X\n",
       "375126  2326898102  2326898102014403  17.67\n",
       "375127  2326898102  2326898102014403  17.67\n",
       "375128  2326898102  2326898102014403  19.20\n",
       "375129  2326898102  2326898102014403  19.20\n",
       "375130  2326898102  2326898102014403  19.20\n",
       "375131  2326898102  2326898102014403  19.20\n",
       "375132  2326898102  2326898102014403  19.20\n",
       "375133  2326898102  2326898102014403  19.20"
      ]
     },
     "execution_count": 42,
     "metadata": {},
     "output_type": "execute_result"
    }
   ],
   "source": [
    "events_df[(events_df['EVNTIDX'] == 2326898102014403)]"
   ]
  },
  {
   "cell_type": "markdown",
   "id": "a0823341-7ff5-4f62-a3e1-fab841daea10",
   "metadata": {},
   "source": [
    "This one, at least, appears to have duplicates from the prescribed medicines df. It is entirely possible to pay the same amount for several different drugs within the same event according to a friend in pharmacy school.\n",
    "I will therefore not remove duplicates."
   ]
  }
 ],
 "metadata": {
  "kernelspec": {
   "display_name": "Python 3 (ipykernel)",
   "language": "python",
   "name": "python3"
  },
  "language_info": {
   "codemirror_mode": {
    "name": "ipython",
    "version": 3
   },
   "file_extension": ".py",
   "mimetype": "text/x-python",
   "name": "python",
   "nbconvert_exporter": "python",
   "pygments_lexer": "ipython3",
   "version": "3.8.10"
  }
 },
 "nbformat": 4,
 "nbformat_minor": 5
}
