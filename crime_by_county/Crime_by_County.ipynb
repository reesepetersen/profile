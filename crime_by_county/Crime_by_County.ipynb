{
 "cells": [
  {
   "cell_type": "markdown",
   "metadata": {
    "id": "JSgg5UXMVl3E",
    "tags": []
   },
   "source": [
    "# Cleaning"
   ]
  },
  {
   "cell_type": "markdown",
   "metadata": {
    "id": "6ZNw_hkJVt4l"
   },
   "source": [
    "You would probably like to live in a place where your car won't be jacked or your packages stolen. Can we \n",
    "predict which counties will have low property crime in 2019 based on 2018 data?"
   ]
  },
  {
   "cell_type": "code",
   "execution_count": null,
   "metadata": {
    "executionInfo": {
     "elapsed": 774,
     "status": "ok",
     "timestamp": 1641093132077,
     "user": {
      "displayName": "Reese Petersen",
      "photoUrl": "https://lh3.googleusercontent.com/a-/AOh14GilYfQBt5zDDu0nMk3qcy8iA5YnGwo4aYUgr-ub=s64",
      "userId": "13136232261893056527"
     },
     "user_tz": 360
    },
    "id": "8DEKhB-FAk6U"
   },
   "outputs": [],
   "source": [
    "import numpy as np\n",
    "import pandas as pd\n",
    "import seaborn as sns\n",
    "import math\n",
    "from IPython.core.interactiveshell import InteractiveShell\n",
    "InteractiveShell.ast_node_interactivity = \"all\"\n",
    "from sklearn.preprocessing import StandardScaler\n",
    "import matplotlib.pyplot as plt"
   ]
  },
  {
   "cell_type": "markdown",
   "metadata": {
    "id": "TIG-H8OcWIoE",
    "jp-MarkdownHeadingCollapsed": true,
    "tags": []
   },
   "source": [
    "## Data Sources"
   ]
  },
  {
   "cell_type": "markdown",
   "metadata": {
    "id": "cR8mAb73Am_1"
   },
   "source": [
    "Crime Data:\n",
    "\n",
    "https://ucr.fbi.gov/crime-in-the-u.s/2018/crime-in-the-u.s.-2018/tables/table-10/table-10.xls/view\n",
    "\n",
    "https://ucr.fbi.gov/crime-in-the-u.s/2019/crime-in-the-u.s.-2019/tables/table-10/table-10.xls/view\n",
    "\n",
    "https://ucr.fbi.gov/crime-in-the-u.s/2018/crime-in-the-u.s.-2018/tables/table-10/table-10-data-declaration\n",
    "\n",
    "Population Data:\n",
    "\n",
    "https://www.census.gov/data/datasets/time-series/demo/popest/2010s-counties-total.html#par_textimage_739801612\n",
    "\n",
    "Income & Employment Data:\n",
    "\n",
    "https://apps.bea.gov/iTable/iTable.cfm?reqid=70&step=1&acrdn=6\n",
    "\n",
    "https://apps.bea.gov/regional/histdata/releases/1120lapi/LAPI-Methodology.pdf\n",
    "\n",
    "Average Temperature & Precipitation:\n",
    "\n",
    "https://www.ncdc.noaa.gov/cag/county/mapping/110/tavg/202012/12/anomaly\n",
    "\n",
    "Demographic Data:\n",
    "\n",
    "https://www2.census.gov/programs-surveys/popest/technical-documentation/file-layouts/2010-2019/cc-est2019-alldata.pdf\n",
    "\n",
    "https://www.census.gov/data/tables/time-series/demo/popest/2010s-counties-detail.html"
   ]
  },
  {
   "cell_type": "markdown",
   "metadata": {
    "id": "QFCqzatOAHF8",
    "jp-MarkdownHeadingCollapsed": true,
    "tags": []
   },
   "source": [
    "## Crime Data"
   ]
  },
  {
   "cell_type": "code",
   "execution_count": null,
   "metadata": {
    "executionInfo": {
     "elapsed": 246,
     "status": "ok",
     "timestamp": 1641093132550,
     "user": {
      "displayName": "Reese Petersen",
      "photoUrl": "https://lh3.googleusercontent.com/a-/AOh14GilYfQBt5zDDu0nMk3qcy8iA5YnGwo4aYUgr-ub=s64",
      "userId": "13136232261893056527"
     },
     "user_tz": 360
    },
    "id": "m9JYYOCVA4EV"
   },
   "outputs": [],
   "source": [
    "crime2018_df = pd.read_csv('Table_10_Offenses_Known_to_Law_Enforcement_by_State_by_Metropolitan_and_Nonmetropolitan_Counties_2018.csv', thousands=',')"
   ]
  },
  {
   "cell_type": "code",
   "execution_count": null,
   "metadata": {
    "colab": {
     "base_uri": "https://localhost:8080/",
     "height": 0
    },
    "executionInfo": {
     "elapsed": 20,
     "status": "ok",
     "timestamp": 1641093132550,
     "user": {
      "displayName": "Reese Petersen",
      "photoUrl": "https://lh3.googleusercontent.com/a-/AOh14GilYfQBt5zDDu0nMk3qcy8iA5YnGwo4aYUgr-ub=s64",
      "userId": "13136232261893056527"
     },
     "user_tz": 360
    },
    "id": "NKd31StRR9ss",
    "outputId": "e2325401-b042-4b71-a3cf-daacd6d0553e"
   },
   "outputs": [],
   "source": [
    "crime2018_df.head()"
   ]
  },
  {
   "cell_type": "markdown",
   "metadata": {
    "id": "bvO7iwIySCCy"
   },
   "source": [
    "The original Excel file uses merged cells for the State, so I can use fillna with ffill."
   ]
  },
  {
   "cell_type": "code",
   "execution_count": null,
   "metadata": {
    "executionInfo": {
     "elapsed": 16,
     "status": "ok",
     "timestamp": 1641093132551,
     "user": {
      "displayName": "Reese Petersen",
      "photoUrl": "https://lh3.googleusercontent.com/a-/AOh14GilYfQBt5zDDu0nMk3qcy8iA5YnGwo4aYUgr-ub=s64",
      "userId": "13136232261893056527"
     },
     "user_tz": 360
    },
    "id": "GQ87GX53UBn1"
   },
   "outputs": [],
   "source": [
    "crime2018_df[['State']] = crime2018_df[['State']].fillna(method='ffill')"
   ]
  },
  {
   "cell_type": "code",
   "execution_count": null,
   "metadata": {
    "colab": {
     "base_uri": "https://localhost:8080/"
    },
    "executionInfo": {
     "elapsed": 15,
     "status": "ok",
     "timestamp": 1641093132551,
     "user": {
      "displayName": "Reese Petersen",
      "photoUrl": "https://lh3.googleusercontent.com/a-/AOh14GilYfQBt5zDDu0nMk3qcy8iA5YnGwo4aYUgr-ub=s64",
      "userId": "13136232261893056527"
     },
     "user_tz": 360
    },
    "id": "iaHw2v3sU5Sc",
    "outputId": "87c764e7-b035-474b-8585-6a7eff14ab22"
   },
   "outputs": [],
   "source": [
    "crime2018_df.isna().sum()"
   ]
  },
  {
   "cell_type": "markdown",
   "metadata": {
    "id": "f_J44AS1XiAr"
   },
   "source": [
    "I'm interested in predicting Property Crime."
   ]
  },
  {
   "cell_type": "code",
   "execution_count": null,
   "metadata": {
    "executionInfo": {
     "elapsed": 11,
     "status": "ok",
     "timestamp": 1641093132552,
     "user": {
      "displayName": "Reese Petersen",
      "photoUrl": "https://lh3.googleusercontent.com/a-/AOh14GilYfQBt5zDDu0nMk3qcy8iA5YnGwo4aYUgr-ub=s64",
      "userId": "13136232261893056527"
     },
     "user_tz": 360
    },
    "id": "32a6Dvy2bk8J"
   },
   "outputs": [],
   "source": [
    "crime2018_df.drop(crime2018_df[crime2018_df['Property crime'].isna()].index, inplace=True)"
   ]
  },
  {
   "cell_type": "code",
   "execution_count": null,
   "metadata": {
    "colab": {
     "base_uri": "https://localhost:8080/"
    },
    "executionInfo": {
     "elapsed": 11,
     "status": "ok",
     "timestamp": 1641093132553,
     "user": {
      "displayName": "Reese Petersen",
      "photoUrl": "https://lh3.googleusercontent.com/a-/AOh14GilYfQBt5zDDu0nMk3qcy8iA5YnGwo4aYUgr-ub=s64",
      "userId": "13136232261893056527"
     },
     "user_tz": 360
    },
    "id": "8L8GwIVibxEv",
    "outputId": "7c5002dd-2a37-44cb-db66-f9728dc7cb0f"
   },
   "outputs": [],
   "source": [
    "crime2018_df.isna().sum()"
   ]
  },
  {
   "cell_type": "code",
   "execution_count": null,
   "metadata": {
    "executionInfo": {
     "elapsed": 10,
     "status": "ok",
     "timestamp": 1641093132553,
     "user": {
      "displayName": "Reese Petersen",
      "photoUrl": "https://lh3.googleusercontent.com/a-/AOh14GilYfQBt5zDDu0nMk3qcy8iA5YnGwo4aYUgr-ub=s64",
      "userId": "13136232261893056527"
     },
     "user_tz": 360
    },
    "id": "fVL4LUJlb0xi"
   },
   "outputs": [],
   "source": [
    "crime_drop_cols = [col for col in crime2018_df.columns.to_list() if col not in ['State','County','Property crime']]\n",
    "crime2018_df.drop(columns=crime_drop_cols, inplace=True)"
   ]
  },
  {
   "cell_type": "code",
   "execution_count": null,
   "metadata": {
    "colab": {
     "base_uri": "https://localhost:8080/",
     "height": 0
    },
    "executionInfo": {
     "elapsed": 293,
     "status": "ok",
     "timestamp": 1641093132837,
     "user": {
      "displayName": "Reese Petersen",
      "photoUrl": "https://lh3.googleusercontent.com/a-/AOh14GilYfQBt5zDDu0nMk3qcy8iA5YnGwo4aYUgr-ub=s64",
      "userId": "13136232261893056527"
     },
     "user_tz": 360
    },
    "id": "GJq_XFabdnrG",
    "outputId": "5b0b3210-2216-4492-f1bf-b8305c7509af"
   },
   "outputs": [],
   "source": [
    "crime2018_df.head()"
   ]
  },
  {
   "cell_type": "code",
   "execution_count": null,
   "metadata": {
    "executionInfo": {
     "elapsed": 22,
     "status": "ok",
     "timestamp": 1641093132837,
     "user": {
      "displayName": "Reese Petersen",
      "photoUrl": "https://lh3.googleusercontent.com/a-/AOh14GilYfQBt5zDDu0nMk3qcy8iA5YnGwo4aYUgr-ub=s64",
      "userId": "13136232261893056527"
     },
     "user_tz": 360
    },
    "id": "7sroBMpUd6T5"
   },
   "outputs": [],
   "source": [
    "crime2019_df = pd.read_csv('Table_10_Offenses_Known_to_Law_Enforcement_by_State_by_Metropolitan_and_Nonmetropolitan_Counties_2019.csv', thousands=',')"
   ]
  },
  {
   "cell_type": "code",
   "execution_count": null,
   "metadata": {
    "executionInfo": {
     "elapsed": 22,
     "status": "ok",
     "timestamp": 1641093132838,
     "user": {
      "displayName": "Reese Petersen",
      "photoUrl": "https://lh3.googleusercontent.com/a-/AOh14GilYfQBt5zDDu0nMk3qcy8iA5YnGwo4aYUgr-ub=s64",
      "userId": "13136232261893056527"
     },
     "user_tz": 360
    },
    "id": "T6UutmvSebYx"
   },
   "outputs": [],
   "source": [
    "crime2019_df[['State']] = crime2019_df[['State']].fillna(method='ffill')"
   ]
  },
  {
   "cell_type": "code",
   "execution_count": null,
   "metadata": {
    "colab": {
     "base_uri": "https://localhost:8080/"
    },
    "executionInfo": {
     "elapsed": 21,
     "status": "ok",
     "timestamp": 1641093132838,
     "user": {
      "displayName": "Reese Petersen",
      "photoUrl": "https://lh3.googleusercontent.com/a-/AOh14GilYfQBt5zDDu0nMk3qcy8iA5YnGwo4aYUgr-ub=s64",
      "userId": "13136232261893056527"
     },
     "user_tz": 360
    },
    "id": "5J1uTXBdeihE",
    "outputId": "15389f85-5bf1-455c-f101-d0829f9282f5"
   },
   "outputs": [],
   "source": [
    "crime2019_df.drop(columns=crime_drop_cols, inplace=True)\n",
    "crime2019_df.isna().sum()"
   ]
  },
  {
   "cell_type": "code",
   "execution_count": null,
   "metadata": {
    "executionInfo": {
     "elapsed": 14,
     "status": "ok",
     "timestamp": 1641093132839,
     "user": {
      "displayName": "Reese Petersen",
      "photoUrl": "https://lh3.googleusercontent.com/a-/AOh14GilYfQBt5zDDu0nMk3qcy8iA5YnGwo4aYUgr-ub=s64",
      "userId": "13136232261893056527"
     },
     "user_tz": 360
    },
    "id": "wBORcZZC4PQx"
   },
   "outputs": [],
   "source": [
    "crime2019_df.drop(crime2019_df[crime2019_df['Property crime'].isna()].index, inplace=True)"
   ]
  },
  {
   "cell_type": "code",
   "execution_count": null,
   "metadata": {
    "colab": {
     "base_uri": "https://localhost:8080/"
    },
    "executionInfo": {
     "elapsed": 14,
     "status": "ok",
     "timestamp": 1641093132839,
     "user": {
      "displayName": "Reese Petersen",
      "photoUrl": "https://lh3.googleusercontent.com/a-/AOh14GilYfQBt5zDDu0nMk3qcy8iA5YnGwo4aYUgr-ub=s64",
      "userId": "13136232261893056527"
     },
     "user_tz": 360
    },
    "id": "q1N5oZkt7C3Y",
    "outputId": "6d20147f-5837-4e2b-9b57-c9a8ff8614de"
   },
   "outputs": [],
   "source": [
    "crime2019_df.isna().sum()"
   ]
  },
  {
   "cell_type": "code",
   "execution_count": null,
   "metadata": {
    "colab": {
     "base_uri": "https://localhost:8080/",
     "height": 0
    },
    "executionInfo": {
     "elapsed": 14,
     "status": "ok",
     "timestamp": 1641093132840,
     "user": {
      "displayName": "Reese Petersen",
      "photoUrl": "https://lh3.googleusercontent.com/a-/AOh14GilYfQBt5zDDu0nMk3qcy8iA5YnGwo4aYUgr-ub=s64",
      "userId": "13136232261893056527"
     },
     "user_tz": 360
    },
    "id": "RivAl-dH7E-9",
    "outputId": "e0e06d02-49ae-489d-a00c-a989ed9d4c6d"
   },
   "outputs": [],
   "source": [
    "crime2019_df"
   ]
  },
  {
   "cell_type": "code",
   "execution_count": null,
   "metadata": {
    "colab": {
     "base_uri": "https://localhost:8080/",
     "height": 0
    },
    "executionInfo": {
     "elapsed": 12,
     "status": "ok",
     "timestamp": 1641093132840,
     "user": {
      "displayName": "Reese Petersen",
      "photoUrl": "https://lh3.googleusercontent.com/a-/AOh14GilYfQBt5zDDu0nMk3qcy8iA5YnGwo4aYUgr-ub=s64",
      "userId": "13136232261893056527"
     },
     "user_tz": 360
    },
    "id": "8EP9gXFma_06",
    "outputId": "56654c22-6aab-488b-d3bb-589700a378ac"
   },
   "outputs": [],
   "source": [
    "crime2018_standard_df = crime2018_df.copy().reset_index(drop=True)\n",
    "crime2018_standard_df['State'] = pd.Series([state.split(' - ')[0] for state in crime2018_df['State'].to_list()]).str.title()\n",
    "crime2018_standard_df"
   ]
  },
  {
   "cell_type": "code",
   "execution_count": null,
   "metadata": {
    "colab": {
     "base_uri": "https://localhost:8080/",
     "height": 0
    },
    "executionInfo": {
     "elapsed": 352,
     "status": "ok",
     "timestamp": 1641093133182,
     "user": {
      "displayName": "Reese Petersen",
      "photoUrl": "https://lh3.googleusercontent.com/a-/AOh14GilYfQBt5zDDu0nMk3qcy8iA5YnGwo4aYUgr-ub=s64",
      "userId": "13136232261893056527"
     },
     "user_tz": 360
    },
    "id": "6bDpIk_Ut3t3",
    "outputId": "0c1c4deb-50fb-420f-b6a7-c616a88ae85f"
   },
   "outputs": [],
   "source": [
    "crime2019_standard_df = crime2019_df.copy().reset_index(drop=True)\n",
    "crime2019_standard_df['State'] = pd.Series([state.split(' - ')[0] for state in crime2019_df['State'].to_list()]).str.title()\n",
    "crime2019_standard_df"
   ]
  },
  {
   "cell_type": "code",
   "execution_count": null,
   "metadata": {
    "colab": {
     "base_uri": "https://localhost:8080/"
    },
    "executionInfo": {
     "elapsed": 27,
     "status": "ok",
     "timestamp": 1641093133182,
     "user": {
      "displayName": "Reese Petersen",
      "photoUrl": "https://lh3.googleusercontent.com/a-/AOh14GilYfQBt5zDDu0nMk3qcy8iA5YnGwo4aYUgr-ub=s64",
      "userId": "13136232261893056527"
     },
     "user_tz": 360
    },
    "id": "qiDSnplqt7qD",
    "outputId": "38e97fc3-8591-4c3b-d292-435db01155f7"
   },
   "outputs": [],
   "source": [
    "[county for county in crime2018_standard_df['County'].to_list() if ' ' in county]"
   ]
  },
  {
   "cell_type": "code",
   "execution_count": null,
   "metadata": {
    "executionInfo": {
     "elapsed": 21,
     "status": "ok",
     "timestamp": 1641093133183,
     "user": {
      "displayName": "Reese Petersen",
      "photoUrl": "https://lh3.googleusercontent.com/a-/AOh14GilYfQBt5zDDu0nMk3qcy8iA5YnGwo4aYUgr-ub=s64",
      "userId": "13136232261893056527"
     },
     "user_tz": 360
    },
    "id": "6zDJ58LAuBB0"
   },
   "outputs": [],
   "source": [
    "crime2018_standard_df['County'] = crime2018_standard_df['County'].apply(lambda x: x.split(' County')[0].split(' Police')[0].split(' Public')[0])\n",
    "crime2018_standard_df['County'] = crime2018_standard_df['County'].apply(lambda x: x.split('3')[0].split('5')[0])\n",
    "crime2019_standard_df['County'] = crime2019_standard_df['County'].apply(lambda x: x.split(' County')[0].split(' Police')[0].split(' Public')[0])\n",
    "crime2019_standard_df['County'] = crime2019_standard_df['County'].apply(lambda x: x.split('3')[0].split('5')[0])"
   ]
  },
  {
   "cell_type": "code",
   "execution_count": null,
   "metadata": {},
   "outputs": [],
   "source": [
    "crime2018_standard_df[crime2018_standard_df.duplicated(subset=['State','County'], keep=False)]"
   ]
  },
  {
   "cell_type": "code",
   "execution_count": null,
   "metadata": {},
   "outputs": [],
   "source": [
    "crime2018_standard_df = crime2018_standard_df.groupby(by=['State','County']).sum().reset_index()\n",
    "crime2019_standard_df = crime2019_standard_df.groupby(by=['State','County']).sum().reset_index()"
   ]
  },
  {
   "cell_type": "markdown",
   "metadata": {
    "id": "oQPpN94aAh1b",
    "jp-MarkdownHeadingCollapsed": true,
    "tags": []
   },
   "source": [
    "## Temperature and Precipitation Data"
   ]
  },
  {
   "cell_type": "code",
   "execution_count": null,
   "metadata": {
    "executionInfo": {
     "elapsed": 21,
     "status": "ok",
     "timestamp": 1641093133184,
     "user": {
      "displayName": "Reese Petersen",
      "photoUrl": "https://lh3.googleusercontent.com/a-/AOh14GilYfQBt5zDDu0nMk3qcy8iA5YnGwo4aYUgr-ub=s64",
      "userId": "13136232261893056527"
     },
     "user_tz": 360
    },
    "id": "zTmZ1SIfE3kI"
   },
   "outputs": [],
   "source": [
    "ave_temp_2018_df = pd.read_csv('tavg-2018.csv')\n",
    "ave_temp_2019_df = pd.read_csv('tavg-2019.csv')\n",
    "precip_2018_df = pd.read_csv('pcp-2018.csv')\n",
    "precip_2019_df = pd.read_csv('pcp-2019.csv')"
   ]
  },
  {
   "cell_type": "code",
   "execution_count": null,
   "metadata": {
    "colab": {
     "base_uri": "https://localhost:8080/",
     "height": 206
    },
    "executionInfo": {
     "elapsed": 20,
     "status": "ok",
     "timestamp": 1641093133184,
     "user": {
      "displayName": "Reese Petersen",
      "photoUrl": "https://lh3.googleusercontent.com/a-/AOh14GilYfQBt5zDDu0nMk3qcy8iA5YnGwo4aYUgr-ub=s64",
      "userId": "13136232261893056527"
     },
     "user_tz": 360
    },
    "id": "00_b3-WHzfKI",
    "outputId": "e454cf28-66bf-44fb-9060-afa323ca2805"
   },
   "outputs": [],
   "source": [
    "ave_temp_2018_df.head()"
   ]
  },
  {
   "cell_type": "code",
   "execution_count": null,
   "metadata": {
    "executionInfo": {
     "elapsed": 19,
     "status": "ok",
     "timestamp": 1641093133184,
     "user": {
      "displayName": "Reese Petersen",
      "photoUrl": "https://lh3.googleusercontent.com/a-/AOh14GilYfQBt5zDDu0nMk3qcy8iA5YnGwo4aYUgr-ub=s64",
      "userId": "13136232261893056527"
     },
     "user_tz": 360
    },
    "id": "nZomAFLo2hoM"
   },
   "outputs": [],
   "source": [
    "ave_temp_2018_df.drop(columns=['Rank','Anomaly (1901-2000 base period)','1901-2000 Mean'], inplace=True)\n",
    "ave_temp_2019_df.drop(columns=['Rank','Anomaly (1901-2000 base period)','1901-2000 Mean'], inplace=True)\n",
    "ave_temp_2018_df.rename(columns={'Value':'Annual Average Temp'}, inplace=True)\n",
    "ave_temp_2019_df.rename(columns={'Value':'Annual Average Temp'}, inplace=True)"
   ]
  },
  {
   "cell_type": "code",
   "execution_count": null,
   "metadata": {
    "colab": {
     "base_uri": "https://localhost:8080/",
     "height": 206
    },
    "executionInfo": {
     "elapsed": 19,
     "status": "ok",
     "timestamp": 1641093133185,
     "user": {
      "displayName": "Reese Petersen",
      "photoUrl": "https://lh3.googleusercontent.com/a-/AOh14GilYfQBt5zDDu0nMk3qcy8iA5YnGwo4aYUgr-ub=s64",
      "userId": "13136232261893056527"
     },
     "user_tz": 360
    },
    "id": "QvBNczbY4CN8",
    "outputId": "ce79ca2f-5fb3-4805-9aee-7dfed8f71428"
   },
   "outputs": [],
   "source": [
    "ave_temp_2018_df.head()"
   ]
  },
  {
   "cell_type": "code",
   "execution_count": null,
   "metadata": {
    "colab": {
     "base_uri": "https://localhost:8080/",
     "height": 206
    },
    "executionInfo": {
     "elapsed": 18,
     "status": "ok",
     "timestamp": 1641093133185,
     "user": {
      "displayName": "Reese Petersen",
      "photoUrl": "https://lh3.googleusercontent.com/a-/AOh14GilYfQBt5zDDu0nMk3qcy8iA5YnGwo4aYUgr-ub=s64",
      "userId": "13136232261893056527"
     },
     "user_tz": 360
    },
    "id": "S6Gz6owC2ad6",
    "outputId": "7059cceb-c4e7-439f-f28d-2850e2d6f324"
   },
   "outputs": [],
   "source": [
    "precip_2018_df.head()"
   ]
  },
  {
   "cell_type": "code",
   "execution_count": null,
   "metadata": {
    "executionInfo": {
     "elapsed": 16,
     "status": "ok",
     "timestamp": 1641093133186,
     "user": {
      "displayName": "Reese Petersen",
      "photoUrl": "https://lh3.googleusercontent.com/a-/AOh14GilYfQBt5zDDu0nMk3qcy8iA5YnGwo4aYUgr-ub=s64",
      "userId": "13136232261893056527"
     },
     "user_tz": 360
    },
    "id": "l1uk8elh2daQ"
   },
   "outputs": [],
   "source": [
    "precip_2018_df.drop(columns=['Rank','Anomaly (1901-2000 base period)','1901-2000 Mean'], inplace=True)\n",
    "precip_2019_df.drop(columns=['Rank','Anomaly (1901-2000 base period)','1901-2000 Mean'], inplace=True)\n",
    "precip_2018_df.rename(columns={'Value':'Total Annual Precipitation'}, inplace=True)\n",
    "precip_2019_df.rename(columns={'Value':'Total Annual Precipitation'}, inplace=True)"
   ]
  },
  {
   "cell_type": "code",
   "execution_count": null,
   "metadata": {
    "colab": {
     "base_uri": "https://localhost:8080/",
     "height": 206
    },
    "executionInfo": {
     "elapsed": 15,
     "status": "ok",
     "timestamp": 1641093133186,
     "user": {
      "displayName": "Reese Petersen",
      "photoUrl": "https://lh3.googleusercontent.com/a-/AOh14GilYfQBt5zDDu0nMk3qcy8iA5YnGwo4aYUgr-ub=s64",
      "userId": "13136232261893056527"
     },
     "user_tz": 360
    },
    "id": "Ci7Ixusg56Nq",
    "outputId": "31a74f1f-e241-40d3-855f-1fafbcb3c834"
   },
   "outputs": [],
   "source": [
    "precip_2018_df.head()"
   ]
  },
  {
   "cell_type": "code",
   "execution_count": null,
   "metadata": {
    "executionInfo": {
     "elapsed": 15,
     "status": "ok",
     "timestamp": 1641093133187,
     "user": {
      "displayName": "Reese Petersen",
      "photoUrl": "https://lh3.googleusercontent.com/a-/AOh14GilYfQBt5zDDu0nMk3qcy8iA5YnGwo4aYUgr-ub=s64",
      "userId": "13136232261893056527"
     },
     "user_tz": 360
    },
    "id": "NWALWp8o57NA"
   },
   "outputs": [],
   "source": [
    "temp_precip_2018_df = pd.merge(ave_temp_2018_df, precip_2018_df)\n",
    "temp_precip_2019_df = pd.merge(ave_temp_2019_df, precip_2019_df)"
   ]
  },
  {
   "cell_type": "code",
   "execution_count": null,
   "metadata": {
    "colab": {
     "base_uri": "https://localhost:8080/",
     "height": 206
    },
    "executionInfo": {
     "elapsed": 15,
     "status": "ok",
     "timestamp": 1641093133187,
     "user": {
      "displayName": "Reese Petersen",
      "photoUrl": "https://lh3.googleusercontent.com/a-/AOh14GilYfQBt5zDDu0nMk3qcy8iA5YnGwo4aYUgr-ub=s64",
      "userId": "13136232261893056527"
     },
     "user_tz": 360
    },
    "id": "GVWgALud6X2J",
    "outputId": "7542e0ac-72e7-4b5f-97a7-391fc8b5a97c"
   },
   "outputs": [],
   "source": [
    "temp_precip_2018_df.head()"
   ]
  },
  {
   "cell_type": "code",
   "execution_count": null,
   "metadata": {
    "executionInfo": {
     "elapsed": 15,
     "status": "ok",
     "timestamp": 1641093133188,
     "user": {
      "displayName": "Reese Petersen",
      "photoUrl": "https://lh3.googleusercontent.com/a-/AOh14GilYfQBt5zDDu0nMk3qcy8iA5YnGwo4aYUgr-ub=s64",
      "userId": "13136232261893056527"
     },
     "user_tz": 360
    },
    "id": "rsnf4Ivqu6N1"
   },
   "outputs": [],
   "source": [
    "us_state_to_abbrev = {\n",
    "    \"Alabama\": \"AL\",\n",
    "    \"Alaska\": \"AK\",\n",
    "    \"Arizona\": \"AZ\",\n",
    "    \"Arkansas\": \"AR\",\n",
    "    \"California\": \"CA\",\n",
    "    \"Colorado\": \"CO\",\n",
    "    \"Connecticut\": \"CT\",\n",
    "    \"Delaware\": \"DE\",\n",
    "    \"Florida\": \"FL\",\n",
    "    \"Georgia\": \"GA\",\n",
    "    \"Hawaii\": \"HI\",\n",
    "    \"Idaho\": \"ID\",\n",
    "    \"Illinois\": \"IL\",\n",
    "    \"Indiana\": \"IN\",\n",
    "    \"Iowa\": \"IA\",\n",
    "    \"Kansas\": \"KS\",\n",
    "    \"Kentucky\": \"KY\",\n",
    "    \"Louisiana\": \"LA\",\n",
    "    \"Maine\": \"ME\",\n",
    "    \"Maryland\": \"MD\",\n",
    "    \"Massachusetts\": \"MA\",\n",
    "    \"Michigan\": \"MI\",\n",
    "    \"Minnesota\": \"MN\",\n",
    "    \"Mississippi\": \"MS\",\n",
    "    \"Missouri\": \"MO\",\n",
    "    \"Montana\": \"MT\",\n",
    "    \"Nebraska\": \"NE\",\n",
    "    \"Nevada\": \"NV\",\n",
    "    \"New Hampshire\": \"NH\",\n",
    "    \"New Jersey\": \"NJ\",\n",
    "    \"New Mexico\": \"NM\",\n",
    "    \"New York\": \"NY\",\n",
    "    \"North Carolina\": \"NC\",\n",
    "    \"North Dakota\": \"ND\",\n",
    "    \"Ohio\": \"OH\",\n",
    "    \"Oklahoma\": \"OK\",\n",
    "    \"Oregon\": \"OR\",\n",
    "    \"Pennsylvania\": \"PA\",\n",
    "    \"Rhode Island\": \"RI\",\n",
    "    \"South Carolina\": \"SC\",\n",
    "    \"South Dakota\": \"SD\",\n",
    "    \"Tennessee\": \"TN\",\n",
    "    \"Texas\": \"TX\",\n",
    "    \"Utah\": \"UT\",\n",
    "    \"Vermont\": \"VT\",\n",
    "    \"Virginia\": \"VA\",\n",
    "    \"Washington\": \"WA\",\n",
    "    \"West Virginia\": \"WV\",\n",
    "    \"Wisconsin\": \"WI\",\n",
    "    \"Wyoming\": \"WY\",\n",
    "    \"District of Columbia\": \"DC\",\n",
    "    \"American Samoa\": \"AS\",\n",
    "    \"Guam\": \"GU\",\n",
    "    \"Northern Mariana Islands\": \"MP\",\n",
    "    \"Puerto Rico\": \"PR\",\n",
    "    \"United States Minor Outlying Islands\": \"UM\",\n",
    "    \"U.S. Virgin Islands\": \"VI\",\n",
    "}\n",
    "    \n",
    "# invert the dictionary\n",
    "abbrev_to_us_state = dict(map(reversed, us_state_to_abbrev.items()))"
   ]
  },
  {
   "cell_type": "code",
   "execution_count": null,
   "metadata": {
    "executionInfo": {
     "elapsed": 11,
     "status": "ok",
     "timestamp": 1641093133348,
     "user": {
      "displayName": "Reese Petersen",
      "photoUrl": "https://lh3.googleusercontent.com/a-/AOh14GilYfQBt5zDDu0nMk3qcy8iA5YnGwo4aYUgr-ub=s64",
      "userId": "13136232261893056527"
     },
     "user_tz": 360
    },
    "id": "l0fRgT7RwNez"
   },
   "outputs": [],
   "source": [
    "temp_precip_2018_df['State'] = temp_precip_2018_df['Location ID'].apply(lambda x: x.split('-')[0]).map(abbrev_to_us_state)"
   ]
  },
  {
   "cell_type": "code",
   "execution_count": null,
   "metadata": {
    "executionInfo": {
     "elapsed": 12,
     "status": "ok",
     "timestamp": 1641093133349,
     "user": {
      "displayName": "Reese Petersen",
      "photoUrl": "https://lh3.googleusercontent.com/a-/AOh14GilYfQBt5zDDu0nMk3qcy8iA5YnGwo4aYUgr-ub=s64",
      "userId": "13136232261893056527"
     },
     "user_tz": 360
    },
    "id": "J2U8ESv4wmwK"
   },
   "outputs": [],
   "source": [
    "temp_precip_2018_df['County'] = temp_precip_2018_df['Location'].apply(lambda x: x.split(' County')[0])"
   ]
  },
  {
   "cell_type": "code",
   "execution_count": null,
   "metadata": {
    "executionInfo": {
     "elapsed": 11,
     "status": "ok",
     "timestamp": 1641093133349,
     "user": {
      "displayName": "Reese Petersen",
      "photoUrl": "https://lh3.googleusercontent.com/a-/AOh14GilYfQBt5zDDu0nMk3qcy8iA5YnGwo4aYUgr-ub=s64",
      "userId": "13136232261893056527"
     },
     "user_tz": 360
    },
    "id": "FetdsleJwpgu"
   },
   "outputs": [],
   "source": [
    "temp_precip_2018_df.drop(columns=['Location ID', 'Location'], inplace=True)"
   ]
  },
  {
   "cell_type": "code",
   "execution_count": null,
   "metadata": {
    "executionInfo": {
     "elapsed": 12,
     "status": "ok",
     "timestamp": 1641093133350,
     "user": {
      "displayName": "Reese Petersen",
      "photoUrl": "https://lh3.googleusercontent.com/a-/AOh14GilYfQBt5zDDu0nMk3qcy8iA5YnGwo4aYUgr-ub=s64",
      "userId": "13136232261893056527"
     },
     "user_tz": 360
    },
    "id": "gs-RHgNAwroK"
   },
   "outputs": [],
   "source": [
    "temp_precip_2019_df['State'] = temp_precip_2019_df['Location ID'].apply(lambda x: x.split('-')[0]).map(abbrev_to_us_state)\n",
    "temp_precip_2019_df['County'] = temp_precip_2019_df['Location'].apply(lambda x: x.split(' County')[0])\n",
    "temp_precip_2019_df.drop(columns=['Location ID', 'Location'], inplace=True)"
   ]
  },
  {
   "cell_type": "markdown",
   "metadata": {
    "id": "974tLDd_6cst",
    "jp-MarkdownHeadingCollapsed": true,
    "tags": []
   },
   "source": [
    "## Income and Employment Data"
   ]
  },
  {
   "cell_type": "code",
   "execution_count": null,
   "metadata": {
    "executionInfo": {
     "elapsed": 12,
     "status": "ok",
     "timestamp": 1641093133350,
     "user": {
      "displayName": "Reese Petersen",
      "photoUrl": "https://lh3.googleusercontent.com/a-/AOh14GilYfQBt5zDDu0nMk3qcy8iA5YnGwo4aYUgr-ub=s64",
      "userId": "13136232261893056527"
     },
     "user_tz": 360
    },
    "id": "yI8SW6sFConA"
   },
   "outputs": [],
   "source": [
    "income_df = pd.read_csv('inc_emp_2018-2019.csv')"
   ]
  },
  {
   "cell_type": "code",
   "execution_count": null,
   "metadata": {
    "colab": {
     "base_uri": "https://localhost:8080/",
     "height": 363
    },
    "executionInfo": {
     "elapsed": 13,
     "status": "ok",
     "timestamp": 1641093133351,
     "user": {
      "displayName": "Reese Petersen",
      "photoUrl": "https://lh3.googleusercontent.com/a-/AOh14GilYfQBt5zDDu0nMk3qcy8iA5YnGwo4aYUgr-ub=s64",
      "userId": "13136232261893056527"
     },
     "user_tz": 360
    },
    "id": "FC8lJ5rfDoAu",
    "outputId": "a5dc6741-d60c-4382-f158-fb814325d802"
   },
   "outputs": [],
   "source": [
    "income_df.head(10)"
   ]
  },
  {
   "cell_type": "code",
   "execution_count": null,
   "metadata": {
    "executionInfo": {
     "elapsed": 12,
     "status": "ok",
     "timestamp": 1641093133351,
     "user": {
      "displayName": "Reese Petersen",
      "photoUrl": "https://lh3.googleusercontent.com/a-/AOh14GilYfQBt5zDDu0nMk3qcy8iA5YnGwo4aYUgr-ub=s64",
      "userId": "13136232261893056527"
     },
     "user_tz": 360
    },
    "id": "Hs9sXxasQYU7"
   },
   "outputs": [],
   "source": [
    "income_df.drop(columns='LineCode', inplace=True)\n",
    "income_df.replace({'Per capita personal income (dollars) 4/':'Per capita personal income ($)'}, inplace=True)\n",
    "per_cap_inc_df = income_df[income_df['Description'] == 'Per capita personal income ($)'].copy()\n",
    "per_cap_inc_df.rename(columns={'2018':'Per capita personal income ($) 2018','2019':'Per capita personal income ($) 2019'}, inplace=True)\n",
    "per_cap_inc_df.drop(columns='Description', inplace=True)"
   ]
  },
  {
   "cell_type": "code",
   "execution_count": null,
   "metadata": {
    "colab": {
     "base_uri": "https://localhost:8080/",
     "height": 206
    },
    "executionInfo": {
     "elapsed": 12,
     "status": "ok",
     "timestamp": 1641093133351,
     "user": {
      "displayName": "Reese Petersen",
      "photoUrl": "https://lh3.googleusercontent.com/a-/AOh14GilYfQBt5zDDu0nMk3qcy8iA5YnGwo4aYUgr-ub=s64",
      "userId": "13136232261893056527"
     },
     "user_tz": 360
    },
    "id": "M1JCK0BJcR6c",
    "outputId": "600c8cdd-f4c7-4b84-fa02-ae2dcce6dd16"
   },
   "outputs": [],
   "source": [
    "per_cap_inc_df.head(5)"
   ]
  },
  {
   "cell_type": "code",
   "execution_count": null,
   "metadata": {
    "colab": {
     "base_uri": "https://localhost:8080/",
     "height": 206
    },
    "executionInfo": {
     "elapsed": 12,
     "status": "ok",
     "timestamp": 1641093133352,
     "user": {
      "displayName": "Reese Petersen",
      "photoUrl": "https://lh3.googleusercontent.com/a-/AOh14GilYfQBt5zDDu0nMk3qcy8iA5YnGwo4aYUgr-ub=s64",
      "userId": "13136232261893056527"
     },
     "user_tz": 360
    },
    "id": "9PGRDlWQeM3J",
    "outputId": "d0e7c4c9-02d8-467e-c93f-fd75a56809e4"
   },
   "outputs": [],
   "source": [
    "employment_df = income_df[income_df['Description'] == 'Total employment'].copy()\n",
    "employment_df.rename(columns={'2018':'Total employment 2018','2019':'Total employment 2019'}, inplace=True)\n",
    "employment_df.drop(columns='Description', inplace=True)\n",
    "employment_df.head(5)"
   ]
  },
  {
   "cell_type": "code",
   "execution_count": null,
   "metadata": {
    "colab": {
     "base_uri": "https://localhost:8080/",
     "height": 206
    },
    "executionInfo": {
     "elapsed": 7,
     "status": "ok",
     "timestamp": 1641093133554,
     "user": {
      "displayName": "Reese Petersen",
      "photoUrl": "https://lh3.googleusercontent.com/a-/AOh14GilYfQBt5zDDu0nMk3qcy8iA5YnGwo4aYUgr-ub=s64",
      "userId": "13136232261893056527"
     },
     "user_tz": 360
    },
    "id": "AJ8fWVDpfwyd",
    "outputId": "360dfd05-587e-4cbc-e999-095bacb21ce4"
   },
   "outputs": [],
   "source": [
    "income_df.replace({'Population (persons) 3/':'Population'}, inplace=True)\n",
    "population_df = income_df[income_df['Description'] == 'Population'].copy()\n",
    "population_df.rename(columns={'2018':'Population 2018','2019':'Population 2019'}, inplace=True)\n",
    "population_df.drop(columns='Description', inplace=True)\n",
    "population_df.head(5)"
   ]
  },
  {
   "cell_type": "code",
   "execution_count": null,
   "metadata": {
    "executionInfo": {
     "elapsed": 5,
     "status": "ok",
     "timestamp": 1641093133554,
     "user": {
      "displayName": "Reese Petersen",
      "photoUrl": "https://lh3.googleusercontent.com/a-/AOh14GilYfQBt5zDDu0nMk3qcy8iA5YnGwo4aYUgr-ub=s64",
      "userId": "13136232261893056527"
     },
     "user_tz": 360
    },
    "id": "kIKD_rvHx4ib"
   },
   "outputs": [],
   "source": [
    "inc_emp_df = pd.merge(per_cap_inc_df, employment_df)\n",
    "inc_emp_pop_2018_df = pd.merge(population_df, inc_emp_df)\n",
    "inc_emp_pop_2019_df = inc_emp_pop_2018_df.copy()\n",
    "collist = inc_emp_pop_2018_df.columns.to_list()\n",
    "collist2018 = [col for col in collist if '2019' not in col]\n",
    "collist2019 = [col for col in collist if '2018' not in col]\n",
    "inc_emp_pop_2018_df = inc_emp_pop_2018_df[collist2018]\n",
    "inc_emp_pop_2019_df = inc_emp_pop_2019_df[collist2019]"
   ]
  },
  {
   "cell_type": "code",
   "execution_count": null,
   "metadata": {
    "executionInfo": {
     "elapsed": 6,
     "status": "ok",
     "timestamp": 1641093133555,
     "user": {
      "displayName": "Reese Petersen",
      "photoUrl": "https://lh3.googleusercontent.com/a-/AOh14GilYfQBt5zDDu0nMk3qcy8iA5YnGwo4aYUgr-ub=s64",
      "userId": "13136232261893056527"
     },
     "user_tz": 360
    },
    "id": "KVXKIyo2z6iB"
   },
   "outputs": [],
   "source": [
    "inc_emp_pop_2018_df.drop(index=inc_emp_pop_2018_df[inc_emp_pop_2018_df['Population 2018'] == '(NA)'].index, inplace=True)\n",
    "inc_emp_pop_2019_df.drop(index=inc_emp_pop_2019_df[inc_emp_pop_2019_df['Population 2019'] == '(NA)'].index, inplace=True)"
   ]
  },
  {
   "cell_type": "code",
   "execution_count": null,
   "metadata": {
    "executionInfo": {
     "elapsed": 6,
     "status": "ok",
     "timestamp": 1641093133555,
     "user": {
      "displayName": "Reese Petersen",
      "photoUrl": "https://lh3.googleusercontent.com/a-/AOh14GilYfQBt5zDDu0nMk3qcy8iA5YnGwo4aYUgr-ub=s64",
      "userId": "13136232261893056527"
     },
     "user_tz": 360
    },
    "id": "lO75BApHr4uz"
   },
   "outputs": [],
   "source": [
    "inc_emp_pop_2018_df['Population 2018'] = inc_emp_pop_2018_df['Population 2018'].astype(int)\n",
    "inc_emp_pop_2019_df['Population 2019'] = inc_emp_pop_2019_df['Population 2019'].astype(int)"
   ]
  },
  {
   "cell_type": "code",
   "execution_count": null,
   "metadata": {
    "executionInfo": {
     "elapsed": 6,
     "status": "ok",
     "timestamp": 1641093133556,
     "user": {
      "displayName": "Reese Petersen",
      "photoUrl": "https://lh3.googleusercontent.com/a-/AOh14GilYfQBt5zDDu0nMk3qcy8iA5YnGwo4aYUgr-ub=s64",
      "userId": "13136232261893056527"
     },
     "user_tz": 360
    },
    "id": "Sps5VaCAvePo"
   },
   "outputs": [],
   "source": [
    "inc_emp_pop_2018_df['Per capita personal income ($)'] = inc_emp_pop_2018_df['Per capita personal income ($) 2018'].astype(int)\n",
    "inc_emp_pop_2019_df['Per capita personal income ($)'] = inc_emp_pop_2019_df['Per capita personal income ($) 2019'].astype(int)"
   ]
  },
  {
   "cell_type": "code",
   "execution_count": null,
   "metadata": {
    "executionInfo": {
     "elapsed": 6,
     "status": "ok",
     "timestamp": 1641093133556,
     "user": {
      "displayName": "Reese Petersen",
      "photoUrl": "https://lh3.googleusercontent.com/a-/AOh14GilYfQBt5zDDu0nMk3qcy8iA5YnGwo4aYUgr-ub=s64",
      "userId": "13136232261893056527"
     },
     "user_tz": 360
    },
    "id": "pW3PZKq0vyFD"
   },
   "outputs": [],
   "source": [
    "inc_emp_pop_2018_df['Total employment'] = inc_emp_pop_2018_df['Total employment 2018'].astype(int)\n",
    "inc_emp_pop_2019_df['Total employment'] = inc_emp_pop_2019_df['Total employment 2019'].astype(int)"
   ]
  },
  {
   "cell_type": "code",
   "execution_count": null,
   "metadata": {
    "executionInfo": {
     "elapsed": 6,
     "status": "ok",
     "timestamp": 1641093133556,
     "user": {
      "displayName": "Reese Petersen",
      "photoUrl": "https://lh3.googleusercontent.com/a-/AOh14GilYfQBt5zDDu0nMk3qcy8iA5YnGwo4aYUgr-ub=s64",
      "userId": "13136232261893056527"
     },
     "user_tz": 360
    },
    "id": "3KjMcX3yw3t_"
   },
   "outputs": [],
   "source": [
    "inc_emp_pop_2018_df.drop(columns=['Per capita personal income ($) 2018','Total employment 2018'], inplace=True)\n",
    "inc_emp_pop_2019_df.drop(columns=['Per capita personal income ($) 2019','Total employment 2019'], inplace=True)"
   ]
  },
  {
   "cell_type": "code",
   "execution_count": null,
   "metadata": {
    "colab": {
     "base_uri": "https://localhost:8080/",
     "height": 206
    },
    "executionInfo": {
     "elapsed": 217,
     "status": "ok",
     "timestamp": 1641093133768,
     "user": {
      "displayName": "Reese Petersen",
      "photoUrl": "https://lh3.googleusercontent.com/a-/AOh14GilYfQBt5zDDu0nMk3qcy8iA5YnGwo4aYUgr-ub=s64",
      "userId": "13136232261893056527"
     },
     "user_tz": 360
    },
    "id": "AknfC4r3uRkR",
    "outputId": "1271f206-fda5-4663-a3d0-7af8564f0cfe"
   },
   "outputs": [],
   "source": [
    "inc_emp_pop_2018_df[inc_emp_pop_2018_df['GeoName'].apply(lambda x: len(x.split(','))) > 2]"
   ]
  },
  {
   "cell_type": "markdown",
   "metadata": {
    "id": "vb2_XeL1uRuE"
   },
   "source": [
    "The county name appears first, the city names combined with this county appear next."
   ]
  },
  {
   "cell_type": "code",
   "execution_count": null,
   "metadata": {
    "executionInfo": {
     "elapsed": 31,
     "status": "ok",
     "timestamp": 1641093133769,
     "user": {
      "displayName": "Reese Petersen",
      "photoUrl": "https://lh3.googleusercontent.com/a-/AOh14GilYfQBt5zDDu0nMk3qcy8iA5YnGwo4aYUgr-ub=s64",
      "userId": "13136232261893056527"
     },
     "user_tz": 360
    },
    "id": "R1nUWupIukGX"
   },
   "outputs": [],
   "source": [
    "inc_emp_pop_2018_df['County'] = inc_emp_pop_2018_df['GeoName'].apply(lambda x: x.split(',')[0])\n",
    "inc_emp_pop_2018_df['ST'] = inc_emp_pop_2018_df['GeoName'].apply(lambda x: x.split(',')[-1])"
   ]
  },
  {
   "cell_type": "code",
   "execution_count": null,
   "metadata": {
    "colab": {
     "base_uri": "https://localhost:8080/",
     "height": 206
    },
    "executionInfo": {
     "elapsed": 28,
     "status": "ok",
     "timestamp": 1641093133770,
     "user": {
      "displayName": "Reese Petersen",
      "photoUrl": "https://lh3.googleusercontent.com/a-/AOh14GilYfQBt5zDDu0nMk3qcy8iA5YnGwo4aYUgr-ub=s64",
      "userId": "13136232261893056527"
     },
     "user_tz": 360
    },
    "id": "AYMLaSdHunGX",
    "outputId": "b5d896f0-0ae9-4e55-fdef-e73e9940fa32"
   },
   "outputs": [],
   "source": [
    "inc_emp_pop_2018_df.head()"
   ]
  },
  {
   "cell_type": "code",
   "execution_count": null,
   "metadata": {
    "colab": {
     "base_uri": "https://localhost:8080/"
    },
    "executionInfo": {
     "elapsed": 28,
     "status": "ok",
     "timestamp": 1641093133771,
     "user": {
      "displayName": "Reese Petersen",
      "photoUrl": "https://lh3.googleusercontent.com/a-/AOh14GilYfQBt5zDDu0nMk3qcy8iA5YnGwo4aYUgr-ub=s64",
      "userId": "13136232261893056527"
     },
     "user_tz": 360
    },
    "id": "DkKdrhY8u1WO",
    "outputId": "fc1dbb64-2c05-4808-e11e-587aca92e9de"
   },
   "outputs": [],
   "source": [
    "inc_emp_pop_2018_df['ST'].unique()"
   ]
  },
  {
   "cell_type": "code",
   "execution_count": null,
   "metadata": {
    "executionInfo": {
     "elapsed": 17,
     "status": "ok",
     "timestamp": 1641093133772,
     "user": {
      "displayName": "Reese Petersen",
      "photoUrl": "https://lh3.googleusercontent.com/a-/AOh14GilYfQBt5zDDu0nMk3qcy8iA5YnGwo4aYUgr-ub=s64",
      "userId": "13136232261893056527"
     },
     "user_tz": 360
    },
    "id": "dq2aVUqDu47p"
   },
   "outputs": [],
   "source": [
    "inc_emp_pop_2018_df['ST'] = inc_emp_pop_2018_df['ST'].apply(lambda x: x.split('*')[0].strip())"
   ]
  },
  {
   "cell_type": "code",
   "execution_count": null,
   "metadata": {
    "executionInfo": {
     "elapsed": 16,
     "status": "ok",
     "timestamp": 1641093133772,
     "user": {
      "displayName": "Reese Petersen",
      "photoUrl": "https://lh3.googleusercontent.com/a-/AOh14GilYfQBt5zDDu0nMk3qcy8iA5YnGwo4aYUgr-ub=s64",
      "userId": "13136232261893056527"
     },
     "user_tz": 360
    },
    "id": "jsLe7NKJu6DO"
   },
   "outputs": [],
   "source": [
    "inc_emp_pop_2018_df['State'] = inc_emp_pop_2018_df['ST'].map(abbrev_to_us_state)"
   ]
  },
  {
   "cell_type": "code",
   "execution_count": null,
   "metadata": {
    "executionInfo": {
     "elapsed": 17,
     "status": "ok",
     "timestamp": 1641093133773,
     "user": {
      "displayName": "Reese Petersen",
      "photoUrl": "https://lh3.googleusercontent.com/a-/AOh14GilYfQBt5zDDu0nMk3qcy8iA5YnGwo4aYUgr-ub=s64",
      "userId": "13136232261893056527"
     },
     "user_tz": 360
    },
    "id": "kj6Vr7FHu5zm"
   },
   "outputs": [],
   "source": [
    "inc_emp_pop_2018_df.drop(columns=['GeoName','ST'], inplace=True)"
   ]
  },
  {
   "cell_type": "code",
   "execution_count": null,
   "metadata": {
    "executionInfo": {
     "elapsed": 613,
     "status": "ok",
     "timestamp": 1641093134370,
     "user": {
      "displayName": "Reese Petersen",
      "photoUrl": "https://lh3.googleusercontent.com/a-/AOh14GilYfQBt5zDDu0nMk3qcy8iA5YnGwo4aYUgr-ub=s64",
      "userId": "13136232261893056527"
     },
     "user_tz": 360
    },
    "id": "SwijAP95vCR2"
   },
   "outputs": [],
   "source": [
    "inc_emp_pop_2019_df['County'] = inc_emp_pop_2019_df['GeoName'].apply(lambda x: x.split(',')[0])\n",
    "inc_emp_pop_2019_df['ST'] = inc_emp_pop_2019_df['GeoName'].apply(lambda x: x.split(',')[-1])\n",
    "inc_emp_pop_2019_df['ST'] = inc_emp_pop_2019_df['ST'].apply(lambda x: x.split('*')[0].strip())\n",
    "inc_emp_pop_2019_df['State'] = inc_emp_pop_2019_df['ST'].map(abbrev_to_us_state)\n",
    "inc_emp_pop_2019_df.drop(columns=['GeoName','ST'], inplace=True)"
   ]
  },
  {
   "cell_type": "markdown",
   "metadata": {
    "id": "shWIIrCVk1pH",
    "jp-MarkdownHeadingCollapsed": true,
    "tags": []
   },
   "source": [
    "## Demographic Data"
   ]
  },
  {
   "cell_type": "code",
   "execution_count": null,
   "metadata": {
    "executionInfo": {
     "elapsed": 134,
     "status": "ok",
     "timestamp": 1641093134501,
     "user": {
      "displayName": "Reese Petersen",
      "photoUrl": "https://lh3.googleusercontent.com/a-/AOh14GilYfQBt5zDDu0nMk3qcy8iA5YnGwo4aYUgr-ub=s64",
      "userId": "13136232261893056527"
     },
     "user_tz": 360
    },
    "id": "NO-AT9eegLmK"
   },
   "outputs": [],
   "source": [
    "demographics_df = pd.read_csv('cc-est2018-2019.csv')"
   ]
  },
  {
   "cell_type": "code",
   "execution_count": null,
   "metadata": {
    "colab": {
     "base_uri": "https://localhost:8080/",
     "height": 357
    },
    "executionInfo": {
     "elapsed": 9,
     "status": "ok",
     "timestamp": 1641093134502,
     "user": {
      "displayName": "Reese Petersen",
      "photoUrl": "https://lh3.googleusercontent.com/a-/AOh14GilYfQBt5zDDu0nMk3qcy8iA5YnGwo4aYUgr-ub=s64",
      "userId": "13136232261893056527"
     },
     "user_tz": 360
    },
    "id": "x3SFY85SB46r",
    "outputId": "364e80fc-0c5d-48e9-b294-2d04acfb6bf9"
   },
   "outputs": [],
   "source": [
    "demographics_df.head()"
   ]
  },
  {
   "cell_type": "markdown",
   "metadata": {
    "id": "GjPfeGgqB701"
   },
   "source": [
    "Year 11 is 2018, 12 is 2019.\n",
    "\n",
    "AGEGRP is age // 5 + 1, while 0 represents the total of all age groups."
   ]
  },
  {
   "cell_type": "code",
   "execution_count": null,
   "metadata": {
    "colab": {
     "base_uri": "https://localhost:8080/",
     "height": 364
    },
    "executionInfo": {
     "elapsed": 634,
     "status": "ok",
     "timestamp": 1641093135130,
     "user": {
      "displayName": "Reese Petersen",
      "photoUrl": "https://lh3.googleusercontent.com/a-/AOh14GilYfQBt5zDDu0nMk3qcy8iA5YnGwo4aYUgr-ub=s64",
      "userId": "13136232261893056527"
     },
     "user_tz": 360
    },
    "id": "bpLs7qhopwpN",
    "outputId": "c46a120f-0c8c-4417-bbf2-b31ed7d9b35a"
   },
   "outputs": [],
   "source": [
    "demographics_df.describe()"
   ]
  },
  {
   "cell_type": "code",
   "execution_count": null,
   "metadata": {
    "colab": {
     "base_uri": "https://localhost:8080/"
    },
    "executionInfo": {
     "elapsed": 12,
     "status": "ok",
     "timestamp": 1641093135132,
     "user": {
      "displayName": "Reese Petersen",
      "photoUrl": "https://lh3.googleusercontent.com/a-/AOh14GilYfQBt5zDDu0nMk3qcy8iA5YnGwo4aYUgr-ub=s64",
      "userId": "13136232261893056527"
     },
     "user_tz": 360
    },
    "id": "EEdBRGrsqpyl",
    "outputId": "0fab6f8e-cae7-478e-f64c-f2c940fea532"
   },
   "outputs": [],
   "source": [
    "len(demographics_df.columns)"
   ]
  },
  {
   "cell_type": "markdown",
   "metadata": {
    "id": "TOcmKe3orvn1"
   },
   "source": [
    "Over 40 columns for each racial/ethnic group, 2 years, and 18 age groups. That would make for a lot of columns in a pivot table. I will drop some of smaller-valued ethnic columns."
   ]
  },
  {
   "cell_type": "code",
   "execution_count": null,
   "metadata": {
    "executionInfo": {
     "elapsed": 10,
     "status": "ok",
     "timestamp": 1641093135134,
     "user": {
      "displayName": "Reese Petersen",
      "photoUrl": "https://lh3.googleusercontent.com/a-/AOh14GilYfQBt5zDDu0nMk3qcy8iA5YnGwo4aYUgr-ub=s64",
      "userId": "13136232261893056527"
     },
     "user_tz": 360
    },
    "id": "p2eeBOz2smOG"
   },
   "outputs": [],
   "source": [
    "collist = demographics_df.columns.to_list()\n",
    "hlist = [col for col in collist if 'H' in col]\n",
    "hlist.remove('H_MALE')\n",
    "hlist.remove('H_FEMALE')\n",
    "demographics_df.drop(columns=hlist, inplace=True)"
   ]
  },
  {
   "cell_type": "code",
   "execution_count": null,
   "metadata": {
    "colab": {
     "base_uri": "https://localhost:8080/",
     "height": 337
    },
    "executionInfo": {
     "elapsed": 11,
     "status": "ok",
     "timestamp": 1641093135135,
     "user": {
      "displayName": "Reese Petersen",
      "photoUrl": "https://lh3.googleusercontent.com/a-/AOh14GilYfQBt5zDDu0nMk3qcy8iA5YnGwo4aYUgr-ub=s64",
      "userId": "13136232261893056527"
     },
     "user_tz": 360
    },
    "id": "c5WTyTgOyPHV",
    "outputId": "2b79be02-e905-4af0-cfd6-b41972d33aad"
   },
   "outputs": [],
   "source": [
    "demographics_df.head()"
   ]
  },
  {
   "cell_type": "code",
   "execution_count": null,
   "metadata": {
    "executionInfo": {
     "elapsed": 10,
     "status": "ok",
     "timestamp": 1641093135136,
     "user": {
      "displayName": "Reese Petersen",
      "photoUrl": "https://lh3.googleusercontent.com/a-/AOh14GilYfQBt5zDDu0nMk3qcy8iA5YnGwo4aYUgr-ub=s64",
      "userId": "13136232261893056527"
     },
     "user_tz": 360
    },
    "id": "6q9K7gXe4x7E"
   },
   "outputs": [],
   "source": [
    "demo2018_df = demographics_df[demographics_df['YEAR'] == 11].copy()\n",
    "demo2019_df = demographics_df[demographics_df['YEAR'] == 12].copy()\n",
    "demo2018_df.drop(columns='YEAR', inplace=True)\n",
    "demo2019_df.drop(columns='YEAR', inplace=True)"
   ]
  },
  {
   "cell_type": "code",
   "execution_count": null,
   "metadata": {
    "colab": {
     "base_uri": "https://localhost:8080/",
     "height": 250
    },
    "executionInfo": {
     "elapsed": 212,
     "status": "ok",
     "timestamp": 1641093135338,
     "user": {
      "displayName": "Reese Petersen",
      "photoUrl": "https://lh3.googleusercontent.com/a-/AOh14GilYfQBt5zDDu0nMk3qcy8iA5YnGwo4aYUgr-ub=s64",
      "userId": "13136232261893056527"
     },
     "user_tz": 360
    },
    "id": "xdjpGLB15BBt",
    "outputId": "d0ec5be8-7f2b-4cd6-afac-e7405313317a"
   },
   "outputs": [],
   "source": [
    "demo2018_df.head()"
   ]
  },
  {
   "cell_type": "code",
   "execution_count": null,
   "metadata": {
    "executionInfo": {
     "elapsed": 7,
     "status": "ok",
     "timestamp": 1641093135340,
     "user": {
      "displayName": "Reese Petersen",
      "photoUrl": "https://lh3.googleusercontent.com/a-/AOh14GilYfQBt5zDDu0nMk3qcy8iA5YnGwo4aYUgr-ub=s64",
      "userId": "13136232261893056527"
     },
     "user_tz": 360
    },
    "id": "hiMAcpu0yl05"
   },
   "outputs": [],
   "source": [
    "demo2018pivot_df = demo2018_df.pivot(index=['STNAME','CTYNAME'], columns='AGEGRP')"
   ]
  },
  {
   "cell_type": "code",
   "execution_count": null,
   "metadata": {
    "colab": {
     "base_uri": "https://localhost:8080/",
     "height": 449
    },
    "executionInfo": {
     "elapsed": 150,
     "status": "ok",
     "timestamp": 1641093135484,
     "user": {
      "displayName": "Reese Petersen",
      "photoUrl": "https://lh3.googleusercontent.com/a-/AOh14GilYfQBt5zDDu0nMk3qcy8iA5YnGwo4aYUgr-ub=s64",
      "userId": "13136232261893056527"
     },
     "user_tz": 360
    },
    "id": "XnVg8qlv3bMo",
    "outputId": "8f6fd93f-404f-472e-9556-68dc7ce97f40"
   },
   "outputs": [],
   "source": [
    "demo2018pivot_df.head()"
   ]
  },
  {
   "cell_type": "code",
   "execution_count": null,
   "metadata": {
    "executionInfo": {
     "elapsed": 4,
     "status": "ok",
     "timestamp": 1641093135485,
     "user": {
      "displayName": "Reese Petersen",
      "photoUrl": "https://lh3.googleusercontent.com/a-/AOh14GilYfQBt5zDDu0nMk3qcy8iA5YnGwo4aYUgr-ub=s64",
      "userId": "13136232261893056527"
     },
     "user_tz": 360
    },
    "id": "xZrYcFLaLbYc"
   },
   "outputs": [],
   "source": [
    "demo2018pivot_df.drop(columns=['STATE','COUNTY'], inplace=True)"
   ]
  },
  {
   "cell_type": "code",
   "execution_count": null,
   "metadata": {
    "colab": {
     "base_uri": "https://localhost:8080/",
     "height": 449
    },
    "executionInfo": {
     "elapsed": 12,
     "status": "ok",
     "timestamp": 1641093136453,
     "user": {
      "displayName": "Reese Petersen",
      "photoUrl": "https://lh3.googleusercontent.com/a-/AOh14GilYfQBt5zDDu0nMk3qcy8iA5YnGwo4aYUgr-ub=s64",
      "userId": "13136232261893056527"
     },
     "user_tz": 360
    },
    "id": "zb2xogwdPCFV",
    "outputId": "79e80a0b-d156-4399-b530-03b33968006e"
   },
   "outputs": [],
   "source": [
    "demo2018pivot_df.head()"
   ]
  },
  {
   "cell_type": "code",
   "execution_count": null,
   "metadata": {
    "executionInfo": {
     "elapsed": 10,
     "status": "ok",
     "timestamp": 1641093136454,
     "user": {
      "displayName": "Reese Petersen",
      "photoUrl": "https://lh3.googleusercontent.com/a-/AOh14GilYfQBt5zDDu0nMk3qcy8iA5YnGwo4aYUgr-ub=s64",
      "userId": "13136232261893056527"
     },
     "user_tz": 360
    },
    "id": "gsp8DzzIPSbF"
   },
   "outputs": [],
   "source": [
    "collist = demo2018pivot_df.columns.to_list()\n",
    "level1 = [col[0] for col in collist]\n",
    "level2 = [col[1] for col in collist]\n",
    "collist1 = list(set(level1))\n",
    "collist2 = list(set(level2))"
   ]
  },
  {
   "cell_type": "code",
   "execution_count": null,
   "metadata": {
    "executionInfo": {
     "elapsed": 11,
     "status": "ok",
     "timestamp": 1641093136455,
     "user": {
      "displayName": "Reese Petersen",
      "photoUrl": "https://lh3.googleusercontent.com/a-/AOh14GilYfQBt5zDDu0nMk3qcy8iA5YnGwo4aYUgr-ub=s64",
      "userId": "13136232261893056527"
     },
     "user_tz": 360
    },
    "id": "A7NJ6nagzD5l"
   },
   "outputs": [],
   "source": [
    "indlist = demo2018pivot_df.index.to_list()\n",
    "ind1 = [i[0] for i in indlist]\n",
    "ind2 = [i[1] for i in indlist]\n",
    "demo_wide_2018_df = pd.DataFrame()\n",
    "demo_wide_2018_df['State'] = pd.Series(ind1)\n",
    "demo_wide_2018_df['County'] = pd.Series(ind2)\n",
    "for race in collist1:\n",
    "  for age_group in collist2:\n",
    "    demo_wide_2018_df[f'{race}_{age_group}'] = demo2018pivot_df[race,age_group].values"
   ]
  },
  {
   "cell_type": "code",
   "execution_count": null,
   "metadata": {
    "executionInfo": {
     "elapsed": 2692,
     "status": "ok",
     "timestamp": 1641093139137,
     "user": {
      "displayName": "Reese Petersen",
      "photoUrl": "https://lh3.googleusercontent.com/a-/AOh14GilYfQBt5zDDu0nMk3qcy8iA5YnGwo4aYUgr-ub=s64",
      "userId": "13136232261893056527"
     },
     "user_tz": 360
    },
    "id": "lF-xSharPqdu"
   },
   "outputs": [],
   "source": [
    "collist = demo_wide_2018_df.columns.to_list()\n",
    "collist.remove('State')\n",
    "collist.remove('County')\n",
    "collist.remove('TOT_POP_0')\n",
    "for col in collist:\n",
    "  demo_wide_2018_df[f'FRAC_{col}'] = demo_wide_2018_df[col]/demo_wide_2018_df['TOT_POP_0']\n",
    "  demo_wide_2018_df.drop(columns=col, inplace=True)"
   ]
  },
  {
   "cell_type": "code",
   "execution_count": null,
   "metadata": {
    "colab": {
     "base_uri": "https://localhost:8080/",
     "height": 386
    },
    "executionInfo": {
     "elapsed": 12,
     "status": "ok",
     "timestamp": 1641093139138,
     "user": {
      "displayName": "Reese Petersen",
      "photoUrl": "https://lh3.googleusercontent.com/a-/AOh14GilYfQBt5zDDu0nMk3qcy8iA5YnGwo4aYUgr-ub=s64",
      "userId": "13136232261893056527"
     },
     "user_tz": 360
    },
    "id": "Ad9PAiJmkyVK",
    "outputId": "1d99a767-2704-4f38-b2e2-99a4b9dc8cbb"
   },
   "outputs": [],
   "source": [
    "demo_wide_2018_df.head(5)"
   ]
  },
  {
   "cell_type": "code",
   "execution_count": null,
   "metadata": {
    "executionInfo": {
     "elapsed": 2444,
     "status": "ok",
     "timestamp": 1641093141573,
     "user": {
      "displayName": "Reese Petersen",
      "photoUrl": "https://lh3.googleusercontent.com/a-/AOh14GilYfQBt5zDDu0nMk3qcy8iA5YnGwo4aYUgr-ub=s64",
      "userId": "13136232261893056527"
     },
     "user_tz": 360
    },
    "id": "7Qp_-t9_uo_A"
   },
   "outputs": [],
   "source": [
    "demo2019pivot_df = demo2019_df.pivot(index=['STNAME','CTYNAME'], columns='AGEGRP')\n",
    "demo2019pivot_df.drop(columns=['STATE','COUNTY'], inplace=True)\n",
    "collist = demo2019pivot_df.columns.to_list()\n",
    "level1 = [col[0] for col in collist]\n",
    "level2 = [col[1] for col in collist]\n",
    "collist1 = list(set(level1))\n",
    "collist2 = list(set(level2))\n",
    "indlist = demo2019pivot_df.index.to_list()\n",
    "ind1 = [i[0] for i in indlist]\n",
    "ind2 = [i[1] for i in indlist]\n",
    "demo_wide_2019_df = pd.DataFrame()\n",
    "demo_wide_2019_df['State'] = pd.Series(ind1)\n",
    "demo_wide_2019_df['County'] = pd.Series(ind2)\n",
    "for race in collist1:\n",
    "  for age_group in collist2:\n",
    "    demo_wide_2019_df[f'{race}_{age_group}'] = demo2019pivot_df[race,age_group].values\n",
    "collist = demo_wide_2019_df.columns.to_list()\n",
    "collist.remove('State')\n",
    "collist.remove('County')\n",
    "collist.remove('TOT_POP_0')\n",
    "for col in collist:\n",
    "  demo_wide_2019_df[f'FRAC_{col}'] = demo_wide_2019_df[col]/demo_wide_2019_df['TOT_POP_0']\n",
    "  demo_wide_2019_df.drop(columns=col, inplace=True)"
   ]
  },
  {
   "cell_type": "code",
   "execution_count": null,
   "metadata": {
    "executionInfo": {
     "elapsed": 16,
     "status": "ok",
     "timestamp": 1641093141574,
     "user": {
      "displayName": "Reese Petersen",
      "photoUrl": "https://lh3.googleusercontent.com/a-/AOh14GilYfQBt5zDDu0nMk3qcy8iA5YnGwo4aYUgr-ub=s64",
      "userId": "13136232261893056527"
     },
     "user_tz": 360
    },
    "id": "A-UTZHXnv7OY"
   },
   "outputs": [],
   "source": [
    "multi_word_counties =[county for county in demo_wide_2018_df['County'].to_list() if len(county.split(' ')) > 2 and 'County' in county]\n",
    "multi_words = [county.split(' County')[0] for county in multi_word_counties]"
   ]
  },
  {
   "cell_type": "code",
   "execution_count": null,
   "metadata": {
    "executionInfo": {
     "elapsed": 14,
     "status": "ok",
     "timestamp": 1641093141574,
     "user": {
      "displayName": "Reese Petersen",
      "photoUrl": "https://lh3.googleusercontent.com/a-/AOh14GilYfQBt5zDDu0nMk3qcy8iA5YnGwo4aYUgr-ub=s64",
      "userId": "13136232261893056527"
     },
     "user_tz": 360
    },
    "id": "rcFHcDK7v-Bj"
   },
   "outputs": [],
   "source": [
    "demo_wide_2018_df['County'] = demo_wide_2018_df['County'].apply(lambda x: x.split(' County')[0])"
   ]
  },
  {
   "cell_type": "code",
   "execution_count": null,
   "metadata": {
    "executionInfo": {
     "elapsed": 14,
     "status": "ok",
     "timestamp": 1641093141575,
     "user": {
      "displayName": "Reese Petersen",
      "photoUrl": "https://lh3.googleusercontent.com/a-/AOh14GilYfQBt5zDDu0nMk3qcy8iA5YnGwo4aYUgr-ub=s64",
      "userId": "13136232261893056527"
     },
     "user_tz": 360
    },
    "id": "9B5VQa4lv-wI"
   },
   "outputs": [],
   "source": [
    "multi_word_counties =[county for county in demo_wide_2019_df['County'].to_list() if len(county.split(' ')) > 2 and 'County' in county]\n",
    "multi_words = [county.split(' County')[0] for county in multi_word_counties]\n",
    "demo_wide_2019_df['County'] = demo_wide_2019_df['County'].apply(lambda x: x.split(' County')[0])"
   ]
  },
  {
   "cell_type": "markdown",
   "metadata": {
    "id": "SbHaKdHFTZxu",
    "jp-MarkdownHeadingCollapsed": true,
    "tags": []
   },
   "source": [
    "## 2018 Combination"
   ]
  },
  {
   "cell_type": "code",
   "execution_count": null,
   "metadata": {
    "executionInfo": {
     "elapsed": 15,
     "status": "ok",
     "timestamp": 1641093141576,
     "user": {
      "displayName": "Reese Petersen",
      "photoUrl": "https://lh3.googleusercontent.com/a-/AOh14GilYfQBt5zDDu0nMk3qcy8iA5YnGwo4aYUgr-ub=s64",
      "userId": "13136232261893056527"
     },
     "user_tz": 360
    },
    "id": "JDnEAVhUXQ6z"
   },
   "outputs": [],
   "source": [
    "crime_demo_2018_df = pd.merge(crime2018_standard_df, demo_wide_2018_df)\n",
    "inc_temp_2018_df = pd.merge(inc_emp_pop_2018_df, temp_precip_2018_df)\n",
    "county_data_2018_df = pd.merge(crime_demo_2018_df, inc_temp_2018_df)"
   ]
  },
  {
   "cell_type": "code",
   "execution_count": null,
   "metadata": {
    "colab": {
     "base_uri": "https://localhost:8080/",
     "height": 424
    },
    "executionInfo": {
     "elapsed": 15,
     "status": "ok",
     "timestamp": 1641093141577,
     "user": {
      "displayName": "Reese Petersen",
      "photoUrl": "https://lh3.googleusercontent.com/a-/AOh14GilYfQBt5zDDu0nMk3qcy8iA5YnGwo4aYUgr-ub=s64",
      "userId": "13136232261893056527"
     },
     "user_tz": 360
    },
    "id": "vum9a6MlXfjr",
    "outputId": "fa11ec0b-c359-4b48-b500-4393789d335b"
   },
   "outputs": [],
   "source": [
    "county_data_2018_df[['Population 2018','TOT_POP_0']].head()"
   ]
  },
  {
   "cell_type": "markdown",
   "metadata": {
    "id": "iD3RryXAmnZK"
   },
   "source": [
    "For any further calculation involving the total population of the county, I will use the average of the two total population columns. They should agree, as they are apparently both based on Census estimates, but they don't match exactly but they aren't different enough to justify the time required to track down an answer."
   ]
  },
  {
   "cell_type": "code",
   "execution_count": null,
   "metadata": {
    "executionInfo": {
     "elapsed": 13,
     "status": "ok",
     "timestamp": 1641093141577,
     "user": {
      "displayName": "Reese Petersen",
      "photoUrl": "https://lh3.googleusercontent.com/a-/AOh14GilYfQBt5zDDu0nMk3qcy8iA5YnGwo4aYUgr-ub=s64",
      "userId": "13136232261893056527"
     },
     "user_tz": 360
    },
    "id": "nkrR-vqQqCKe"
   },
   "outputs": [],
   "source": [
    "county_data_2018_df['Population'] = (county_data_2018_df['Population 2018'] + county_data_2018_df['TOT_POP_0']) / 2\n",
    "county_data_2018_df.drop(columns=['Population 2018','TOT_POP_0'], inplace=True)"
   ]
  },
  {
   "cell_type": "code",
   "execution_count": null,
   "metadata": {
    "executionInfo": {
     "elapsed": 12,
     "status": "ok",
     "timestamp": 1641093141577,
     "user": {
      "displayName": "Reese Petersen",
      "photoUrl": "https://lh3.googleusercontent.com/a-/AOh14GilYfQBt5zDDu0nMk3qcy8iA5YnGwo4aYUgr-ub=s64",
      "userId": "13136232261893056527"
     },
     "user_tz": 360
    },
    "id": "OMftsQNwzOjl"
   },
   "outputs": [],
   "source": [
    "county_data_2018_df['Employment Rate'] = county_data_2018_df['Total employment'] / county_data_2018_df['Population']\n",
    "county_data_2018_df.drop(columns='Total employment', inplace=True)"
   ]
  },
  {
   "cell_type": "code",
   "execution_count": null,
   "metadata": {
    "executionInfo": {
     "elapsed": 171,
     "status": "ok",
     "timestamp": 1641093141736,
     "user": {
      "displayName": "Reese Petersen",
      "photoUrl": "https://lh3.googleusercontent.com/a-/AOh14GilYfQBt5zDDu0nMk3qcy8iA5YnGwo4aYUgr-ub=s64",
      "userId": "13136232261893056527"
     },
     "user_tz": 360
    },
    "id": "SCSTYfM8z4ww"
   },
   "outputs": [],
   "source": [
    "county_data_2018_df['Property Crime Rate'] = county_data_2018_df['Property crime'] / county_data_2018_df['Population']\n",
    "county_data_2018_df.drop(columns='Property crime', inplace=True)"
   ]
  },
  {
   "cell_type": "code",
   "execution_count": null,
   "metadata": {
    "executionInfo": {
     "elapsed": 4,
     "status": "ok",
     "timestamp": 1641093141737,
     "user": {
      "displayName": "Reese Petersen",
      "photoUrl": "https://lh3.googleusercontent.com/a-/AOh14GilYfQBt5zDDu0nMk3qcy8iA5YnGwo4aYUgr-ub=s64",
      "userId": "13136232261893056527"
     },
     "user_tz": 360
    },
    "id": "AdMP-z7DMgV2"
   },
   "outputs": [],
   "source": [
    "id_cols = ['State', 'County', 'GeoFips']\n",
    "targets = ['Property Crime Rate']\n",
    "non_X_cols = id_cols + targets\n",
    "all_X_cols = [col for col in county_data_2018_df.columns.to_list() if col not in non_X_cols]\n",
    "all_demo_cols = [col for col in all_X_cols if '_' in col]\n",
    "all_age_cols = [col for col in all_X_cols if 'TOT' in col]\n",
    "all_race_cols = [col for col in all_demo_cols if col not in all_age_cols]\n",
    "no_race_X_cols = [col for col in all_X_cols if col not in all_race_cols]\n",
    "no_demo_X_cols = [col for col in all_X_cols if col not in all_demo_cols]\n",
    "no_race_cols = [col for col in county_data_2018_df.columns.to_list() if col not in all_race_cols]"
   ]
  },
  {
   "cell_type": "code",
   "execution_count": null,
   "metadata": {
    "colab": {
     "base_uri": "https://localhost:8080/",
     "height": 1000
    },
    "executionInfo": {
     "elapsed": 23433,
     "status": "ok",
     "timestamp": 1641093165166,
     "user": {
      "displayName": "Reese Petersen",
      "photoUrl": "https://lh3.googleusercontent.com/a-/AOh14GilYfQBt5zDDu0nMk3qcy8iA5YnGwo4aYUgr-ub=s64",
      "userId": "13136232261893056527"
     },
     "user_tz": 360
    },
    "id": "4bPztEeHRofk",
    "outputId": "9107a874-eb3b-4d70-fb6c-f8c1e60a4ac0"
   },
   "outputs": [],
   "source": [
    "plt.rc('axes', titlesize=10)\n",
    "plt.rc('axes', labelsize=10)\n",
    "plt.rc('xtick', labelsize=10)\n",
    "plt.rc('ytick', labelsize=10)\n",
    "sns.pairplot(county_data_2018_df[no_demo_X_cols+targets])"
   ]
  },
  {
   "cell_type": "markdown",
   "metadata": {
    "id": "CKs45yNTYgCe"
   },
   "source": [
    "I might have a little more cleaning to do. There are some outliers that might be hurting the accuracy, and I didn't expect the employment rate to go above 1."
   ]
  },
  {
   "cell_type": "markdown",
   "metadata": {
    "id": "kpF4fDPRaSdA"
   },
   "source": [
    "The documentation states that part-time and full-time employment are treated equally, so if a lot of people have multiple part-time jobs, or work in a different county from where they live, that can skew this metric.\n",
    "\n",
    "I will just winsorize the employment rate to 1, because I don't have the means to account for mismatched employment data."
   ]
  },
  {
   "cell_type": "code",
   "execution_count": null,
   "metadata": {
    "executionInfo": {
     "elapsed": 20,
     "status": "ok",
     "timestamp": 1641093165167,
     "user": {
      "displayName": "Reese Petersen",
      "photoUrl": "https://lh3.googleusercontent.com/a-/AOh14GilYfQBt5zDDu0nMk3qcy8iA5YnGwo4aYUgr-ub=s64",
      "userId": "13136232261893056527"
     },
     "user_tz": 360
    },
    "id": "7I1GDoKTLIiG"
   },
   "outputs": [],
   "source": [
    "def limit_to_1(val):\n",
    "  if val < 1:\n",
    "    return val\n",
    "  else:\n",
    "    return 1"
   ]
  },
  {
   "cell_type": "code",
   "execution_count": null,
   "metadata": {
    "executionInfo": {
     "elapsed": 20,
     "status": "ok",
     "timestamp": 1641093165168,
     "user": {
      "displayName": "Reese Petersen",
      "photoUrl": "https://lh3.googleusercontent.com/a-/AOh14GilYfQBt5zDDu0nMk3qcy8iA5YnGwo4aYUgr-ub=s64",
      "userId": "13136232261893056527"
     },
     "user_tz": 360
    },
    "id": "x3iwBTwqKrZU"
   },
   "outputs": [],
   "source": [
    "county_data_2018_df.drop(index=county_data_2018_df[county_data_2018_df['Population'] > 0.5e7].index, inplace=True)\n",
    "county_data_2018_df.drop(index=county_data_2018_df[county_data_2018_df['Property Crime Rate'] > 0.04].index, inplace=True)\n",
    "county_data_2018_df['Employment Rate'] = county_data_2018_df['Employment Rate'].apply(limit_to_1)"
   ]
  },
  {
   "cell_type": "markdown",
   "metadata": {
    "id": "Eg6cS0J7YZU0",
    "jp-MarkdownHeadingCollapsed": true,
    "tags": []
   },
   "source": [
    "## 2019 Combination"
   ]
  },
  {
   "cell_type": "code",
   "execution_count": null,
   "metadata": {
    "executionInfo": {
     "elapsed": 19,
     "status": "ok",
     "timestamp": 1641093165168,
     "user": {
      "displayName": "Reese Petersen",
      "photoUrl": "https://lh3.googleusercontent.com/a-/AOh14GilYfQBt5zDDu0nMk3qcy8iA5YnGwo4aYUgr-ub=s64",
      "userId": "13136232261893056527"
     },
     "user_tz": 360
    },
    "id": "oJW4xcE9YMvU"
   },
   "outputs": [],
   "source": [
    "crime_demo_2019_df = pd.merge(crime2019_standard_df, demo_wide_2019_df)\n",
    "inc_temp_2019_df = pd.merge(inc_emp_pop_2019_df, temp_precip_2019_df)\n",
    "county_data_2019_df = pd.merge(crime_demo_2019_df, inc_temp_2019_df)"
   ]
  },
  {
   "cell_type": "code",
   "execution_count": null,
   "metadata": {
    "executionInfo": {
     "elapsed": 20,
     "status": "ok",
     "timestamp": 1641093165169,
     "user": {
      "displayName": "Reese Petersen",
      "photoUrl": "https://lh3.googleusercontent.com/a-/AOh14GilYfQBt5zDDu0nMk3qcy8iA5YnGwo4aYUgr-ub=s64",
      "userId": "13136232261893056527"
     },
     "user_tz": 360
    },
    "id": "x1fxBJB6Yla3"
   },
   "outputs": [],
   "source": [
    "county_data_2019_df['Population'] = (county_data_2019_df['Population 2019'] + county_data_2019_df['TOT_POP_0']) / 2\n",
    "county_data_2019_df.drop(columns=['Population 2019','TOT_POP_0'], inplace=True)"
   ]
  },
  {
   "cell_type": "code",
   "execution_count": null,
   "metadata": {
    "executionInfo": {
     "elapsed": 19,
     "status": "ok",
     "timestamp": 1641093165169,
     "user": {
      "displayName": "Reese Petersen",
      "photoUrl": "https://lh3.googleusercontent.com/a-/AOh14GilYfQBt5zDDu0nMk3qcy8iA5YnGwo4aYUgr-ub=s64",
      "userId": "13136232261893056527"
     },
     "user_tz": 360
    },
    "id": "SCngDqb7sntG"
   },
   "outputs": [],
   "source": [
    "county_data_2019_df['Employment Rate'] = county_data_2019_df['Total employment'] / county_data_2019_df['Population']\n",
    "county_data_2019_df.drop(columns='Total employment', inplace=True)"
   ]
  },
  {
   "cell_type": "code",
   "execution_count": null,
   "metadata": {
    "executionInfo": {
     "elapsed": 18,
     "status": "ok",
     "timestamp": 1641093165169,
     "user": {
      "displayName": "Reese Petersen",
      "photoUrl": "https://lh3.googleusercontent.com/a-/AOh14GilYfQBt5zDDu0nMk3qcy8iA5YnGwo4aYUgr-ub=s64",
      "userId": "13136232261893056527"
     },
     "user_tz": 360
    },
    "id": "WjqYgcFavC6s"
   },
   "outputs": [],
   "source": [
    "county_data_2019_df['Property Crime Rate'] = county_data_2019_df['Property crime'] / county_data_2019_df['Population']\n",
    "county_data_2019_df.drop(columns='Property crime', inplace=True)"
   ]
  },
  {
   "cell_type": "code",
   "execution_count": null,
   "metadata": {
    "executionInfo": {
     "elapsed": 10,
     "status": "ok",
     "timestamp": 1641093165316,
     "user": {
      "displayName": "Reese Petersen",
      "photoUrl": "https://lh3.googleusercontent.com/a-/AOh14GilYfQBt5zDDu0nMk3qcy8iA5YnGwo4aYUgr-ub=s64",
      "userId": "13136232261893056527"
     },
     "user_tz": 360
    },
    "id": "taGp-_F6L1ZW"
   },
   "outputs": [],
   "source": [
    "county_data_2019_df.drop(index=county_data_2019_df[county_data_2019_df['Population'] > 0.5e7].index, inplace=True)\n",
    "county_data_2019_df.drop(index=county_data_2019_df[county_data_2019_df['Property Crime Rate'] > 0.04].index, inplace=True)\n",
    "county_data_2019_df['Employment Rate'] = county_data_2019_df['Employment Rate'].apply(limit_to_1)"
   ]
  },
  {
   "cell_type": "code",
   "execution_count": null,
   "metadata": {
    "colab": {
     "base_uri": "https://localhost:8080/",
     "height": 369
    },
    "executionInfo": {
     "elapsed": 10,
     "status": "ok",
     "timestamp": 1641093165317,
     "user": {
      "displayName": "Reese Petersen",
      "photoUrl": "https://lh3.googleusercontent.com/a-/AOh14GilYfQBt5zDDu0nMk3qcy8iA5YnGwo4aYUgr-ub=s64",
      "userId": "13136232261893056527"
     },
     "user_tz": 360
    },
    "id": "uafVwWISzxp4",
    "outputId": "2703533d-df91-4462-98d5-92381c35bf09"
   },
   "outputs": [],
   "source": [
    "county_data_2019_df.head()"
   ]
  },
  {
   "cell_type": "markdown",
   "metadata": {
    "id": "6cNlcXyv0ha_",
    "jp-MarkdownHeadingCollapsed": true,
    "tags": []
   },
   "source": [
    "# Correlations"
   ]
  },
  {
   "cell_type": "markdown",
   "metadata": {
    "id": "itwoXiLk1zvo"
   },
   "source": [
    "Warning: Any model trained with data that includes race or racial characteristics is likely to have racial bias. When racially biased models are used to make decisions in the real world this tends to have negative and unfair consequences for real people. \n",
    "\n",
    "The models presented here are only designed to predict crime rates on a county level, and should not be applied to individuals, nor are they recommended for making decisions. They are provided as an example of how models can fit to features which are correlated with the target, but not fundamentally so. This situation results in a potentially harmful bias which is circumstantially useful, but does not generalize well."
   ]
  },
  {
   "cell_type": "code",
   "execution_count": null,
   "metadata": {
    "colab": {
     "base_uri": "https://localhost:8080/",
     "height": 610
    },
    "executionInfo": {
     "elapsed": 984,
     "status": "ok",
     "timestamp": 1641093166292,
     "user": {
      "displayName": "Reese Petersen",
      "photoUrl": "https://lh3.googleusercontent.com/a-/AOh14GilYfQBt5zDDu0nMk3qcy8iA5YnGwo4aYUgr-ub=s64",
      "userId": "13136232261893056527"
     },
     "user_tz": 360
    },
    "id": "Qh_54Hn-vAHz",
    "outputId": "57575c5d-dfd7-4c92-e4e2-dd7b8864260e"
   },
   "outputs": [],
   "source": [
    "plt.figure(figsize=(12,8))\n",
    "sns.heatmap(county_data_2018_df.corr())"
   ]
  },
  {
   "cell_type": "code",
   "execution_count": null,
   "metadata": {
    "executionInfo": {
     "elapsed": 6,
     "status": "ok",
     "timestamp": 1641093166292,
     "user": {
      "displayName": "Reese Petersen",
      "photoUrl": "https://lh3.googleusercontent.com/a-/AOh14GilYfQBt5zDDu0nMk3qcy8iA5YnGwo4aYUgr-ub=s64",
      "userId": "13136232261893056527"
     },
     "user_tz": 360
    },
    "id": "8TpP-gDl1G0G"
   },
   "outputs": [],
   "source": [
    "def find_max_in_df(df): # find the maximum value in the dataframe and it's column and row\n",
    "  maxval = 0\n",
    "  maxrow = ''\n",
    "  maxcol = ''\n",
    "  for col in df.columns:\n",
    "    row = df[col].idxmax()\n",
    "    if not isinstance(row, str):\n",
    "      continue\n",
    "    val = df[col][row]\n",
    "    if val > maxval:\n",
    "      maxval = val\n",
    "      maxrow = row\n",
    "      maxcol = col\n",
    "  return maxrow, maxcol, maxval\n",
    "\n",
    "def weaker_corr_with_target(df, feat1, feat2, target): # choose the feature which has a weaker correlation with the target\n",
    "  corr1 = df[target][feat1]\n",
    "  corr2 = df[target][feat2]\n",
    "  if abs(corr1) < abs(corr2):\n",
    "    return feat1\n",
    "  else:\n",
    "    return feat2\n",
    "\n",
    "def drop_high_corr(full_df, target, corr_limit=0.95): # generate a list of feature to drop\n",
    "  corr_matrix = full_df.corr().abs() # which have the highest correlations with other features\n",
    "  upper = corr_matrix.where(np.triu(np.ones(corr_matrix.shape), k=1).astype(np.bool))\n",
    "  maxval = 1.0 # but the lowest correlation with the target.\n",
    "  to_drop = []\n",
    "  while maxval > corr_limit:\n",
    "    feat1, feat2, maxval = find_max_in_df(upper)\n",
    "    if maxval > corr_limit:\n",
    "      weak_feat = weaker_corr_with_target(upper, feat1, feat2, target)\n",
    "      to_drop.append(weak_feat)\n",
    "      if weak_feat in upper.columns:\n",
    "        upper.drop(columns=weak_feat, inplace=True)\n",
    "        upper.drop(index=weak_feat, inplace=True)\n",
    "    else:\n",
    "      break\n",
    "  reduced_df = full_df.drop(columns=to_drop)\n",
    "  return reduced_df"
   ]
  },
  {
   "cell_type": "code",
   "execution_count": null,
   "metadata": {
    "colab": {
     "base_uri": "https://localhost:8080/"
    },
    "executionInfo": {
     "elapsed": 5420,
     "status": "ok",
     "timestamp": 1641093171708,
     "user": {
      "displayName": "Reese Petersen",
      "photoUrl": "https://lh3.googleusercontent.com/a-/AOh14GilYfQBt5zDDu0nMk3qcy8iA5YnGwo4aYUgr-ub=s64",
      "userId": "13136232261893056527"
     },
     "user_tz": 360
    },
    "id": "ieHzvOBh2gbC",
    "outputId": "85bf73a1-1800-4c38-d018-cb698b698cdd"
   },
   "outputs": [],
   "source": [
    "county_reduced_2018_df = drop_high_corr(county_data_2018_df, 'Property Crime Rate')#county_data_2018_df.drop(columns=to_drop)\n",
    "\n",
    "county_no_race_2018_df = drop_high_corr(county_data_2018_df[no_race_cols], 'Property Crime Rate')#county_data_2018_df[no_race_cols].drop(columns=to_drop)\n",
    "\n",
    "no_race_reduced_X_cols = [col for col in county_no_race_2018_df.columns.to_list() if col not in non_X_cols]\n",
    "print(len(no_race_reduced_X_cols))\n",
    "reduced_X_cols = [col for col in county_reduced_2018_df.columns.to_list() if col not in non_X_cols]\n",
    "print(len(reduced_X_cols))"
   ]
  },
  {
   "cell_type": "code",
   "execution_count": null,
   "metadata": {
    "colab": {
     "base_uri": "https://localhost:8080/"
    },
    "executionInfo": {
     "elapsed": 10,
     "status": "ok",
     "timestamp": 1641093171709,
     "user": {
      "displayName": "Reese Petersen",
      "photoUrl": "https://lh3.googleusercontent.com/a-/AOh14GilYfQBt5zDDu0nMk3qcy8iA5YnGwo4aYUgr-ub=s64",
      "userId": "13136232261893056527"
     },
     "user_tz": 360
    },
    "id": "rvJyq2hF4SBz",
    "outputId": "86420708-2424-4690-d29c-8783cb34b8cc"
   },
   "outputs": [],
   "source": [
    "county_reduced_2018_df.corr()['Property Crime Rate'].sort_values(ascending=False).head(6)"
   ]
  },
  {
   "cell_type": "markdown",
   "metadata": {
    "id": "sAf3ffOb40ul"
   },
   "source": [
    "I wondered if average temperature might be correlated, but I didn't expect it to have the highest correlation (ignoring Violent Crime Rate)."
   ]
  },
  {
   "cell_type": "code",
   "execution_count": null,
   "metadata": {
    "colab": {
     "base_uri": "https://localhost:8080/"
    },
    "executionInfo": {
     "elapsed": 158,
     "status": "ok",
     "timestamp": 1641093171860,
     "user": {
      "displayName": "Reese Petersen",
      "photoUrl": "https://lh3.googleusercontent.com/a-/AOh14GilYfQBt5zDDu0nMk3qcy8iA5YnGwo4aYUgr-ub=s64",
      "userId": "13136232261893056527"
     },
     "user_tz": 360
    },
    "id": "MCG0uKiQaz0-",
    "outputId": "b584234a-6ee1-4e99-936d-37d025d77d0b"
   },
   "outputs": [],
   "source": [
    "county_reduced_2018_df.corr()['Property Crime Rate'].sort_values().head(5)"
   ]
  },
  {
   "cell_type": "markdown",
   "metadata": {
    "id": "cM5HTpaW6B87"
   },
   "source": [
    "Average temperature and some demographic groups are weakly correlated with crime rates. If we look at negative correlations, young, white females stand out as being less likely to live in high-crime counties."
   ]
  },
  {
   "cell_type": "markdown",
   "metadata": {
    "id": "YbsvFlo_V3eW",
    "jp-MarkdownHeadingCollapsed": true,
    "tags": []
   },
   "source": [
    "# No Demographic Data"
   ]
  },
  {
   "cell_type": "code",
   "execution_count": null,
   "metadata": {
    "executionInfo": {
     "elapsed": 6,
     "status": "ok",
     "timestamp": 1641093171861,
     "user": {
      "displayName": "Reese Petersen",
      "photoUrl": "https://lh3.googleusercontent.com/a-/AOh14GilYfQBt5zDDu0nMk3qcy8iA5YnGwo4aYUgr-ub=s64",
      "userId": "13136232261893056527"
     },
     "user_tz": 360
    },
    "id": "P_C8m3AZRfBB"
   },
   "outputs": [],
   "source": [
    "from sklearn.linear_model import LogisticRegression\n",
    "from sklearn.ensemble import RandomForestClassifier\n",
    "from sklearn.ensemble import GradientBoostingClassifier\n",
    "from sklearn import svm\n",
    "from sklearn.model_selection import cross_val_score\n",
    "from sklearn import model_selection\n",
    "from sklearn.pipeline import make_pipeline"
   ]
  },
  {
   "cell_type": "markdown",
   "metadata": {
    "id": "4aBlEMoaIAIn"
   },
   "source": [
    "Here I bin the target (Property Crime Rate) into low, moderate, and high, since this is much easier to predict and I don't actually care about the exact number."
   ]
  },
  {
   "cell_type": "code",
   "execution_count": null,
   "metadata": {
    "executionInfo": {
     "elapsed": 5,
     "status": "ok",
     "timestamp": 1641093171861,
     "user": {
      "displayName": "Reese Petersen",
      "photoUrl": "https://lh3.googleusercontent.com/a-/AOh14GilYfQBt5zDDu0nMk3qcy8iA5YnGwo4aYUgr-ub=s64",
      "userId": "13136232261893056527"
     },
     "user_tz": 360
    },
    "id": "n5wVXfHRGl1i"
   },
   "outputs": [],
   "source": [
    "pcr2018 = county_reduced_2018_df['Property Crime Rate']\n",
    "q1 = pcr2018.quantile(q=0.33)\n",
    "q2 = pcr2018.quantile(q=0.67)\n",
    "def crime_level(rate, q1, q2):\n",
    "  if rate <= q1:\n",
    "    return 'low'\n",
    "  elif rate < q2:\n",
    "    return 'moderate'\n",
    "  else:\n",
    "    return 'high'\n",
    "\n",
    "y = pcr2018.apply(lambda x: crime_level(x, q1, q2))"
   ]
  },
  {
   "cell_type": "code",
   "execution_count": null,
   "metadata": {
    "id": "KscuDX5Jiaw1"
   },
   "outputs": [],
   "source": [
    "def cross_val_avg(model, X, y, n=1):\n",
    "  clf = make_pipeline(StandardScaler(), model)\n",
    "  total = 0\n",
    "  for i in range(n):\n",
    "    score = cross_val_score(clf, X, y, cv=model_selection.StratifiedKFold(shuffle=True), n_jobs=-1).mean()\n",
    "    total += score\n",
    "  return total/n"
   ]
  },
  {
   "cell_type": "code",
   "execution_count": null,
   "metadata": {
    "colab": {
     "base_uri": "https://localhost:8080/"
    },
    "executionInfo": {
     "elapsed": 1215,
     "status": "ok",
     "timestamp": 1640975043592,
     "user": {
      "displayName": "Reese Petersen",
      "photoUrl": "https://lh3.googleusercontent.com/a-/AOh14GilYfQBt5zDDu0nMk3qcy8iA5YnGwo4aYUgr-ub=s64",
      "userId": "13136232261893056527"
     },
     "user_tz": 360
    },
    "id": "wGRZR57uLGfh",
    "outputId": "0e83514e-8861-410d-d271-18f558a8d738"
   },
   "outputs": [],
   "source": [
    "X_no_demo = county_reduced_2018_df[no_demo_X_cols]\n",
    "print(len(X_no_demo.columns))\n",
    "cross_val_avg(LogisticRegression(), X_no_demo, y, n=5)"
   ]
  },
  {
   "cell_type": "code",
   "execution_count": null,
   "metadata": {
    "colab": {
     "base_uri": "https://localhost:8080/"
    },
    "executionInfo": {
     "elapsed": 11695,
     "status": "ok",
     "timestamp": 1640975087165,
     "user": {
      "displayName": "Reese Petersen",
      "photoUrl": "https://lh3.googleusercontent.com/a-/AOh14GilYfQBt5zDDu0nMk3qcy8iA5YnGwo4aYUgr-ub=s64",
      "userId": "13136232261893056527"
     },
     "user_tz": 360
    },
    "id": "BXUdJSZdWxA3",
    "outputId": "073afbd2-597e-4c80-96c6-a451bce73686"
   },
   "outputs": [],
   "source": [
    "cross_val_avg(RandomForestClassifier(), X_no_demo, y, n=5)"
   ]
  },
  {
   "cell_type": "code",
   "execution_count": null,
   "metadata": {
    "colab": {
     "base_uri": "https://localhost:8080/"
    },
    "executionInfo": {
     "elapsed": 38098,
     "status": "ok",
     "timestamp": 1640975340303,
     "user": {
      "displayName": "Reese Petersen",
      "photoUrl": "https://lh3.googleusercontent.com/a-/AOh14GilYfQBt5zDDu0nMk3qcy8iA5YnGwo4aYUgr-ub=s64",
      "userId": "13136232261893056527"
     },
     "user_tz": 360
    },
    "id": "vV8SPEhCbjz_",
    "outputId": "4b2ed7cb-0d51-4813-dc43-b740c5a6067c"
   },
   "outputs": [],
   "source": [
    "cross_val_avg(GradientBoostingClassifier(), X_no_demo, y, n=5)"
   ]
  },
  {
   "cell_type": "code",
   "execution_count": null,
   "metadata": {
    "colab": {
     "base_uri": "https://localhost:8080/"
    },
    "executionInfo": {
     "elapsed": 4890,
     "status": "ok",
     "timestamp": 1640975346417,
     "user": {
      "displayName": "Reese Petersen",
      "photoUrl": "https://lh3.googleusercontent.com/a-/AOh14GilYfQBt5zDDu0nMk3qcy8iA5YnGwo4aYUgr-ub=s64",
      "userId": "13136232261893056527"
     },
     "user_tz": 360
    },
    "id": "dOoS_2qp-929",
    "outputId": "927c8232-964e-4631-91ad-04aa55fc5e2f"
   },
   "outputs": [],
   "source": [
    "cross_val_avg(svm.SVC(), X_no_demo, y, n=5)"
   ]
  },
  {
   "cell_type": "code",
   "execution_count": null,
   "metadata": {
    "id": "c47YBESpMJez"
   },
   "outputs": [],
   "source": [
    "no_demo = [[0,0.4878],[3,0.5199],[6,0.514],[1,0.5063]]\n",
    "no_demo_df = pd.DataFrame(no_demo, columns=['time (s)','score'], index=['LR','RFC','GBC','SVC'])"
   ]
  },
  {
   "cell_type": "markdown",
   "metadata": {
    "id": "3JL6ClTQRhc2",
    "jp-MarkdownHeadingCollapsed": true,
    "tags": []
   },
   "source": [
    "# No Racial Data"
   ]
  },
  {
   "cell_type": "code",
   "execution_count": null,
   "metadata": {},
   "outputs": [],
   "source": [
    "import warnings\n",
    "warnings.filterwarnings(\"ignore\", category=UserWarning)"
   ]
  },
  {
   "cell_type": "code",
   "execution_count": null,
   "metadata": {
    "colab": {
     "base_uri": "https://localhost:8080/"
    },
    "executionInfo": {
     "elapsed": 5106,
     "status": "ok",
     "timestamp": 1640975527713,
     "user": {
      "displayName": "Reese Petersen",
      "photoUrl": "https://lh3.googleusercontent.com/a-/AOh14GilYfQBt5zDDu0nMk3qcy8iA5YnGwo4aYUgr-ub=s64",
      "userId": "13136232261893056527"
     },
     "user_tz": 360
    },
    "id": "xbAOL6VlLZ38",
    "outputId": "a8571998-de35-4283-8db9-3d765aa90c8a"
   },
   "outputs": [],
   "source": [
    "X_no_race = county_no_race_2018_df[no_race_reduced_X_cols]\n",
    "print(len(no_race_X_cols))\n",
    "cross_val_avg(LogisticRegression(), X_no_race, y, n=5)"
   ]
  },
  {
   "cell_type": "code",
   "execution_count": null,
   "metadata": {
    "colab": {
     "base_uri": "https://localhost:8080/"
    },
    "executionInfo": {
     "elapsed": 26227,
     "status": "ok",
     "timestamp": 1640975590917,
     "user": {
      "displayName": "Reese Petersen",
      "photoUrl": "https://lh3.googleusercontent.com/a-/AOh14GilYfQBt5zDDu0nMk3qcy8iA5YnGwo4aYUgr-ub=s64",
      "userId": "13136232261893056527"
     },
     "user_tz": 360
    },
    "id": "kCmO9T9qR_mx",
    "outputId": "9e2c72d2-c0e0-422e-d24c-bf6eba05d957"
   },
   "outputs": [],
   "source": [
    "cross_val_avg(RandomForestClassifier(), X_no_race, y, n=5)"
   ]
  },
  {
   "cell_type": "code",
   "execution_count": null,
   "metadata": {
    "colab": {
     "base_uri": "https://localhost:8080/"
    },
    "executionInfo": {
     "elapsed": 174085,
     "status": "ok",
     "timestamp": 1640975766105,
     "user": {
      "displayName": "Reese Petersen",
      "photoUrl": "https://lh3.googleusercontent.com/a-/AOh14GilYfQBt5zDDu0nMk3qcy8iA5YnGwo4aYUgr-ub=s64",
      "userId": "13136232261893056527"
     },
     "user_tz": 360
    },
    "id": "8H4hbRV7aYyh",
    "outputId": "6c4e2348-380c-4f2e-8fdd-eb58a37d1c1a"
   },
   "outputs": [],
   "source": [
    "cross_val_avg(GradientBoostingClassifier(), X_no_race, y, n=5)"
   ]
  },
  {
   "cell_type": "code",
   "execution_count": null,
   "metadata": {
    "colab": {
     "base_uri": "https://localhost:8080/"
    },
    "executionInfo": {
     "elapsed": 8007,
     "status": "ok",
     "timestamp": 1640975775014,
     "user": {
      "displayName": "Reese Petersen",
      "photoUrl": "https://lh3.googleusercontent.com/a-/AOh14GilYfQBt5zDDu0nMk3qcy8iA5YnGwo4aYUgr-ub=s64",
      "userId": "13136232261893056527"
     },
     "user_tz": 360
    },
    "id": "rbGMYqd5-vqA",
    "outputId": "64250528-ae53-4028-aa62-9506691609a0"
   },
   "outputs": [],
   "source": [
    "cross_val_avg(svm.SVC(), X_no_race, y, n=5)"
   ]
  },
  {
   "cell_type": "code",
   "execution_count": null,
   "metadata": {
    "id": "71x8Ba9xNXFj"
   },
   "outputs": [],
   "source": [
    "no_race = [[0,0.5025],[2,0.5292],[36,0.5256],[1,0.5225]]\n",
    "no_race_df = pd.DataFrame(no_race, columns=['time (s)','score'], index=['LR','RFC','GBC','SVC'])"
   ]
  },
  {
   "cell_type": "markdown",
   "metadata": {
    "id": "YQ3Mv6xoTT1d",
    "jp-MarkdownHeadingCollapsed": true,
    "tags": []
   },
   "source": [
    "# With Racial Data"
   ]
  },
  {
   "cell_type": "code",
   "execution_count": null,
   "metadata": {
    "colab": {
     "base_uri": "https://localhost:8080/"
    },
    "executionInfo": {
     "elapsed": 10172,
     "status": "ok",
     "timestamp": 1640978896491,
     "user": {
      "displayName": "Reese Petersen",
      "photoUrl": "https://lh3.googleusercontent.com/a-/AOh14GilYfQBt5zDDu0nMk3qcy8iA5YnGwo4aYUgr-ub=s64",
      "userId": "13136232261893056527"
     },
     "user_tz": 360
    },
    "id": "OXqLfrxyLu_h",
    "outputId": "082ab23d-687a-4bfc-d78e-0c4e5de96468"
   },
   "outputs": [],
   "source": [
    "print(len(reduced_X_cols))\n",
    "X_all = county_reduced_2018_df[reduced_X_cols]\n",
    "cross_val_avg(LogisticRegression(), X_all, y, n=5)"
   ]
  },
  {
   "cell_type": "code",
   "execution_count": null,
   "metadata": {
    "colab": {
     "base_uri": "https://localhost:8080/"
    },
    "executionInfo": {
     "elapsed": 45127,
     "status": "ok",
     "timestamp": 1640978947082,
     "user": {
      "displayName": "Reese Petersen",
      "photoUrl": "https://lh3.googleusercontent.com/a-/AOh14GilYfQBt5zDDu0nMk3qcy8iA5YnGwo4aYUgr-ub=s64",
      "userId": "13136232261893056527"
     },
     "user_tz": 360
    },
    "id": "s_8-1UJBU6mh",
    "outputId": "90565f95-884e-4fb7-b341-967a3132f318"
   },
   "outputs": [],
   "source": [
    "cross_val_avg(RandomForestClassifier(), X_all, y, n=5)"
   ]
  },
  {
   "cell_type": "code",
   "execution_count": null,
   "metadata": {
    "colab": {
     "base_uri": "https://localhost:8080/"
    },
    "executionInfo": {
     "elapsed": 707267,
     "status": "ok",
     "timestamp": 1640979654331,
     "user": {
      "displayName": "Reese Petersen",
      "photoUrl": "https://lh3.googleusercontent.com/a-/AOh14GilYfQBt5zDDu0nMk3qcy8iA5YnGwo4aYUgr-ub=s64",
      "userId": "13136232261893056527"
     },
     "user_tz": 360
    },
    "id": "1R2pxVWbbSyM",
    "outputId": "f5fccdfe-f8fd-471a-d8e8-9a2f856e3461"
   },
   "outputs": [],
   "source": [
    "cross_val_avg(GradientBoostingClassifier(), X_all, y, n=5)"
   ]
  },
  {
   "cell_type": "code",
   "execution_count": null,
   "metadata": {
    "colab": {
     "base_uri": "https://localhost:8080/"
    },
    "executionInfo": {
     "elapsed": 16203,
     "status": "ok",
     "timestamp": 1640979670525,
     "user": {
      "displayName": "Reese Petersen",
      "photoUrl": "https://lh3.googleusercontent.com/a-/AOh14GilYfQBt5zDDu0nMk3qcy8iA5YnGwo4aYUgr-ub=s64",
      "userId": "13136232261893056527"
     },
     "user_tz": 360
    },
    "id": "lvy9p6_N_OMm",
    "outputId": "e9b95b34-4a3f-4118-8ec2-823ada1735e4"
   },
   "outputs": [],
   "source": [
    "cross_val_avg(svm.SVC(), X_all, y, n=5)"
   ]
  },
  {
   "cell_type": "code",
   "execution_count": null,
   "metadata": {
    "id": "uDo7vZ8bOwY-"
   },
   "outputs": [],
   "source": [
    "all_features = [[0,0.5009],[3,0.5429],[159,0.5408],[3,0.5278]]\n",
    "all_features_df = pd.DataFrame(all_features, columns=['time (s)','score'], index=['LR','RFC','GBC','SVC'])"
   ]
  },
  {
   "cell_type": "markdown",
   "metadata": {
    "id": "ovvCtBdTVjTa"
   },
   "source": [
    "The performance appears to improve only slightly as we add demographic features.\n",
    "\n",
    "Gradient boosting consistently outperforms random forest, but takes much longer than random forest as the number of features increases. \n",
    "\n",
    "The support vector classifier matches the random forest for speed but beats both in mean score."
   ]
  },
  {
   "cell_type": "code",
   "execution_count": null,
   "metadata": {
    "colab": {
     "base_uri": "https://localhost:8080/",
     "height": 322
    },
    "executionInfo": {
     "elapsed": 358,
     "status": "ok",
     "timestamp": 1641060778550,
     "user": {
      "displayName": "Reese Petersen",
      "photoUrl": "https://lh3.googleusercontent.com/a-/AOh14GilYfQBt5zDDu0nMk3qcy8iA5YnGwo4aYUgr-ub=s64",
      "userId": "13136232261893056527"
     },
     "user_tz": 360
    },
    "id": "8b4hQAEJPleo",
    "outputId": "d5739daf-c798-496c-9bd7-efdf416d93f2"
   },
   "outputs": [],
   "source": [
    "plt.rc('axes', titlesize=16)\n",
    "plt.rc('axes', labelsize=16)\n",
    "plt.rc('xtick', labelsize=12)\n",
    "plt.rc('ytick', labelsize=12)\n",
    "sp = sns.scatterplot(data=no_demo_df, x='time (s)', y='score', hue=no_demo_df.index, s=70)\n",
    "sp.legend(bbox_to_anchor= (1.2,1))\n",
    "sp.set_title('No Demographic Data')"
   ]
  },
  {
   "cell_type": "code",
   "execution_count": null,
   "metadata": {
    "colab": {
     "base_uri": "https://localhost:8080/",
     "height": 322
    },
    "executionInfo": {
     "elapsed": 318,
     "status": "ok",
     "timestamp": 1641060781164,
     "user": {
      "displayName": "Reese Petersen",
      "photoUrl": "https://lh3.googleusercontent.com/a-/AOh14GilYfQBt5zDDu0nMk3qcy8iA5YnGwo4aYUgr-ub=s64",
      "userId": "13136232261893056527"
     },
     "user_tz": 360
    },
    "id": "VN9P9rF-SJhv",
    "outputId": "ee835f62-ea7e-4b2a-ecfc-af0108a4c52d"
   },
   "outputs": [],
   "source": [
    "sp = sns.scatterplot(data=no_race_df, x='time (s)', y='score', hue=no_race_df.index, s=70)\n",
    "sp.legend(bbox_to_anchor= (1.2,1))\n",
    "sp.set_title('No Race Data')"
   ]
  },
  {
   "cell_type": "code",
   "execution_count": null,
   "metadata": {
    "colab": {
     "base_uri": "https://localhost:8080/",
     "height": 322
    },
    "executionInfo": {
     "elapsed": 364,
     "status": "ok",
     "timestamp": 1641060787246,
     "user": {
      "displayName": "Reese Petersen",
      "photoUrl": "https://lh3.googleusercontent.com/a-/AOh14GilYfQBt5zDDu0nMk3qcy8iA5YnGwo4aYUgr-ub=s64",
      "userId": "13136232261893056527"
     },
     "user_tz": 360
    },
    "id": "o0m5AaJOvq4V",
    "outputId": "59bc9dfe-cabe-4b9d-bec6-5c004b2db6b5"
   },
   "outputs": [],
   "source": [
    "all_features_df.sort_index(inplace=True)\n",
    "sp = sns.scatterplot(data=all_features_df, x='time (s)', y='score', hue=all_features_df.index, s=70)\n",
    "sp.legend(bbox_to_anchor= (1.2,1))\n",
    "sp.set_title('All Features')"
   ]
  },
  {
   "cell_type": "markdown",
   "metadata": {
    "id": "BGoVRyZyKpzQ",
    "jp-MarkdownHeadingCollapsed": true,
    "tags": []
   },
   "source": [
    "# No Race Data, Logistic Regression tuning"
   ]
  },
  {
   "cell_type": "code",
   "execution_count": null,
   "metadata": {
    "id": "I0IRYICZNmQ4"
   },
   "outputs": [],
   "source": [
    "def optimize_param(X, y, model, param_vals, n=5, scale=False):\n",
    "  param, vals = list(param_vals.items())[0]\n",
    "  pairs = []\n",
    "  for val in vals:\n",
    "    total_score = 0\n",
    "    if scale:\n",
    "      method = make_pipeline(StandardScaler(), model(**{param:val}))\n",
    "    else:\n",
    "      method = model(**{param:val})\n",
    "    for i in range(n):\n",
    "      score = cross_val_score(method, X, y, cv=model_selection.StratifiedKFold(shuffle=True)).mean()\n",
    "      total_score += score\n",
    "    mean_score = total_score/n\n",
    "    pair = [val, mean_score]\n",
    "    pairs.append(pair)\n",
    "  x_label = f'{param}'\n",
    "  y_label = f'Mean Score (n={n})'\n",
    "  df = pd.DataFrame(data=pairs, columns=[x_label, y_label])\n",
    "  sns.lineplot(data=df, x=x_label, y=y_label)\n",
    "  return df"
   ]
  },
  {
   "cell_type": "code",
   "execution_count": null,
   "metadata": {
    "colab": {
     "base_uri": "https://localhost:8080/",
     "height": 1000
    },
    "executionInfo": {
     "elapsed": 71169,
     "status": "ok",
     "timestamp": 1640914584171,
     "user": {
      "displayName": "Reese Petersen",
      "photoUrl": "https://lh3.googleusercontent.com/a-/AOh14GilYfQBt5zDDu0nMk3qcy8iA5YnGwo4aYUgr-ub=s64",
      "userId": "13136232261893056527"
     },
     "user_tz": 360
    },
    "id": "FQY52hEgLFuJ",
    "outputId": "6100f06f-3de3-4b94-d364-eba69c9899d6"
   },
   "outputs": [],
   "source": [
    "lr = LogisticRegression\n",
    "params = {'C':[0.05,0.1,1,2,3,4,5,6]}\n",
    "C_lr = optimize_param(X_no_race, y, lr, params, 10, scale=True)"
   ]
  },
  {
   "cell_type": "code",
   "execution_count": null,
   "metadata": {
    "colab": {
     "base_uri": "https://localhost:8080/",
     "height": 1000
    },
    "executionInfo": {
     "elapsed": 38866,
     "status": "ok",
     "timestamp": 1640913951071,
     "user": {
      "displayName": "Reese Petersen",
      "photoUrl": "https://lh3.googleusercontent.com/a-/AOh14GilYfQBt5zDDu0nMk3qcy8iA5YnGwo4aYUgr-ub=s64",
      "userId": "13136232261893056527"
     },
     "user_tz": 360
    },
    "id": "5YlBpEK6UNFC",
    "outputId": "8bf3e95a-e7d1-48b1-f11f-2d278a85c56c"
   },
   "outputs": [],
   "source": [
    "lr = LogisticRegression\n",
    "params = {'solver':['newton-cg','lbfgs','liblinear','sag','saga']}\n",
    "C_lr = optimize_param(X_no_race, y, lr, params, n=10, scale=True)"
   ]
  },
  {
   "cell_type": "code",
   "execution_count": null,
   "metadata": {
    "colab": {
     "base_uri": "https://localhost:8080/",
     "height": 1000
    },
    "executionInfo": {
     "elapsed": 41826,
     "status": "ok",
     "timestamp": 1640914060853,
     "user": {
      "displayName": "Reese Petersen",
      "photoUrl": "https://lh3.googleusercontent.com/a-/AOh14GilYfQBt5zDDu0nMk3qcy8iA5YnGwo4aYUgr-ub=s64",
      "userId": "13136232261893056527"
     },
     "user_tz": 360
    },
    "id": "_JNxsgQCWPPD",
    "outputId": "3710760d-b3fd-42fa-bbf8-56b25c14fe8c"
   },
   "outputs": [],
   "source": [
    "clf = make_pipeline(StandardScaler(), LogisticRegression())\n",
    "params = {'solver':['newton-cg','lbfgs','liblinear','sag','saga']}\n",
    "C_lr = optimize_param(X_no_race, y, lr, params, n=15, scale=True)"
   ]
  },
  {
   "cell_type": "code",
   "execution_count": null,
   "metadata": {
    "colab": {
     "base_uri": "https://localhost:8080/"
    },
    "executionInfo": {
     "elapsed": 21051,
     "status": "ok",
     "timestamp": 1640981167919,
     "user": {
      "displayName": "Reese Petersen",
      "photoUrl": "https://lh3.googleusercontent.com/a-/AOh14GilYfQBt5zDDu0nMk3qcy8iA5YnGwo4aYUgr-ub=s64",
      "userId": "13136232261893056527"
     },
     "user_tz": 360
    },
    "id": "p9vczkZSK1Lh",
    "outputId": "fb52de5a-29c0-4fc8-ebf1-c4bb59590d73"
   },
   "outputs": [],
   "source": [
    "cross_val_avg(LogisticRegression(), X_all, y, n=15)"
   ]
  },
  {
   "cell_type": "markdown",
   "metadata": {
    "id": "r1iEOqKOcdV9",
    "jp-MarkdownHeadingCollapsed": true,
    "tags": []
   },
   "source": [
    "# No Race Data, Random Forest tuning"
   ]
  },
  {
   "cell_type": "code",
   "execution_count": null,
   "metadata": {
    "id": "Tn6FmAFpAzTU"
   },
   "outputs": [],
   "source": [
    "from sklearn.model_selection import GridSearchCV\n",
    "\n",
    "def grid_search_heatmap(scores, params):\n",
    "  key_list = list(params[0].keys())\n",
    "  col_key = key_list[1]\n",
    "  row_key = key_list[0]\n",
    "  cols = list(set([par[col_key] for par in params]))\n",
    "  cols.sort()\n",
    "  rows = list(set([par[row_key] for par in params]))\n",
    "  rows.sort()\n",
    "  df = pd.DataFrame(data=scores.reshape((len(rows),len(cols))), index=rows, columns=cols)\n",
    "  df = df.sort_index()\n",
    "  df = df.sort_index(axis=1)\n",
    "  sns.heatmap(df)\n",
    "\n",
    "def grid_search_2D(model, params, X, y, n=1):\n",
    "  scores = []\n",
    "  for i in range(n):\n",
    "    gs_clf = GridSearchCV(model, params, cv=model_selection.StratifiedKFold(shuffle=True))\n",
    "    clf = make_pipeline(StandardScaler(), gs_clf)\n",
    "    clf.fit(X, y)\n",
    "    scores.append(gs_clf.cv_results_['mean_test_score'])\n",
    "  avg_scores = np.mean(scores, axis=0)\n",
    "  print(avg_scores.max())\n",
    "  params = gs_clf.cv_results_['params']\n",
    "  print(params[avg_scores.argmax()])\n",
    "  grid_search_heatmap(avg_scores, params)"
   ]
  },
  {
   "cell_type": "code",
   "execution_count": null,
   "metadata": {
    "colab": {
     "base_uri": "https://localhost:8080/",
     "height": 289
    },
    "executionInfo": {
     "elapsed": 81699,
     "status": "ok",
     "timestamp": 1640981313753,
     "user": {
      "displayName": "Reese Petersen",
      "photoUrl": "https://lh3.googleusercontent.com/a-/AOh14GilYfQBt5zDDu0nMk3qcy8iA5YnGwo4aYUgr-ub=s64",
      "userId": "13136232261893056527"
     },
     "user_tz": 360
    },
    "id": "qjKhJQpZft56",
    "outputId": "819d7220-d9fa-48ec-904d-2d01cf333bb4"
   },
   "outputs": [],
   "source": [
    "rfc = RandomForestClassifier\n",
    "params = {'max_depth':[1,3,5,7,9,11]}\n",
    "max_depth_odd = optimize_param(X_no_race, y, rfc, params)"
   ]
  },
  {
   "cell_type": "code",
   "execution_count": null,
   "metadata": {
    "colab": {
     "base_uri": "https://localhost:8080/",
     "height": 292
    },
    "executionInfo": {
     "elapsed": 124478,
     "status": "ok",
     "timestamp": 1640981438223,
     "user": {
      "displayName": "Reese Petersen",
      "photoUrl": "https://lh3.googleusercontent.com/a-/AOh14GilYfQBt5zDDu0nMk3qcy8iA5YnGwo4aYUgr-ub=s64",
      "userId": "13136232261893056527"
     },
     "user_tz": 360
    },
    "id": "hLqHdHSZO46q",
    "outputId": "8344c3d7-5ced-4411-887a-eb5cfec71fc2"
   },
   "outputs": [],
   "source": [
    "rfc = RandomForestClassifier\n",
    "params = {'max_depth':[4,5,6,7,8,9,10,11]}\n",
    "max_depth_4_11 = optimize_param(X_no_race, y, rfc, params)"
   ]
  },
  {
   "cell_type": "markdown",
   "metadata": {
    "id": "HKXVk_Yfju_l"
   },
   "source": [
    "I will choose a max depth of 9."
   ]
  },
  {
   "cell_type": "code",
   "execution_count": null,
   "metadata": {
    "colab": {
     "base_uri": "https://localhost:8080/",
     "height": 289
    },
    "executionInfo": {
     "elapsed": 115758,
     "status": "ok",
     "timestamp": 1640981603689,
     "user": {
      "displayName": "Reese Petersen",
      "photoUrl": "https://lh3.googleusercontent.com/a-/AOh14GilYfQBt5zDDu0nMk3qcy8iA5YnGwo4aYUgr-ub=s64",
      "userId": "13136232261893056527"
     },
     "user_tz": 360
    },
    "id": "A6Eqv1NKVwFu",
    "outputId": "635e5b66-db36-4117-94bc-9c2206be84ea"
   },
   "outputs": [],
   "source": [
    "rfc = RandomForestClassifier\n",
    "params = {'min_samples_split':[2,4,8,16,32,64]}\n",
    "min_samples_split_pow2 = optimize_param(X_no_race, y, rfc, params)"
   ]
  },
  {
   "cell_type": "code",
   "execution_count": null,
   "metadata": {
    "colab": {
     "base_uri": "https://localhost:8080/",
     "height": 289
    },
    "executionInfo": {
     "elapsed": 93607,
     "status": "ok",
     "timestamp": 1640982058439,
     "user": {
      "displayName": "Reese Petersen",
      "photoUrl": "https://lh3.googleusercontent.com/a-/AOh14GilYfQBt5zDDu0nMk3qcy8iA5YnGwo4aYUgr-ub=s64",
      "userId": "13136232261893056527"
     },
     "user_tz": 360
    },
    "id": "n7SQgEMek8-v",
    "outputId": "3be54c0e-2d93-45e7-fc49-9e5d70ffa414"
   },
   "outputs": [],
   "source": [
    "rfc = RandomForestClassifier\n",
    "params = {'min_samples_split':[8,16,24,32,40]}\n",
    "min_samples_split_even_12_36 = optimize_param(X_no_race, y, rfc, params)"
   ]
  },
  {
   "cell_type": "markdown",
   "metadata": {
    "id": "FXVaDDCuoTWf"
   },
   "source": [
    "A min_samples_split of 16 might be good."
   ]
  },
  {
   "cell_type": "code",
   "execution_count": null,
   "metadata": {
    "colab": {
     "base_uri": "https://localhost:8080/",
     "height": 289
    },
    "executionInfo": {
     "elapsed": 140393,
     "status": "ok",
     "timestamp": 1640982235999,
     "user": {
      "displayName": "Reese Petersen",
      "photoUrl": "https://lh3.googleusercontent.com/a-/AOh14GilYfQBt5zDDu0nMk3qcy8iA5YnGwo4aYUgr-ub=s64",
      "userId": "13136232261893056527"
     },
     "user_tz": 360
    },
    "id": "LqjLRtfyWiUS",
    "outputId": "06068307-b024-4e90-e439-fc7e0556dd66"
   },
   "outputs": [],
   "source": [
    "rfc = RandomForestClassifier\n",
    "params = {'min_samples_leaf':[1,2,4,8,12,16,20]}\n",
    "min_samples_leaf_1 = optimize_param(X_no_race, y, rfc, params)"
   ]
  },
  {
   "cell_type": "code",
   "execution_count": null,
   "metadata": {
    "colab": {
     "base_uri": "https://localhost:8080/",
     "height": 289
    },
    "executionInfo": {
     "elapsed": 58055,
     "status": "ok",
     "timestamp": 1640982294047,
     "user": {
      "displayName": "Reese Petersen",
      "photoUrl": "https://lh3.googleusercontent.com/a-/AOh14GilYfQBt5zDDu0nMk3qcy8iA5YnGwo4aYUgr-ub=s64",
      "userId": "13136232261893056527"
     },
     "user_tz": 360
    },
    "id": "wLIeDgZvKvBf",
    "outputId": "2f1f9b53-4206-40ff-c3df-f2b7b38f845d"
   },
   "outputs": [],
   "source": [
    "rfc = RandomForestClassifier\n",
    "params = {'max_leaf_nodes':[2,4,8,16,32]}\n",
    "min_samples_leaf_1 = optimize_param(X_no_race, y, rfc, params)"
   ]
  },
  {
   "cell_type": "code",
   "execution_count": null,
   "metadata": {
    "colab": {
     "base_uri": "https://localhost:8080/"
    },
    "executionInfo": {
     "elapsed": 18279,
     "status": "ok",
     "timestamp": 1640982320490,
     "user": {
      "displayName": "Reese Petersen",
      "photoUrl": "https://lh3.googleusercontent.com/a-/AOh14GilYfQBt5zDDu0nMk3qcy8iA5YnGwo4aYUgr-ub=s64",
      "userId": "13136232261893056527"
     },
     "user_tz": 360
    },
    "id": "ETTPFYjNgRmj",
    "outputId": "6747a3de-1fcf-4c55-b83b-cd2fbfb386e8"
   },
   "outputs": [],
   "source": [
    "rfc = RandomForestClassifier(max_depth=9, min_samples_split=16)\n",
    "cross_val_avg(rfc, X_no_race, y, n=5)"
   ]
  },
  {
   "cell_type": "markdown",
   "metadata": {
    "id": "jzRTlZ90iJYq",
    "jp-MarkdownHeadingCollapsed": true,
    "tags": []
   },
   "source": [
    "# No Race Data, Gradient Boost tuning"
   ]
  },
  {
   "cell_type": "code",
   "execution_count": null,
   "metadata": {
    "colab": {
     "base_uri": "https://localhost:8080/",
     "height": 289
    },
    "executionInfo": {
     "elapsed": 1841663,
     "status": "ok",
     "timestamp": 1640984242074,
     "user": {
      "displayName": "Reese Petersen",
      "photoUrl": "https://lh3.googleusercontent.com/a-/AOh14GilYfQBt5zDDu0nMk3qcy8iA5YnGwo4aYUgr-ub=s64",
      "userId": "13136232261893056527"
     },
     "user_tz": 360
    },
    "id": "IYZBoM4nbhjT",
    "outputId": "a7c2d3a7-ed80-447f-9ef8-83d8c806293c"
   },
   "outputs": [],
   "source": [
    "gbc = GradientBoostingClassifier\n",
    "params = {'max_depth':[1,3,5,7,9,11]}\n",
    "max_depth_odd = optimize_param(X_no_race, y, gbc, params)"
   ]
  },
  {
   "cell_type": "code",
   "execution_count": null,
   "metadata": {
    "colab": {
     "base_uri": "https://localhost:8080/",
     "height": 289
    },
    "executionInfo": {
     "elapsed": 654774,
     "status": "ok",
     "timestamp": 1640984923186,
     "user": {
      "displayName": "Reese Petersen",
      "photoUrl": "https://lh3.googleusercontent.com/a-/AOh14GilYfQBt5zDDu0nMk3qcy8iA5YnGwo4aYUgr-ub=s64",
      "userId": "13136232261893056527"
     },
     "user_tz": 360
    },
    "id": "6gF7n_XGiUVV",
    "outputId": "0ce92e4e-4865-4be1-93a8-4d5ba6cd3d6e"
   },
   "outputs": [],
   "source": [
    "gbc = GradientBoostingClassifier\n",
    "params = {'learning_rate':[0.01,0.02,0.05,0.1]}\n",
    "max_depth_odd = optimize_param(X_no_race, y, gbc, params)"
   ]
  },
  {
   "cell_type": "code",
   "execution_count": null,
   "metadata": {
    "colab": {
     "base_uri": "https://localhost:8080/",
     "height": 289
    },
    "executionInfo": {
     "elapsed": 881668,
     "status": "ok",
     "timestamp": 1640986051236,
     "user": {
      "displayName": "Reese Petersen",
      "photoUrl": "https://lh3.googleusercontent.com/a-/AOh14GilYfQBt5zDDu0nMk3qcy8iA5YnGwo4aYUgr-ub=s64",
      "userId": "13136232261893056527"
     },
     "user_tz": 360
    },
    "id": "ZcK_rlJp2S2s",
    "outputId": "3441a68a-e8ae-4f50-83d6-83340911fc1d"
   },
   "outputs": [],
   "source": [
    "gbc = GradientBoostingClassifier\n",
    "params = {'min_samples_split':[2,4,8,12,16]}\n",
    "max_depth_odd = optimize_param(X_no_race, y, gbc, params)"
   ]
  },
  {
   "cell_type": "code",
   "execution_count": null,
   "metadata": {
    "colab": {
     "base_uri": "https://localhost:8080/"
    },
    "executionInfo": {
     "elapsed": 169249,
     "status": "ok",
     "timestamp": 1640986365518,
     "user": {
      "displayName": "Reese Petersen",
      "photoUrl": "https://lh3.googleusercontent.com/a-/AOh14GilYfQBt5zDDu0nMk3qcy8iA5YnGwo4aYUgr-ub=s64",
      "userId": "13136232261893056527"
     },
     "user_tz": 360
    },
    "id": "Bjr-8PFekEWZ",
    "outputId": "2fd34248-4a82-46a6-c9fc-38638a176446"
   },
   "outputs": [],
   "source": [
    "gbc = GradientBoostingClassifier(max_depth=3, learning_rate=0.01, min_samples_split=4)\n",
    "cross_val_avg(gbc, X_no_race, y, n=5)"
   ]
  },
  {
   "cell_type": "code",
   "execution_count": null,
   "metadata": {
    "colab": {
     "base_uri": "https://localhost:8080/",
     "height": 289
    },
    "executionInfo": {
     "elapsed": 876807,
     "status": "ok",
     "timestamp": 1640898193582,
     "user": {
      "displayName": "Reese Petersen",
      "photoUrl": "https://lh3.googleusercontent.com/a-/AOh14GilYfQBt5zDDu0nMk3qcy8iA5YnGwo4aYUgr-ub=s64",
      "userId": "13136232261893056527"
     },
     "user_tz": 360
    },
    "id": "QrhOQjtLlNgW",
    "outputId": "c793184e-1630-4411-f214-32a4715e2999"
   },
   "outputs": [],
   "source": [
    "gbc = GradientBoostingClassifier\n",
    "params = {'min_samples_leaf':[2,4,8,12,16]}\n",
    "max_depth_odd = optimize_param(X_no_race, y, gbc, params)"
   ]
  },
  {
   "cell_type": "markdown",
   "metadata": {
    "id": "Pdi7Z2K0mSZQ"
   },
   "source": [
    "Changing the min_samples_leaf parameter doesn't seem to help."
   ]
  },
  {
   "cell_type": "markdown",
   "metadata": {
    "id": "X4f_2Rrc0pg_",
    "jp-MarkdownHeadingCollapsed": true,
    "tags": []
   },
   "source": [
    "# No Race Data, Support Vector Classifier"
   ]
  },
  {
   "cell_type": "code",
   "execution_count": null,
   "metadata": {
    "colab": {
     "base_uri": "https://localhost:8080/",
     "height": 287
    },
    "executionInfo": {
     "elapsed": 151638,
     "status": "ok",
     "timestamp": 1640986829694,
     "user": {
      "displayName": "Reese Petersen",
      "photoUrl": "https://lh3.googleusercontent.com/a-/AOh14GilYfQBt5zDDu0nMk3qcy8iA5YnGwo4aYUgr-ub=s64",
      "userId": "13136232261893056527"
     },
     "user_tz": 360
    },
    "id": "tOI9kKwTbr1c",
    "outputId": "b8907d8c-4a5a-4d55-d7da-1f03360455cd"
   },
   "outputs": [],
   "source": [
    "params = {'C':[0.5,1,2,3,4,6]}\n",
    "C_svc = optimize_param(X_no_race, y, svm.SVC, params, n=15, scale=True)"
   ]
  },
  {
   "cell_type": "code",
   "execution_count": null,
   "metadata": {
    "colab": {
     "base_uri": "https://localhost:8080/",
     "height": 287
    },
    "executionInfo": {
     "elapsed": 83565,
     "status": "ok",
     "timestamp": 1640986913251,
     "user": {
      "displayName": "Reese Petersen",
      "photoUrl": "https://lh3.googleusercontent.com/a-/AOh14GilYfQBt5zDDu0nMk3qcy8iA5YnGwo4aYUgr-ub=s64",
      "userId": "13136232261893056527"
     },
     "user_tz": 360
    },
    "id": "pKy7n4LQcNme",
    "outputId": "43aa60c8-bfbf-4084-ef1f-ff4d2bc4cfe7"
   },
   "outputs": [],
   "source": [
    "params = {'gamma':[0.001,0.002,0.005,0.01,0.02]}\n",
    "C_svc = optimize_param(X_no_race, y, svm.SVC, params, n=10, scale=True)"
   ]
  },
  {
   "cell_type": "code",
   "execution_count": null,
   "metadata": {
    "colab": {
     "base_uri": "https://localhost:8080/",
     "height": 287
    },
    "executionInfo": {
     "elapsed": 87260,
     "status": "ok",
     "timestamp": 1640987236133,
     "user": {
      "displayName": "Reese Petersen",
      "photoUrl": "https://lh3.googleusercontent.com/a-/AOh14GilYfQBt5zDDu0nMk3qcy8iA5YnGwo4aYUgr-ub=s64",
      "userId": "13136232261893056527"
     },
     "user_tz": 360
    },
    "id": "DBzHim1Pdemf",
    "outputId": "42b11cc5-f80d-4f5b-ed0c-7bf1702bb5ae"
   },
   "outputs": [],
   "source": [
    "params = {'gamma':[0.01,0.02,0.03,0.04,0.05]}\n",
    "C_svc = optimize_param(X_no_race, y, svm.SVC, params, n=10, scale=True)"
   ]
  },
  {
   "cell_type": "code",
   "execution_count": null,
   "metadata": {
    "colab": {
     "base_uri": "https://localhost:8080/",
     "height": 303
    },
    "executionInfo": {
     "elapsed": 142841,
     "status": "ok",
     "timestamp": 1640987490200,
     "user": {
      "displayName": "Reese Petersen",
      "photoUrl": "https://lh3.googleusercontent.com/a-/AOh14GilYfQBt5zDDu0nMk3qcy8iA5YnGwo4aYUgr-ub=s64",
      "userId": "13136232261893056527"
     },
     "user_tz": 360
    },
    "id": "dlh6wxVz2Nkc",
    "outputId": "82f68e53-c8c3-4854-adaf-7fc874a2edb9"
   },
   "outputs": [],
   "source": [
    "parameters = {'gamma':[0.02,0.03,0.04,0.05],'C':[1,2,3,4]}\n",
    "grid_search_2D(svm.SVC(), parameters, X_no_race, y, 5)"
   ]
  },
  {
   "cell_type": "code",
   "execution_count": null,
   "metadata": {
    "colab": {
     "base_uri": "https://localhost:8080/",
     "height": 303
    },
    "executionInfo": {
     "elapsed": 80451,
     "status": "ok",
     "timestamp": 1640918461003,
     "user": {
      "displayName": "Reese Petersen",
      "photoUrl": "https://lh3.googleusercontent.com/a-/AOh14GilYfQBt5zDDu0nMk3qcy8iA5YnGwo4aYUgr-ub=s64",
      "userId": "13136232261893056527"
     },
     "user_tz": 360
    },
    "id": "3xKVFA-r-Gpe",
    "outputId": "72320ac2-d131-4d71-99f2-1bd4f699fafd"
   },
   "outputs": [],
   "source": [
    "parameters = {'gamma':[0.005,0.02,0.04],'C':[0.5,2,4]}\n",
    "grid_search_2D(svm.SVC(), parameters, X_no_race, y, 5)"
   ]
  },
  {
   "cell_type": "code",
   "execution_count": null,
   "metadata": {
    "colab": {
     "base_uri": "https://localhost:8080/"
    },
    "executionInfo": {
     "elapsed": 9545,
     "status": "ok",
     "timestamp": 1640987520610,
     "user": {
      "displayName": "Reese Petersen",
      "photoUrl": "https://lh3.googleusercontent.com/a-/AOh14GilYfQBt5zDDu0nMk3qcy8iA5YnGwo4aYUgr-ub=s64",
      "userId": "13136232261893056527"
     },
     "user_tz": 360
    },
    "id": "7fe45E2mDow6",
    "outputId": "5a953c7a-c577-4adf-8534-c7cfdfb21268"
   },
   "outputs": [],
   "source": [
    "cross_val_avg(svm.SVC(C=2, gamma=0.03), X_no_race, y, n=5)"
   ]
  },
  {
   "cell_type": "markdown",
   "metadata": {
    "id": "0iBvJRDekLCt",
    "jp-MarkdownHeadingCollapsed": true,
    "tags": []
   },
   "source": [
    "# No Race Tuned Model Comparison"
   ]
  },
  {
   "cell_type": "code",
   "execution_count": null,
   "metadata": {
    "colab": {
     "base_uri": "https://localhost:8080/",
     "height": 322
    },
    "executionInfo": {
     "elapsed": 340,
     "status": "ok",
     "timestamp": 1641060797174,
     "user": {
      "displayName": "Reese Petersen",
      "photoUrl": "https://lh3.googleusercontent.com/a-/AOh14GilYfQBt5zDDu0nMk3qcy8iA5YnGwo4aYUgr-ub=s64",
      "userId": "13136232261893056527"
     },
     "user_tz": 360
    },
    "id": "qQTYrdvS04zZ",
    "outputId": "5497ce2a-1e52-4159-bf85-9bbfceaf70b7"
   },
   "outputs": [],
   "source": [
    "no_race_tuned = [[1,0.5004],[6,0.5234],[300,np.nan],[3,0.5244]]\n",
    "no_race_tuned_df = pd.DataFrame(data=no_race_tuned, columns=['time (s)','score'], index=['LR','RFC','GBC','SVC'])\n",
    "sp = sns.scatterplot(data=no_race_tuned_df, x='time (s)', y='score', hue=no_race_tuned_df.index, s=70)\n",
    "sp.legend(bbox_to_anchor= (1.2,1))\n",
    "sp.set_title('No Race Data, Tuned')"
   ]
  },
  {
   "cell_type": "markdown",
   "metadata": {
    "id": "_DiuwJ_we467",
    "jp-MarkdownHeadingCollapsed": true,
    "tags": []
   },
   "source": [
    "# All Data, RFC and SVC"
   ]
  },
  {
   "cell_type": "markdown",
   "metadata": {
    "jp-MarkdownHeadingCollapsed": true,
    "tags": []
   },
   "source": [
    "### RFC"
   ]
  },
  {
   "cell_type": "code",
   "execution_count": null,
   "metadata": {
    "colab": {
     "base_uri": "https://localhost:8080/",
     "height": 303
    },
    "executionInfo": {
     "elapsed": 218136,
     "status": "ok",
     "timestamp": 1640988854501,
     "user": {
      "displayName": "Reese Petersen",
      "photoUrl": "https://lh3.googleusercontent.com/a-/AOh14GilYfQBt5zDDu0nMk3qcy8iA5YnGwo4aYUgr-ub=s64",
      "userId": "13136232261893056527"
     },
     "user_tz": 360
    },
    "id": "0MIH5BEFiaKi",
    "outputId": "684ea8b4-970a-4407-cd94-c490dc97af88"
   },
   "outputs": [],
   "source": [
    "parameters = {'max_depth':[1,2,3,4],'min_samples_split':[2,4,8,12]}\n",
    "grid_search_2D(RandomForestClassifier(), parameters, X_all, y, 5)"
   ]
  },
  {
   "cell_type": "code",
   "execution_count": null,
   "metadata": {
    "colab": {
     "base_uri": "https://localhost:8080/",
     "height": 303
    },
    "executionInfo": {
     "elapsed": 314723,
     "status": "ok",
     "timestamp": 1640989452719,
     "user": {
      "displayName": "Reese Petersen",
      "photoUrl": "https://lh3.googleusercontent.com/a-/AOh14GilYfQBt5zDDu0nMk3qcy8iA5YnGwo4aYUgr-ub=s64",
      "userId": "13136232261893056527"
     },
     "user_tz": 360
    },
    "id": "iVYnJ8F9i3Ow",
    "outputId": "7c060358-a200-4bdb-e039-b35975f9ae24"
   },
   "outputs": [],
   "source": [
    "parameters = {'max_depth':[3,4,5,6],'min_samples_split':[2,5,10,20]}\n",
    "grid_search_2D(RandomForestClassifier(), parameters, X_all, y, 5)"
   ]
  },
  {
   "cell_type": "code",
   "execution_count": null,
   "metadata": {
    "colab": {
     "base_uri": "https://localhost:8080/",
     "height": 303
    },
    "executionInfo": {
     "elapsed": 404445,
     "status": "ok",
     "timestamp": 1640989959198,
     "user": {
      "displayName": "Reese Petersen",
      "photoUrl": "https://lh3.googleusercontent.com/a-/AOh14GilYfQBt5zDDu0nMk3qcy8iA5YnGwo4aYUgr-ub=s64",
      "userId": "13136232261893056527"
     },
     "user_tz": 360
    },
    "id": "q5FjlvTgj6M7",
    "outputId": "8b974485-9a2d-411a-be52-19adc11933e7"
   },
   "outputs": [],
   "source": [
    "parameters = {'max_depth':[5,6,7,8],'min_samples_split':[2,6,12,30]}\n",
    "grid_search_2D(RandomForestClassifier(), parameters, X_all, y, 5)"
   ]
  },
  {
   "cell_type": "code",
   "execution_count": null,
   "metadata": {
    "colab": {
     "base_uri": "https://localhost:8080/",
     "height": 303
    },
    "executionInfo": {
     "elapsed": 482856,
     "status": "ok",
     "timestamp": 1640990545972,
     "user": {
      "displayName": "Reese Petersen",
      "photoUrl": "https://lh3.googleusercontent.com/a-/AOh14GilYfQBt5zDDu0nMk3qcy8iA5YnGwo4aYUgr-ub=s64",
      "userId": "13136232261893056527"
     },
     "user_tz": 360
    },
    "id": "nU-WEKLLmXco",
    "outputId": "7628b719-a907-4d4c-9d3f-8f5b04fd1c6f"
   },
   "outputs": [],
   "source": [
    "parameters = {'max_depth':[7,8,9,10],'min_samples_split':[2,4,10,24]}\n",
    "grid_search_2D(RandomForestClassifier(), parameters, X_all, y, 5)"
   ]
  },
  {
   "cell_type": "code",
   "execution_count": null,
   "metadata": {
    "colab": {
     "base_uri": "https://localhost:8080/",
     "height": 303
    },
    "executionInfo": {
     "elapsed": 382475,
     "status": "ok",
     "timestamp": 1640990978432,
     "user": {
      "displayName": "Reese Petersen",
      "photoUrl": "https://lh3.googleusercontent.com/a-/AOh14GilYfQBt5zDDu0nMk3qcy8iA5YnGwo4aYUgr-ub=s64",
      "userId": "13136232261893056527"
     },
     "user_tz": 360
    },
    "id": "cAtW07m6oTj0",
    "outputId": "b1fd4d7f-5678-456d-ae3f-1804425ad058"
   },
   "outputs": [],
   "source": [
    "parameters = {'max_depth':[8,9,10],'min_samples_split':[2,3,5,20]}\n",
    "grid_search_2D(RandomForestClassifier(), parameters, X_all, y, 5)"
   ]
  },
  {
   "cell_type": "code",
   "execution_count": null,
   "metadata": {
    "colab": {
     "base_uri": "https://localhost:8080/",
     "height": 303
    },
    "executionInfo": {
     "elapsed": 401634,
     "status": "ok",
     "timestamp": 1640991450349,
     "user": {
      "displayName": "Reese Petersen",
      "photoUrl": "https://lh3.googleusercontent.com/a-/AOh14GilYfQBt5zDDu0nMk3qcy8iA5YnGwo4aYUgr-ub=s64",
      "userId": "13136232261893056527"
     },
     "user_tz": 360
    },
    "id": "Qf38W-m4qVou",
    "outputId": "58c6f4ac-90c5-4411-d603-4810a9dcaf52"
   },
   "outputs": [],
   "source": [
    "parameters = {'max_depth':[9,10,11],'min_samples_split':[2,4,8,16]}\n",
    "grid_search_2D(RandomForestClassifier(), parameters, X_all, y, 5)"
   ]
  },
  {
   "cell_type": "code",
   "execution_count": null,
   "metadata": {
    "colab": {
     "base_uri": "https://localhost:8080/",
     "height": 303
    },
    "executionInfo": {
     "elapsed": 517886,
     "status": "ok",
     "timestamp": 1640992116369,
     "user": {
      "displayName": "Reese Petersen",
      "photoUrl": "https://lh3.googleusercontent.com/a-/AOh14GilYfQBt5zDDu0nMk3qcy8iA5YnGwo4aYUgr-ub=s64",
      "userId": "13136232261893056527"
     },
     "user_tz": 360
    },
    "id": "CaOAcqD2sELb",
    "outputId": "0ae8c855-0094-4631-c7c2-468c9fc68ca9"
   },
   "outputs": [],
   "source": [
    "parameters = {'min_samples_leaf':[1,2,4,8],'min_samples_split':[2,4,8,16]}\n",
    "grid_search_2D(RandomForestClassifier(max_depth=10), parameters, X_all, y, 5)"
   ]
  },
  {
   "cell_type": "code",
   "execution_count": null,
   "metadata": {
    "colab": {
     "base_uri": "https://localhost:8080/",
     "height": 303
    },
    "executionInfo": {
     "elapsed": 366261,
     "status": "ok",
     "timestamp": 1640992653052,
     "user": {
      "displayName": "Reese Petersen",
      "photoUrl": "https://lh3.googleusercontent.com/a-/AOh14GilYfQBt5zDDu0nMk3qcy8iA5YnGwo4aYUgr-ub=s64",
      "userId": "13136232261893056527"
     },
     "user_tz": 360
    },
    "id": "O-4b5zFduKaG",
    "outputId": "6323f64a-6a11-482c-89bf-9f7a4d51c43d"
   },
   "outputs": [],
   "source": [
    "parameters = {'min_samples_leaf':[4,6,8],'min_samples_split':[2,8,16,24]}\n",
    "grid_search_2D(RandomForestClassifier(max_depth=10), parameters, X_all, y, 5)"
   ]
  },
  {
   "cell_type": "code",
   "execution_count": null,
   "metadata": {
    "colab": {
     "base_uri": "https://localhost:8080/",
     "height": 304
    },
    "executionInfo": {
     "elapsed": 186102,
     "status": "ok",
     "timestamp": 1640993083755,
     "user": {
      "displayName": "Reese Petersen",
      "photoUrl": "https://lh3.googleusercontent.com/a-/AOh14GilYfQBt5zDDu0nMk3qcy8iA5YnGwo4aYUgr-ub=s64",
      "userId": "13136232261893056527"
     },
     "user_tz": 360
    },
    "id": "0nuoHieGyXq9",
    "outputId": "ef057524-9e0e-44ea-acfd-e4bcf6aae299"
   },
   "outputs": [],
   "source": [
    "parameters = {'min_samples_leaf':[6],'min_samples_split':[2,4,8,16,24,32]}\n",
    "grid_search_2D(RandomForestClassifier(max_depth=10), parameters, X_all, y, 5)"
   ]
  },
  {
   "cell_type": "code",
   "execution_count": null,
   "metadata": {
    "colab": {
     "base_uri": "https://localhost:8080/"
    },
    "executionInfo": {
     "elapsed": 32730,
     "status": "ok",
     "timestamp": 1640997676745,
     "user": {
      "displayName": "Reese Petersen",
      "photoUrl": "https://lh3.googleusercontent.com/a-/AOh14GilYfQBt5zDDu0nMk3qcy8iA5YnGwo4aYUgr-ub=s64",
      "userId": "13136232261893056527"
     },
     "user_tz": 360
    },
    "id": "iYrKxL3Ay-V7",
    "outputId": "adddda7c-4d94-45df-bdae-b5f4cc1c7efa"
   },
   "outputs": [],
   "source": [
    "cross_val_avg(RandomForestClassifier(max_depth=10, min_samples_leaf=6), X_all, y, n=5)"
   ]
  },
  {
   "cell_type": "markdown",
   "metadata": {
    "id": "imTH3coo0Oya",
    "jp-MarkdownHeadingCollapsed": true,
    "tags": []
   },
   "source": [
    "### SVC"
   ]
  },
  {
   "cell_type": "code",
   "execution_count": null,
   "metadata": {
    "colab": {
     "base_uri": "https://localhost:8080/",
     "height": 303
    },
    "executionInfo": {
     "elapsed": 319436,
     "status": "ok",
     "timestamp": 1640994080627,
     "user": {
      "displayName": "Reese Petersen",
      "photoUrl": "https://lh3.googleusercontent.com/a-/AOh14GilYfQBt5zDDu0nMk3qcy8iA5YnGwo4aYUgr-ub=s64",
      "userId": "13136232261893056527"
     },
     "user_tz": 360
    },
    "id": "28x9_L9w1fsQ",
    "outputId": "5d65a02f-aeab-46a2-c0e1-5e860d6ccf4d"
   },
   "outputs": [],
   "source": [
    "parameters = {'gamma':[0.02,0.03,0.04,0.05],'C':[1,2,3,4]}\n",
    "grid_search_2D(svm.SVC(), parameters, X_all, y, 5)"
   ]
  },
  {
   "cell_type": "code",
   "execution_count": null,
   "metadata": {
    "colab": {
     "base_uri": "https://localhost:8080/",
     "height": 303
    },
    "executionInfo": {
     "elapsed": 290372,
     "status": "ok",
     "timestamp": 1640994921129,
     "user": {
      "displayName": "Reese Petersen",
      "photoUrl": "https://lh3.googleusercontent.com/a-/AOh14GilYfQBt5zDDu0nMk3qcy8iA5YnGwo4aYUgr-ub=s64",
      "userId": "13136232261893056527"
     },
     "user_tz": 360
    },
    "id": "5d4uEtzy2aZH",
    "outputId": "7d8e8370-2ab6-433d-aa93-7b482f453d19"
   },
   "outputs": [],
   "source": [
    "parameters = {'gamma':[0.005,0.01,0.015,0.02],'C':[0.5,1,2,3]}\n",
    "grid_search_2D(svm.SVC(), parameters, X_all, y, 5)"
   ]
  },
  {
   "cell_type": "code",
   "execution_count": null,
   "metadata": {
    "colab": {
     "base_uri": "https://localhost:8080/",
     "height": 303
    },
    "executionInfo": {
     "elapsed": 265218,
     "status": "ok",
     "timestamp": 1640995578855,
     "user": {
      "displayName": "Reese Petersen",
      "photoUrl": "https://lh3.googleusercontent.com/a-/AOh14GilYfQBt5zDDu0nMk3qcy8iA5YnGwo4aYUgr-ub=s64",
      "userId": "13136232261893056527"
     },
     "user_tz": 360
    },
    "id": "PzgFKrwl5utQ",
    "outputId": "9a186b9c-f801-48ea-e603-8db948b803e6"
   },
   "outputs": [],
   "source": [
    "parameters = {'gamma':[0.001,0.002,0.004,0.005],'C':[0.5,1,2,3]}\n",
    "grid_search_2D(svm.SVC(), parameters, X_all, y, 5)"
   ]
  },
  {
   "cell_type": "code",
   "execution_count": null,
   "metadata": {
    "colab": {
     "base_uri": "https://localhost:8080/",
     "height": 303
    },
    "executionInfo": {
     "elapsed": 133038,
     "status": "ok",
     "timestamp": 1640997213789,
     "user": {
      "displayName": "Reese Petersen",
      "photoUrl": "https://lh3.googleusercontent.com/a-/AOh14GilYfQBt5zDDu0nMk3qcy8iA5YnGwo4aYUgr-ub=s64",
      "userId": "13136232261893056527"
     },
     "user_tz": 360
    },
    "id": "N8oCNfgU8VWK",
    "outputId": "e00ee089-9261-4006-95a5-ac3a88a6909e"
   },
   "outputs": [],
   "source": [
    "parameters = {'kernel':['poly','rbf','sigmoid'],'gamma':[0.001,0.005,0.01]}\n",
    "grid_search_2D(svm.SVC(C=2), parameters, X_all, y, 5)"
   ]
  },
  {
   "cell_type": "code",
   "execution_count": null,
   "metadata": {
    "colab": {
     "base_uri": "https://localhost:8080/",
     "height": 303
    },
    "executionInfo": {
     "elapsed": 222407,
     "status": "ok",
     "timestamp": 1640996930550,
     "user": {
      "displayName": "Reese Petersen",
      "photoUrl": "https://lh3.googleusercontent.com/a-/AOh14GilYfQBt5zDDu0nMk3qcy8iA5YnGwo4aYUgr-ub=s64",
      "userId": "13136232261893056527"
     },
     "user_tz": 360
    },
    "id": "sj-YINWSAchv",
    "outputId": "45dd392e-3e48-48e3-b7e9-ceccb5f60c4c"
   },
   "outputs": [],
   "source": [
    "parameters = {'gamma':[0.001,0.002,0.004,0.005],'C':[0.5,1,2,3]}\n",
    "grid_search_2D(svm.SVC(kernel='sigmoid'), parameters, X_all, y, 5)"
   ]
  },
  {
   "cell_type": "code",
   "execution_count": null,
   "metadata": {
    "colab": {
     "base_uri": "https://localhost:8080/"
    },
    "executionInfo": {
     "elapsed": 27445,
     "status": "ok",
     "timestamp": 1640996418740,
     "user": {
      "displayName": "Reese Petersen",
      "photoUrl": "https://lh3.googleusercontent.com/a-/AOh14GilYfQBt5zDDu0nMk3qcy8iA5YnGwo4aYUgr-ub=s64",
      "userId": "13136232261893056527"
     },
     "user_tz": 360
    },
    "id": "mcSKLE-j-GBl",
    "outputId": "c81cf705-a934-4f5b-c1d6-78e8c5b23390"
   },
   "outputs": [],
   "source": [
    "cross_val_avg(svm.SVC(gamma=0.005, C=2), X_all, y, n=5)"
   ]
  },
  {
   "cell_type": "markdown",
   "metadata": {
    "jp-MarkdownHeadingCollapsed": true,
    "tags": []
   },
   "source": [
    "# Performance Plot"
   ]
  },
  {
   "cell_type": "markdown",
   "metadata": {
    "id": "WaaJU1gYCyjP"
   },
   "source": [
    "Tuning hyperparameters really hasn't helped much. Feature selection seems to make a bigger impact overall."
   ]
  },
  {
   "cell_type": "code",
   "execution_count": null,
   "metadata": {
    "colab": {
     "base_uri": "https://localhost:8080/",
     "height": 81
    },
    "executionInfo": {
     "elapsed": 152,
     "status": "ok",
     "timestamp": 1641062732772,
     "user": {
      "displayName": "Reese Petersen",
      "photoUrl": "https://lh3.googleusercontent.com/a-/AOh14GilYfQBt5zDDu0nMk3qcy8iA5YnGwo4aYUgr-ub=s64",
      "userId": "13136232261893056527"
     },
     "user_tz": 360
    },
    "id": "z8pA6Ch926nB",
    "outputId": "be5ac440-d3c2-4968-9cda-5d220f6aada2"
   },
   "outputs": [],
   "source": [
    "no_demo_reset_df = no_demo_df.reset_index()\n",
    "no_demo_scores_df = pd.DataFrame(no_demo_reset_df.pivot(columns='index', values='score').max()).transpose()\n",
    "no_demo_scores_df.index = ['no demo']\n",
    "no_demo_scores_df"
   ]
  },
  {
   "cell_type": "code",
   "execution_count": null,
   "metadata": {
    "colab": {
     "base_uri": "https://localhost:8080/",
     "height": 81
    },
    "executionInfo": {
     "elapsed": 131,
     "status": "ok",
     "timestamp": 1641062819858,
     "user": {
      "displayName": "Reese Petersen",
      "photoUrl": "https://lh3.googleusercontent.com/a-/AOh14GilYfQBt5zDDu0nMk3qcy8iA5YnGwo4aYUgr-ub=s64",
      "userId": "13136232261893056527"
     },
     "user_tz": 360
    },
    "id": "CBaFK5Jj64D1",
    "outputId": "8771c7f1-88f6-4aee-9f78-9dee80066352"
   },
   "outputs": [],
   "source": [
    "no_race_reset_df = no_race_df.reset_index()\n",
    "no_race_scores_df = pd.DataFrame(no_race_reset_df.pivot(columns='index', values='score').max()).transpose()\n",
    "no_race_scores_df.index = ['no race']\n",
    "no_race_scores_df"
   ]
  },
  {
   "cell_type": "code",
   "execution_count": null,
   "metadata": {
    "colab": {
     "base_uri": "https://localhost:8080/",
     "height": 81
    },
    "executionInfo": {
     "elapsed": 425,
     "status": "ok",
     "timestamp": 1641062928996,
     "user": {
      "displayName": "Reese Petersen",
      "photoUrl": "https://lh3.googleusercontent.com/a-/AOh14GilYfQBt5zDDu0nMk3qcy8iA5YnGwo4aYUgr-ub=s64",
      "userId": "13136232261893056527"
     },
     "user_tz": 360
    },
    "id": "_M8q1M7392WX",
    "outputId": "6b210eac-629a-4d5a-c523-acafddbb00de"
   },
   "outputs": [],
   "source": [
    "all_features_reset_df = all_features_df.reset_index()\n",
    "all_features_scores_df = pd.DataFrame(all_features_reset_df.pivot(columns='index', values='score').max()).transpose()\n",
    "all_features_scores_df.index = ['all features']\n",
    "all_features_scores_df"
   ]
  },
  {
   "cell_type": "code",
   "execution_count": null,
   "metadata": {
    "colab": {
     "base_uri": "https://localhost:8080/",
     "height": 81
    },
    "executionInfo": {
     "elapsed": 128,
     "status": "ok",
     "timestamp": 1641062930104,
     "user": {
      "displayName": "Reese Petersen",
      "photoUrl": "https://lh3.googleusercontent.com/a-/AOh14GilYfQBt5zDDu0nMk3qcy8iA5YnGwo4aYUgr-ub=s64",
      "userId": "13136232261893056527"
     },
     "user_tz": 360
    },
    "id": "wu7-gAjF-Cp9",
    "outputId": "cc672122-1a43-44bf-ed47-10db600a3651"
   },
   "outputs": [],
   "source": [
    "no_race_tuned_reset_df = no_race_tuned_df.reset_index()\n",
    "no_race_tuned_scores_df = pd.DataFrame(no_race_tuned_reset_df.pivot(columns='index', values='score').max()).transpose()\n",
    "no_race_tuned_scores_df.index = ['no race tuned']\n",
    "no_race_tuned_scores_df"
   ]
  },
  {
   "cell_type": "code",
   "execution_count": null,
   "metadata": {},
   "outputs": [],
   "source": [
    "all_features_tuned_scores_df = pd.DataFrame(data=[[np.nan, np.nan, 0.5426, 0.5312]], columns=['GBC','LR','RFC','SVC'])\n",
    "all_features_tuned_scores_df.index = ['all features tuned']\n",
    "all_features_tuned_scores_df"
   ]
  },
  {
   "cell_type": "code",
   "execution_count": null,
   "metadata": {
    "colab": {
     "base_uri": "https://localhost:8080/",
     "height": 206
    },
    "executionInfo": {
     "elapsed": 148,
     "status": "ok",
     "timestamp": 1641067138175,
     "user": {
      "displayName": "Reese Petersen",
      "photoUrl": "https://lh3.googleusercontent.com/a-/AOh14GilYfQBt5zDDu0nMk3qcy8iA5YnGwo4aYUgr-ub=s64",
      "userId": "13136232261893056527"
     },
     "user_tz": 360
    },
    "id": "TCcNQS0PNuQm",
    "outputId": "6582f25a-3d4f-466f-b215-5182bc490e25"
   },
   "outputs": [],
   "source": [
    "scores_df = no_demo_scores_df.append(no_race_scores_df)\n",
    "scores_df = scores_df.append(no_race_tuned_scores_df)\n",
    "scores_df = scores_df.append(all_features_scores_df)\n",
    "scores_df = scores_df.append(all_features_tuned_scores_df)\n",
    "scores_df"
   ]
  },
  {
   "cell_type": "code",
   "execution_count": null,
   "metadata": {
    "colab": {
     "base_uri": "https://localhost:8080/",
     "height": 337
    },
    "executionInfo": {
     "elapsed": 561,
     "status": "ok",
     "timestamp": 1641067227268,
     "user": {
      "displayName": "Reese Petersen",
      "photoUrl": "https://lh3.googleusercontent.com/a-/AOh14GilYfQBt5zDDu0nMk3qcy8iA5YnGwo4aYUgr-ub=s64",
      "userId": "13136232261893056527"
     },
     "user_tz": 360
    },
    "id": "QqX-RNBfOVXd",
    "outputId": "8d4e4cb4-6478-450c-d95e-ed955a67fb52"
   },
   "outputs": [],
   "source": [
    "plt.figure(figsize=(8,5))\n",
    "scoreplot = sns.scatterplot(data=scores_df, s=100)\n",
    "scoreplot.set(ylabel='score')"
   ]
  },
  {
   "cell_type": "markdown",
   "metadata": {
    "id": "Faj6mB3OgtQR",
    "jp-MarkdownHeadingCollapsed": true,
    "tags": []
   },
   "source": [
    "# Tuning Feature Selection"
   ]
  },
  {
   "cell_type": "code",
   "execution_count": null,
   "metadata": {
    "id": "WtC82Q1elsM9"
   },
   "outputs": [],
   "source": [
    "def corr_limit_score(full_df, target, model, corrlist, n=5):\n",
    "  df_data = []\n",
    "  for cor in corrlist:\n",
    "    smaller_df = drop_high_corr(full_df, target, corr_limit=cor)\n",
    "    X_cols = [col for col in smaller_df.columns.to_list() if col not in non_X_cols]\n",
    "    n_feats = len(X_cols)\n",
    "    X = smaller_df[X_cols]\n",
    "    score = cross_val_avg(model, X, y, n)\n",
    "    df_data.append([cor, score, n_feats])\n",
    "  return pd.DataFrame(data=df_data, columns=['Correlation Limit', 'Average Score', 'n_features'])"
   ]
  },
  {
   "cell_type": "code",
   "execution_count": null,
   "metadata": {
    "id": "IU1hSMp9lQP3"
   },
   "outputs": [],
   "source": [
    "warnings.filterwarnings(\"ignore\", category=DeprecationWarning)\n",
    "corrlist = [0.8, 0.9, 0.95, 0.98, 0.99]\n",
    "corr_scores_df = corr_limit_score(county_data_2018_df, 'Property Crime Rate', RandomForestClassifier(), corrlist)"
   ]
  },
  {
   "cell_type": "code",
   "execution_count": null,
   "metadata": {
    "id": "RBuc1ze3dcNV"
   },
   "outputs": [],
   "source": [
    "corrlist = [0.7, 0.85, 0.93, 0.97]\n",
    "df = corr_limit_score(county_data_2018_df, 'Property Crime Rate', RandomForestClassifier(), corrlist)\n",
    "corr_scores_df = corr_scores_df.append(df, ignore_index=True)"
   ]
  },
  {
   "cell_type": "code",
   "execution_count": null,
   "metadata": {
    "id": "j7-0CXM_f9PV"
   },
   "outputs": [],
   "source": [
    "corrlist = [0.5, 0.55, 0.6, 0.65, 0.75]\n",
    "df = corr_limit_score(county_data_2018_df, 'Property Crime Rate', RandomForestClassifier(), corrlist)\n",
    "corr_scores_df = corr_scores_df.append(df, ignore_index=True)"
   ]
  },
  {
   "cell_type": "code",
   "execution_count": null,
   "metadata": {
    "id": "hJUHzLsoq38P"
   },
   "outputs": [],
   "source": [
    "corrlist = [0.3, 0.35, 0.4, 0.45]\n",
    "df = corr_limit_score(county_data_2018_df, 'Property Crime Rate', RandomForestClassifier(), corrlist)\n",
    "corr_scores_df = corr_scores_df.append(df, ignore_index=True)"
   ]
  },
  {
   "cell_type": "code",
   "execution_count": null,
   "metadata": {
    "colab": {
     "base_uri": "https://localhost:8080/",
     "height": 614
    },
    "executionInfo": {
     "elapsed": 176,
     "status": "ok",
     "timestamp": 1641074959006,
     "user": {
      "displayName": "Reese Petersen",
      "photoUrl": "https://lh3.googleusercontent.com/a-/AOh14GilYfQBt5zDDu0nMk3qcy8iA5YnGwo4aYUgr-ub=s64",
      "userId": "13136232261893056527"
     },
     "user_tz": 360
    },
    "id": "2YDCZWSiehVu",
    "outputId": "f603b246-045e-44fa-aa58-3bec9fe4abdd"
   },
   "outputs": [],
   "source": [
    "corr_scores_df.sort_values(by='Correlation Limit')"
   ]
  },
  {
   "cell_type": "code",
   "execution_count": null,
   "metadata": {
    "colab": {
     "base_uri": "https://localhost:8080/",
     "height": 304
    },
    "executionInfo": {
     "elapsed": 792,
     "status": "ok",
     "timestamp": 1641076139580,
     "user": {
      "displayName": "Reese Petersen",
      "photoUrl": "https://lh3.googleusercontent.com/a-/AOh14GilYfQBt5zDDu0nMk3qcy8iA5YnGwo4aYUgr-ub=s64",
      "userId": "13136232261893056527"
     },
     "user_tz": 360
    },
    "id": "nZsT3yfLfpHE",
    "outputId": "83aae025-23b8-4f69-ff0f-fc3b680f6117"
   },
   "outputs": [],
   "source": [
    "plt.rc('axes', titlesize=16)\n",
    "plt.rc('axes', labelsize=16)\n",
    "plt.rc('xtick', labelsize=12)\n",
    "plt.rc('ytick', labelsize=12)\n",
    "sns.scatterplot(data=corr_scores_df, x='Correlation Limit', y='Average Score')"
   ]
  },
  {
   "cell_type": "code",
   "execution_count": null,
   "metadata": {
    "id": "J73ut3a5lC0I"
   },
   "outputs": [],
   "source": [
    "corrlist = [0.8, 0.9, 0.95, 0.98, 0.99]\n",
    "corr_scores_svc_df = corr_limit_score(county_data_2018_df, 'Property Crime Rate', svm.SVC(), corrlist)"
   ]
  },
  {
   "cell_type": "code",
   "execution_count": null,
   "metadata": {
    "id": "W1oP8GEvs7oQ"
   },
   "outputs": [],
   "source": [
    "corrlist = [0.7, 0.85, 0.93, 0.97]\n",
    "df = corr_limit_score(county_data_2018_df, 'Property Crime Rate', svm.SVC(), corrlist)\n",
    "corr_scores_svc_df = corr_scores_svc_df.append(df, ignore_index=True)"
   ]
  },
  {
   "cell_type": "code",
   "execution_count": null,
   "metadata": {
    "id": "Ll9Qa_9JtwIz"
   },
   "outputs": [],
   "source": [
    "corrlist = [0.3, 0.35, 0.4, 0.45, 0.5, 0.55, 0.6, 0.65, 0.75]\n",
    "df = corr_limit_score(county_data_2018_df, 'Property Crime Rate', svm.SVC(), corrlist)\n",
    "corr_scores_svc_df = corr_scores_svc_df.append(df, ignore_index=True)"
   ]
  },
  {
   "cell_type": "code",
   "execution_count": null,
   "metadata": {
    "colab": {
     "base_uri": "https://localhost:8080/",
     "height": 304
    },
    "executionInfo": {
     "elapsed": 338,
     "status": "ok",
     "timestamp": 1641076226576,
     "user": {
      "displayName": "Reese Petersen",
      "photoUrl": "https://lh3.googleusercontent.com/a-/AOh14GilYfQBt5zDDu0nMk3qcy8iA5YnGwo4aYUgr-ub=s64",
      "userId": "13136232261893056527"
     },
     "user_tz": 360
    },
    "id": "m8hCApSOuJWK",
    "outputId": "9ef14e6f-4ff1-4e01-d330-1ae758ea051d"
   },
   "outputs": [],
   "source": [
    "sns.scatterplot(data=corr_scores_svc_df, x='Correlation Limit', y='Average Score')"
   ]
  },
  {
   "cell_type": "code",
   "execution_count": null,
   "metadata": {
    "colab": {
     "base_uri": "https://localhost:8080/"
    },
    "executionInfo": {
     "elapsed": 153334,
     "status": "ok",
     "timestamp": 1641090758476,
     "user": {
      "displayName": "Reese Petersen",
      "photoUrl": "https://lh3.googleusercontent.com/a-/AOh14GilYfQBt5zDDu0nMk3qcy8iA5YnGwo4aYUgr-ub=s64",
      "userId": "13136232261893056527"
     },
     "user_tz": 360
    },
    "id": "gtgHQNRanRif",
    "outputId": "e9383248-18aa-40ff-da6f-a52757e2f5c0"
   },
   "outputs": [],
   "source": [
    "X_all = county_data_2018_df[all_X_cols]\n",
    "cross_val_avg(RandomForestClassifier(max_depth=10, min_samples_leaf=6), X_all, y, n=15)"
   ]
  },
  {
   "cell_type": "markdown",
   "metadata": {
    "tags": []
   },
   "source": [
    "# Choropleths"
   ]
  },
  {
   "cell_type": "code",
   "execution_count": null,
   "metadata": {},
   "outputs": [],
   "source": [
    "rfc_no_bias = RandomForestClassifier(n_estimators=1000, max_depth=10, min_samples_leaf=6)\n",
    "#X_all = county_data_2018_df[no_race_X_cols]\n",
    "rfc_no_bias.fit(county_data_2018_df[no_race_X_cols], y)\n",
    "no_race_2019_X_cols = [col for col in county_data_2019_df.columns.to_list() if col not in all_race_cols and col not in non_X_cols]\n",
    "X_test = county_data_2019_df[no_race_2019_X_cols]\n",
    "y_test = county_data_2019_df['Property Crime Rate'].apply(lambda x: crime_level(x, q1, q2))\n",
    "y_pred = rfc_no_bias.predict(X_test)\n",
    "(y_test == y_pred).sum()/len(y_test)"
   ]
  },
  {
   "cell_type": "code",
   "execution_count": null,
   "metadata": {
    "colab": {
     "base_uri": "https://localhost:8080/"
    },
    "executionInfo": {
     "elapsed": 4301,
     "status": "ok",
     "timestamp": 1641093320966,
     "user": {
      "displayName": "Reese Petersen",
      "photoUrl": "https://lh3.googleusercontent.com/a-/AOh14GilYfQBt5zDDu0nMk3qcy8iA5YnGwo4aYUgr-ub=s64",
      "userId": "13136232261893056527"
     },
     "user_tz": 360
    },
    "id": "Jl4KrxPsog94",
    "outputId": "3e8d35d0-b920-418c-ebca-12fee8624f42"
   },
   "outputs": [],
   "source": [
    "rfc_final = RandomForestClassifier(n_estimators=1000, max_depth=10, min_samples_leaf=6)\n",
    "X_all = county_data_2018_df[all_X_cols]\n",
    "rfc_final.fit(X_all, y)\n",
    "all_2019_X_cols = [col for col in county_data_2019_df.columns.to_list() if col not in non_X_cols]\n",
    "X_test = county_data_2019_df[all_2019_X_cols]\n",
    "y_test = county_data_2019_df['Property Crime Rate'].apply(lambda x: crime_level(x, q1, q2))\n",
    "y_pred = rfc_final.predict(X_test)\n",
    "(y_test == y_pred).sum()/len(y_test)"
   ]
  },
  {
   "cell_type": "code",
   "execution_count": null,
   "metadata": {
    "executionInfo": {
     "elapsed": 171,
     "status": "ok",
     "timestamp": 1641093634830,
     "user": {
      "displayName": "Reese Petersen",
      "photoUrl": "https://lh3.googleusercontent.com/a-/AOh14GilYfQBt5zDDu0nMk3qcy8iA5YnGwo4aYUgr-ub=s64",
      "userId": "13136232261893056527"
     },
     "user_tz": 360
    },
    "id": "4lD1MO1jynZy"
   },
   "outputs": [],
   "source": [
    "import plotly.express as px"
   ]
  },
  {
   "cell_type": "code",
   "execution_count": null,
   "metadata": {
    "colab": {
     "base_uri": "https://localhost:8080/",
     "height": 582
    },
    "executionInfo": {
     "elapsed": 148,
     "status": "error",
     "timestamp": 1641093635667,
     "user": {
      "displayName": "Reese Petersen",
      "photoUrl": "https://lh3.googleusercontent.com/a-/AOh14GilYfQBt5zDDu0nMk3qcy8iA5YnGwo4aYUgr-ub=s64",
      "userId": "13136232261893056527"
     },
     "user_tz": 360
    },
    "id": "zG3lwLtdtj-F",
    "outputId": "61703db5-ab25-4bb8-a78a-4e24a4a0ad77"
   },
   "outputs": [],
   "source": [
    "from urllib.request import urlopen\n",
    "import json\n",
    "with urlopen('https://raw.githubusercontent.com/plotly/datasets/master/geojson-counties-fips.json') as response:\n",
    "    counties = json.load(response)"
   ]
  },
  {
   "cell_type": "code",
   "execution_count": null,
   "metadata": {},
   "outputs": [],
   "source": [
    "county_data_2019_df['GeoFips'] = county_data_2019_df['GeoFips'].apply(lambda x: str(x) if len(str(x)) == 5 else f'0{str(x)}')"
   ]
  },
  {
   "cell_type": "code",
   "execution_count": null,
   "metadata": {},
   "outputs": [],
   "source": [
    "fig = px.choropleth(county_data_2019_df, geojson=counties, locations='GeoFips', color='Property Crime Rate', color_continuous_scale='Bluered', scope='usa', width=1000, height=500)\n",
    "fig.show()"
   ]
  },
  {
   "cell_type": "code",
   "execution_count": null,
   "metadata": {
    "id": "almlesGOzHnd"
   },
   "outputs": [],
   "source": [
    "y_test_geo = pd.DataFrame()\n",
    "y_test_geo['fips'] = county_data_2019_df['GeoFips']\n",
    "y_test_geo['Property Crime Rate'] = y_test\n",
    "fig = px.choropleth(y_test_geo, geojson=counties, locations='fips', color='Property Crime Rate', color_discrete_sequence=['orange','blue','red'], scope='usa', width=1000, height=500)\n",
    "fig.show()"
   ]
  },
  {
   "cell_type": "code",
   "execution_count": null,
   "metadata": {},
   "outputs": [],
   "source": [
    "y_pred_geo = pd.DataFrame()\n",
    "y_pred_geo['fips'] = county_data_2019_df['GeoFips']\n",
    "y_pred_geo['Predicted Property Crime Rate'] = y_pred\n",
    "fig = px.choropleth(y_pred_geo, geojson=counties, locations='fips', color='Predicted Property Crime Rate', color_discrete_sequence=['orange','blue','red'], scope='usa', width=1000, height=500)\n",
    "fig.show()"
   ]
  },
  {
   "cell_type": "code",
   "execution_count": null,
   "metadata": {},
   "outputs": [],
   "source": [
    "y_err = pd.DataFrame()\n",
    "y_err['fips'] = county_data_2019_df['GeoFips']\n",
    "y_err['Property Crime Level'] = y_test\n",
    "y_err['Predicted Property Crime Level'] = y_pred"
   ]
  },
  {
   "cell_type": "code",
   "execution_count": null,
   "metadata": {},
   "outputs": [],
   "source": [
    "cld = {\n",
    "    'low':1,\n",
    "    'moderate':2,\n",
    "    'high':3\n",
    "}\n",
    "def get_error(pred, actual):\n",
    "    return cld[pred] - cld[actual]"
   ]
  },
  {
   "cell_type": "code",
   "execution_count": null,
   "metadata": {},
   "outputs": [],
   "source": [
    "y_err['PCL Prediction Error'] = y_err.apply(lambda row: get_error(row['Predicted Property Crime Level'], row['Property Crime Level']), axis=1)"
   ]
  },
  {
   "cell_type": "code",
   "execution_count": null,
   "metadata": {},
   "outputs": [],
   "source": [
    "fig = px.choropleth(y_err, geojson=counties, locations='fips', color='PCL Prediction Error', color_continuous_scale=['blue','cyan','green','orange','red'], scope='usa', width=1000, height=500)\n",
    "fig.show()"
   ]
  },
  {
   "cell_type": "markdown",
   "metadata": {
    "jp-MarkdownHeadingCollapsed": true,
    "tags": []
   },
   "source": [
    "# Where does it miss?"
   ]
  },
  {
   "cell_type": "code",
   "execution_count": null,
   "metadata": {},
   "outputs": [],
   "source": [
    "y_err['State'] = county_data_2019_df['State'].map(us_state_to_abbrev)"
   ]
  },
  {
   "cell_type": "code",
   "execution_count": null,
   "metadata": {},
   "outputs": [],
   "source": [
    "state_errors = y_err.groupby(by='State').sum()/y_err.groupby(by='State').count()"
   ]
  },
  {
   "cell_type": "code",
   "execution_count": null,
   "metadata": {},
   "outputs": [],
   "source": [
    "state_errors = state_errors.reset_index()[['State','PCL Prediction Error']]"
   ]
  },
  {
   "cell_type": "code",
   "execution_count": null,
   "metadata": {},
   "outputs": [],
   "source": [
    "fig = px.choropleth(state_errors, locations='State', locationmode='USA-states', color='PCL Prediction Error', color_continuous_scale='Viridis', scope='usa', width=1000, height=500)\n",
    "fig.show()"
   ]
  },
  {
   "cell_type": "code",
   "execution_count": null,
   "metadata": {},
   "outputs": [],
   "source": [
    "error_2_fips = y_err[y_err['PCL Prediction Error'] == 2]['fips']\n",
    "error_minus2_fips = y_err[y_err['PCL Prediction Error'] == -2]['fips']"
   ]
  },
  {
   "cell_type": "code",
   "execution_count": null,
   "metadata": {},
   "outputs": [],
   "source": [
    "err_2_counties_df = pd.merge(county_data_2019_df, error_2_fips, left_on='GeoFips', right_on='fips')"
   ]
  },
  {
   "cell_type": "code",
   "execution_count": null,
   "metadata": {},
   "outputs": [],
   "source": [
    "feat_importance_df = pd.DataFrame()\n",
    "feat_importance_df['feature'] = rfc_final.feature_names_in_\n",
    "feat_importance_df['importance'] = rfc_final.feature_importances_\n",
    "feat_import_sorted_df = feat_importance_df.sort_values(by='importance', ascending=False).reset_index(drop=True)\n",
    "feat_import_sorted_df.head(10)"
   ]
  },
  {
   "cell_type": "code",
   "execution_count": null,
   "metadata": {},
   "outputs": [],
   "source": [
    "plt.rc('axes', titlesize=16)\n",
    "plt.rc('axes', labelsize=16)\n",
    "plt.rc('xtick', labelsize=12)\n",
    "plt.rc('ytick', labelsize=12)\n",
    "plt.figure(figsize=(8,5))\n",
    "feat_import_plot = sns.lineplot(data=feat_import_sorted_df)\n",
    "plt.title('Feature Importance, final RFC')"
   ]
  },
  {
   "cell_type": "markdown",
   "metadata": {},
   "source": [
    "Extensions:\n",
    "\n",
    "Compared to other countries, does the unbiased model generalize better?\n",
    "\n",
    "Where does the model overestimate, where does it understimate? Does anything set these counties apart?\n",
    "\n",
    "Instead of population, use population density."
   ]
  },
  {
   "cell_type": "code",
   "execution_count": null,
   "metadata": {},
   "outputs": [],
   "source": []
  }
 ],
 "metadata": {
  "colab": {
   "authorship_tag": "ABX9TyOX+zuhGFo3K3xP7yKpDSrl",
   "collapsed_sections": [],
   "mount_file_id": "1zKiiDX4GlTxt2oDgAgHui381arlCD7cP",
   "name": "Crime_by_County.ipynb",
   "provenance": []
  },
  "kernelspec": {
   "display_name": "Python 3 (ipykernel)",
   "language": "python",
   "name": "python3"
  },
  "language_info": {
   "codemirror_mode": {
    "name": "ipython",
    "version": 3
   },
   "file_extension": ".py",
   "mimetype": "text/x-python",
   "name": "python",
   "nbconvert_exporter": "python",
   "pygments_lexer": "ipython3",
   "version": "3.8.10"
  }
 },
 "nbformat": 4,
 "nbformat_minor": 4
}
